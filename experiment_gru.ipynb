<!DOCTYPE html>
<html>
<head><meta charset="utf-8" />

<title>Expr14-GRU</title>

<script src="https://cdnjs.cloudflare.com/ajax/libs/require.js/2.1.10/require.min.js"></script>
<script src="https://cdnjs.cloudflare.com/ajax/libs/jquery/2.0.3/jquery.min.js"></script>



<style type="text/css">
    /*!
*
* Twitter Bootstrap
*
*/
/*!
 * Bootstrap v3.3.7 (http://getbootstrap.com)
 * Copyright 2011-2016 Twitter, Inc.
 * Licensed under MIT (https://github.com/twbs/bootstrap/blob/master/LICENSE)
 */
/*! normalize.css v3.0.3 | MIT License | github.com/necolas/normalize.css */
html {
  font-family: sans-serif;
  -ms-text-size-adjust: 100%;
  -webkit-text-size-adjust: 100%;
}
body {
  margin: 0;
}
article,
aside,
details,
figcaption,
figure,
footer,
header,
hgroup,
main,
menu,
nav,
section,
summary {
  display: block;
}
audio,
canvas,
progress,
video {
  display: inline-block;
  vertical-align: baseline;
}
audio:not([controls]) {
  display: none;
  height: 0;
}
[hidden],
template {
  display: none;
}
a {
  background-color: transparent;
}
a:active,
a:hover {
  outline: 0;
}
abbr[title] {
  border-bottom: 1px dotted;
}
b,
strong {
  font-weight: bold;
}
dfn {
  font-style: italic;
}
h1 {
  font-size: 2em;
  margin: 0.67em 0;
}
mark {
  background: #ff0;
  color: #000;
}
small {
  font-size: 80%;
}
sub,
sup {
  font-size: 75%;
  line-height: 0;
  position: relative;
  vertical-align: baseline;
}
sup {
  top: -0.5em;
}
sub {
  bottom: -0.25em;
}
img {
  border: 0;
}
svg:not(:root) {
  overflow: hidden;
}
figure {
  margin: 1em 40px;
}
hr {
  box-sizing: content-box;
  height: 0;
}
pre {
  overflow: auto;
}
code,
kbd,
pre,
samp {
  font-family: monospace, monospace;
  font-size: 1em;
}
button,
input,
optgroup,
select,
textarea {
  color: inherit;
  font: inherit;
  margin: 0;
}
button {
  overflow: visible;
}
button,
select {
  text-transform: none;
}
button,
html input[type="button"],
input[type="reset"],
input[type="submit"] {
  -webkit-appearance: button;
  cursor: pointer;
}
button[disabled],
html input[disabled] {
  cursor: default;
}
button::-moz-focus-inner,
input::-moz-focus-inner {
  border: 0;
  padding: 0;
}
input {
  line-height: normal;
}
input[type="checkbox"],
input[type="radio"] {
  box-sizing: border-box;
  padding: 0;
}
input[type="number"]::-webkit-inner-spin-button,
input[type="number"]::-webkit-outer-spin-button {
  height: auto;
}
input[type="search"] {
  -webkit-appearance: textfield;
  box-sizing: content-box;
}
input[type="search"]::-webkit-search-cancel-button,
input[type="search"]::-webkit-search-decoration {
  -webkit-appearance: none;
}
fieldset {
  border: 1px solid #c0c0c0;
  margin: 0 2px;
  padding: 0.35em 0.625em 0.75em;
}
legend {
  border: 0;
  padding: 0;
}
textarea {
  overflow: auto;
}
optgroup {
  font-weight: bold;
}
table {
  border-collapse: collapse;
  border-spacing: 0;
}
td,
th {
  padding: 0;
}
/*! Source: https://github.com/h5bp/html5-boilerplate/blob/master/src/css/main.css */
@media print {
  *,
  *:before,
  *:after {
    background: transparent !important;
    box-shadow: none !important;
    text-shadow: none !important;
  }
  a,
  a:visited {
    text-decoration: underline;
  }
  a[href]:after {
    content: " (" attr(href) ")";
  }
  abbr[title]:after {
    content: " (" attr(title) ")";
  }
  a[href^="#"]:after,
  a[href^="javascript:"]:after {
    content: "";
  }
  pre,
  blockquote {
    border: 1px solid #999;
    page-break-inside: avoid;
  }
  thead {
    display: table-header-group;
  }
  tr,
  img {
    page-break-inside: avoid;
  }
  img {
    max-width: 100% !important;
  }
  p,
  h2,
  h3 {
    orphans: 3;
    widows: 3;
  }
  h2,
  h3 {
    page-break-after: avoid;
  }
  .navbar {
    display: none;
  }
  .btn > .caret,
  .dropup > .btn > .caret {
    border-top-color: #000 !important;
  }
  .label {
    border: 1px solid #000;
  }
  .table {
    border-collapse: collapse !important;
  }
  .table td,
  .table th {
    background-color: #fff !important;
  }
  .table-bordered th,
  .table-bordered td {
    border: 1px solid #ddd !important;
  }
}
@font-face {
  font-family: 'Glyphicons Halflings';
  src: url('../components/bootstrap/fonts/glyphicons-halflings-regular.eot');
  src: url('../components/bootstrap/fonts/glyphicons-halflings-regular.eot?#iefix') format('embedded-opentype'), url('../components/bootstrap/fonts/glyphicons-halflings-regular.woff2') format('woff2'), url('../components/bootstrap/fonts/glyphicons-halflings-regular.woff') format('woff'), url('../components/bootstrap/fonts/glyphicons-halflings-regular.ttf') format('truetype'), url('../components/bootstrap/fonts/glyphicons-halflings-regular.svg#glyphicons_halflingsregular') format('svg');
}
.glyphicon {
  position: relative;
  top: 1px;
  display: inline-block;
  font-family: 'Glyphicons Halflings';
  font-style: normal;
  font-weight: normal;
  line-height: 1;
  -webkit-font-smoothing: antialiased;
  -moz-osx-font-smoothing: grayscale;
}
.glyphicon-asterisk:before {
  content: "\002a";
}
.glyphicon-plus:before {
  content: "\002b";
}
.glyphicon-euro:before,
.glyphicon-eur:before {
  content: "\20ac";
}
.glyphicon-minus:before {
  content: "\2212";
}
.glyphicon-cloud:before {
  content: "\2601";
}
.glyphicon-envelope:before {
  content: "\2709";
}
.glyphicon-pencil:before {
  content: "\270f";
}
.glyphicon-glass:before {
  content: "\e001";
}
.glyphicon-music:before {
  content: "\e002";
}
.glyphicon-search:before {
  content: "\e003";
}
.glyphicon-heart:before {
  content: "\e005";
}
.glyphicon-star:before {
  content: "\e006";
}
.glyphicon-star-empty:before {
  content: "\e007";
}
.glyphicon-user:before {
  content: "\e008";
}
.glyphicon-film:before {
  content: "\e009";
}
.glyphicon-th-large:before {
  content: "\e010";
}
.glyphicon-th:before {
  content: "\e011";
}
.glyphicon-th-list:before {
  content: "\e012";
}
.glyphicon-ok:before {
  content: "\e013";
}
.glyphicon-remove:before {
  content: "\e014";
}
.glyphicon-zoom-in:before {
  content: "\e015";
}
.glyphicon-zoom-out:before {
  content: "\e016";
}
.glyphicon-off:before {
  content: "\e017";
}
.glyphicon-signal:before {
  content: "\e018";
}
.glyphicon-cog:before {
  content: "\e019";
}
.glyphicon-trash:before {
  content: "\e020";
}
.glyphicon-home:before {
  content: "\e021";
}
.glyphicon-file:before {
  content: "\e022";
}
.glyphicon-time:before {
  content: "\e023";
}
.glyphicon-road:before {
  content: "\e024";
}
.glyphicon-download-alt:before {
  content: "\e025";
}
.glyphicon-download:before {
  content: "\e026";
}
.glyphicon-upload:before {
  content: "\e027";
}
.glyphicon-inbox:before {
  content: "\e028";
}
.glyphicon-play-circle:before {
  content: "\e029";
}
.glyphicon-repeat:before {
  content: "\e030";
}
.glyphicon-refresh:before {
  content: "\e031";
}
.glyphicon-list-alt:before {
  content: "\e032";
}
.glyphicon-lock:before {
  content: "\e033";
}
.glyphicon-flag:before {
  content: "\e034";
}
.glyphicon-headphones:before {
  content: "\e035";
}
.glyphicon-volume-off:before {
  content: "\e036";
}
.glyphicon-volume-down:before {
  content: "\e037";
}
.glyphicon-volume-up:before {
  content: "\e038";
}
.glyphicon-qrcode:before {
  content: "\e039";
}
.glyphicon-barcode:before {
  content: "\e040";
}
.glyphicon-tag:before {
  content: "\e041";
}
.glyphicon-tags:before {
  content: "\e042";
}
.glyphicon-book:before {
  content: "\e043";
}
.glyphicon-bookmark:before {
  content: "\e044";
}
.glyphicon-print:before {
  content: "\e045";
}
.glyphicon-camera:before {
  content: "\e046";
}
.glyphicon-font:before {
  content: "\e047";
}
.glyphicon-bold:before {
  content: "\e048";
}
.glyphicon-italic:before {
  content: "\e049";
}
.glyphicon-text-height:before {
  content: "\e050";
}
.glyphicon-text-width:before {
  content: "\e051";
}
.glyphicon-align-left:before {
  content: "\e052";
}
.glyphicon-align-center:before {
  content: "\e053";
}
.glyphicon-align-right:before {
  content: "\e054";
}
.glyphicon-align-justify:before {
  content: "\e055";
}
.glyphicon-list:before {
  content: "\e056";
}
.glyphicon-indent-left:before {
  content: "\e057";
}
.glyphicon-indent-right:before {
  content: "\e058";
}
.glyphicon-facetime-video:before {
  content: "\e059";
}
.glyphicon-picture:before {
  content: "\e060";
}
.glyphicon-map-marker:before {
  content: "\e062";
}
.glyphicon-adjust:before {
  content: "\e063";
}
.glyphicon-tint:before {
  content: "\e064";
}
.glyphicon-edit:before {
  content: "\e065";
}
.glyphicon-share:before {
  content: "\e066";
}
.glyphicon-check:before {
  content: "\e067";
}
.glyphicon-move:before {
  content: "\e068";
}
.glyphicon-step-backward:before {
  content: "\e069";
}
.glyphicon-fast-backward:before {
  content: "\e070";
}
.glyphicon-backward:before {
  content: "\e071";
}
.glyphicon-play:before {
  content: "\e072";
}
.glyphicon-pause:before {
  content: "\e073";
}
.glyphicon-stop:before {
  content: "\e074";
}
.glyphicon-forward:before {
  content: "\e075";
}
.glyphicon-fast-forward:before {
  content: "\e076";
}
.glyphicon-step-forward:before {
  content: "\e077";
}
.glyphicon-eject:before {
  content: "\e078";
}
.glyphicon-chevron-left:before {
  content: "\e079";
}
.glyphicon-chevron-right:before {
  content: "\e080";
}
.glyphicon-plus-sign:before {
  content: "\e081";
}
.glyphicon-minus-sign:before {
  content: "\e082";
}
.glyphicon-remove-sign:before {
  content: "\e083";
}
.glyphicon-ok-sign:before {
  content: "\e084";
}
.glyphicon-question-sign:before {
  content: "\e085";
}
.glyphicon-info-sign:before {
  content: "\e086";
}
.glyphicon-screenshot:before {
  content: "\e087";
}
.glyphicon-remove-circle:before {
  content: "\e088";
}
.glyphicon-ok-circle:before {
  content: "\e089";
}
.glyphicon-ban-circle:before {
  content: "\e090";
}
.glyphicon-arrow-left:before {
  content: "\e091";
}
.glyphicon-arrow-right:before {
  content: "\e092";
}
.glyphicon-arrow-up:before {
  content: "\e093";
}
.glyphicon-arrow-down:before {
  content: "\e094";
}
.glyphicon-share-alt:before {
  content: "\e095";
}
.glyphicon-resize-full:before {
  content: "\e096";
}
.glyphicon-resize-small:before {
  content: "\e097";
}
.glyphicon-exclamation-sign:before {
  content: "\e101";
}
.glyphicon-gift:before {
  content: "\e102";
}
.glyphicon-leaf:before {
  content: "\e103";
}
.glyphicon-fire:before {
  content: "\e104";
}
.glyphicon-eye-open:before {
  content: "\e105";
}
.glyphicon-eye-close:before {
  content: "\e106";
}
.glyphicon-warning-sign:before {
  content: "\e107";
}
.glyphicon-plane:before {
  content: "\e108";
}
.glyphicon-calendar:before {
  content: "\e109";
}
.glyphicon-random:before {
  content: "\e110";
}
.glyphicon-comment:before {
  content: "\e111";
}
.glyphicon-magnet:before {
  content: "\e112";
}
.glyphicon-chevron-up:before {
  content: "\e113";
}
.glyphicon-chevron-down:before {
  content: "\e114";
}
.glyphicon-retweet:before {
  content: "\e115";
}
.glyphicon-shopping-cart:before {
  content: "\e116";
}
.glyphicon-folder-close:before {
  content: "\e117";
}
.glyphicon-folder-open:before {
  content: "\e118";
}
.glyphicon-resize-vertical:before {
  content: "\e119";
}
.glyphicon-resize-horizontal:before {
  content: "\e120";
}
.glyphicon-hdd:before {
  content: "\e121";
}
.glyphicon-bullhorn:before {
  content: "\e122";
}
.glyphicon-bell:before {
  content: "\e123";
}
.glyphicon-certificate:before {
  content: "\e124";
}
.glyphicon-thumbs-up:before {
  content: "\e125";
}
.glyphicon-thumbs-down:before {
  content: "\e126";
}
.glyphicon-hand-right:before {
  content: "\e127";
}
.glyphicon-hand-left:before {
  content: "\e128";
}
.glyphicon-hand-up:before {
  content: "\e129";
}
.glyphicon-hand-down:before {
  content: "\e130";
}
.glyphicon-circle-arrow-right:before {
  content: "\e131";
}
.glyphicon-circle-arrow-left:before {
  content: "\e132";
}
.glyphicon-circle-arrow-up:before {
  content: "\e133";
}
.glyphicon-circle-arrow-down:before {
  content: "\e134";
}
.glyphicon-globe:before {
  content: "\e135";
}
.glyphicon-wrench:before {
  content: "\e136";
}
.glyphicon-tasks:before {
  content: "\e137";
}
.glyphicon-filter:before {
  content: "\e138";
}
.glyphicon-briefcase:before {
  content: "\e139";
}
.glyphicon-fullscreen:before {
  content: "\e140";
}
.glyphicon-dashboard:before {
  content: "\e141";
}
.glyphicon-paperclip:before {
  content: "\e142";
}
.glyphicon-heart-empty:before {
  content: "\e143";
}
.glyphicon-link:before {
  content: "\e144";
}
.glyphicon-phone:before {
  content: "\e145";
}
.glyphicon-pushpin:before {
  content: "\e146";
}
.glyphicon-usd:before {
  content: "\e148";
}
.glyphicon-gbp:before {
  content: "\e149";
}
.glyphicon-sort:before {
  content: "\e150";
}
.glyphicon-sort-by-alphabet:before {
  content: "\e151";
}
.glyphicon-sort-by-alphabet-alt:before {
  content: "\e152";
}
.glyphicon-sort-by-order:before {
  content: "\e153";
}
.glyphicon-sort-by-order-alt:before {
  content: "\e154";
}
.glyphicon-sort-by-attributes:before {
  content: "\e155";
}
.glyphicon-sort-by-attributes-alt:before {
  content: "\e156";
}
.glyphicon-unchecked:before {
  content: "\e157";
}
.glyphicon-expand:before {
  content: "\e158";
}
.glyphicon-collapse-down:before {
  content: "\e159";
}
.glyphicon-collapse-up:before {
  content: "\e160";
}
.glyphicon-log-in:before {
  content: "\e161";
}
.glyphicon-flash:before {
  content: "\e162";
}
.glyphicon-log-out:before {
  content: "\e163";
}
.glyphicon-new-window:before {
  content: "\e164";
}
.glyphicon-record:before {
  content: "\e165";
}
.glyphicon-save:before {
  content: "\e166";
}
.glyphicon-open:before {
  content: "\e167";
}
.glyphicon-saved:before {
  content: "\e168";
}
.glyphicon-import:before {
  content: "\e169";
}
.glyphicon-export:before {
  content: "\e170";
}
.glyphicon-send:before {
  content: "\e171";
}
.glyphicon-floppy-disk:before {
  content: "\e172";
}
.glyphicon-floppy-saved:before {
  content: "\e173";
}
.glyphicon-floppy-remove:before {
  content: "\e174";
}
.glyphicon-floppy-save:before {
  content: "\e175";
}
.glyphicon-floppy-open:before {
  content: "\e176";
}
.glyphicon-credit-card:before {
  content: "\e177";
}
.glyphicon-transfer:before {
  content: "\e178";
}
.glyphicon-cutlery:before {
  content: "\e179";
}
.glyphicon-header:before {
  content: "\e180";
}
.glyphicon-compressed:before {
  content: "\e181";
}
.glyphicon-earphone:before {
  content: "\e182";
}
.glyphicon-phone-alt:before {
  content: "\e183";
}
.glyphicon-tower:before {
  content: "\e184";
}
.glyphicon-stats:before {
  content: "\e185";
}
.glyphicon-sd-video:before {
  content: "\e186";
}
.glyphicon-hd-video:before {
  content: "\e187";
}
.glyphicon-subtitles:before {
  content: "\e188";
}
.glyphicon-sound-stereo:before {
  content: "\e189";
}
.glyphicon-sound-dolby:before {
  content: "\e190";
}
.glyphicon-sound-5-1:before {
  content: "\e191";
}
.glyphicon-sound-6-1:before {
  content: "\e192";
}
.glyphicon-sound-7-1:before {
  content: "\e193";
}
.glyphicon-copyright-mark:before {
  content: "\e194";
}
.glyphicon-registration-mark:before {
  content: "\e195";
}
.glyphicon-cloud-download:before {
  content: "\e197";
}
.glyphicon-cloud-upload:before {
  content: "\e198";
}
.glyphicon-tree-conifer:before {
  content: "\e199";
}
.glyphicon-tree-deciduous:before {
  content: "\e200";
}
.glyphicon-cd:before {
  content: "\e201";
}
.glyphicon-save-file:before {
  content: "\e202";
}
.glyphicon-open-file:before {
  content: "\e203";
}
.glyphicon-level-up:before {
  content: "\e204";
}
.glyphicon-copy:before {
  content: "\e205";
}
.glyphicon-paste:before {
  content: "\e206";
}
.glyphicon-alert:before {
  content: "\e209";
}
.glyphicon-equalizer:before {
  content: "\e210";
}
.glyphicon-king:before {
  content: "\e211";
}
.glyphicon-queen:before {
  content: "\e212";
}
.glyphicon-pawn:before {
  content: "\e213";
}
.glyphicon-bishop:before {
  content: "\e214";
}
.glyphicon-knight:before {
  content: "\e215";
}
.glyphicon-baby-formula:before {
  content: "\e216";
}
.glyphicon-tent:before {
  content: "\26fa";
}
.glyphicon-blackboard:before {
  content: "\e218";
}
.glyphicon-bed:before {
  content: "\e219";
}
.glyphicon-apple:before {
  content: "\f8ff";
}
.glyphicon-erase:before {
  content: "\e221";
}
.glyphicon-hourglass:before {
  content: "\231b";
}
.glyphicon-lamp:before {
  content: "\e223";
}
.glyphicon-duplicate:before {
  content: "\e224";
}
.glyphicon-piggy-bank:before {
  content: "\e225";
}
.glyphicon-scissors:before {
  content: "\e226";
}
.glyphicon-bitcoin:before {
  content: "\e227";
}
.glyphicon-btc:before {
  content: "\e227";
}
.glyphicon-xbt:before {
  content: "\e227";
}
.glyphicon-yen:before {
  content: "\00a5";
}
.glyphicon-jpy:before {
  content: "\00a5";
}
.glyphicon-ruble:before {
  content: "\20bd";
}
.glyphicon-rub:before {
  content: "\20bd";
}
.glyphicon-scale:before {
  content: "\e230";
}
.glyphicon-ice-lolly:before {
  content: "\e231";
}
.glyphicon-ice-lolly-tasted:before {
  content: "\e232";
}
.glyphicon-education:before {
  content: "\e233";
}
.glyphicon-option-horizontal:before {
  content: "\e234";
}
.glyphicon-option-vertical:before {
  content: "\e235";
}
.glyphicon-menu-hamburger:before {
  content: "\e236";
}
.glyphicon-modal-window:before {
  content: "\e237";
}
.glyphicon-oil:before {
  content: "\e238";
}
.glyphicon-grain:before {
  content: "\e239";
}
.glyphicon-sunglasses:before {
  content: "\e240";
}
.glyphicon-text-size:before {
  content: "\e241";
}
.glyphicon-text-color:before {
  content: "\e242";
}
.glyphicon-text-background:before {
  content: "\e243";
}
.glyphicon-object-align-top:before {
  content: "\e244";
}
.glyphicon-object-align-bottom:before {
  content: "\e245";
}
.glyphicon-object-align-horizontal:before {
  content: "\e246";
}
.glyphicon-object-align-left:before {
  content: "\e247";
}
.glyphicon-object-align-vertical:before {
  content: "\e248";
}
.glyphicon-object-align-right:before {
  content: "\e249";
}
.glyphicon-triangle-right:before {
  content: "\e250";
}
.glyphicon-triangle-left:before {
  content: "\e251";
}
.glyphicon-triangle-bottom:before {
  content: "\e252";
}
.glyphicon-triangle-top:before {
  content: "\e253";
}
.glyphicon-console:before {
  content: "\e254";
}
.glyphicon-superscript:before {
  content: "\e255";
}
.glyphicon-subscript:before {
  content: "\e256";
}
.glyphicon-menu-left:before {
  content: "\e257";
}
.glyphicon-menu-right:before {
  content: "\e258";
}
.glyphicon-menu-down:before {
  content: "\e259";
}
.glyphicon-menu-up:before {
  content: "\e260";
}
* {
  -webkit-box-sizing: border-box;
  -moz-box-sizing: border-box;
  box-sizing: border-box;
}
*:before,
*:after {
  -webkit-box-sizing: border-box;
  -moz-box-sizing: border-box;
  box-sizing: border-box;
}
html {
  font-size: 10px;
  -webkit-tap-highlight-color: rgba(0, 0, 0, 0);
}
body {
  font-family: "Helvetica Neue", Helvetica, Arial, sans-serif;
  font-size: 13px;
  line-height: 1.42857143;
  color: #000;
  background-color: #fff;
}
input,
button,
select,
textarea {
  font-family: inherit;
  font-size: inherit;
  line-height: inherit;
}
a {
  color: #337ab7;
  text-decoration: none;
}
a:hover,
a:focus {
  color: #23527c;
  text-decoration: underline;
}
a:focus {
  outline: 5px auto -webkit-focus-ring-color;
  outline-offset: -2px;
}
figure {
  margin: 0;
}
img {
  vertical-align: middle;
}
.img-responsive,
.thumbnail > img,
.thumbnail a > img,
.carousel-inner > .item > img,
.carousel-inner > .item > a > img {
  display: block;
  max-width: 100%;
  height: auto;
}
.img-rounded {
  border-radius: 3px;
}
.img-thumbnail {
  padding: 4px;
  line-height: 1.42857143;
  background-color: #fff;
  border: 1px solid #ddd;
  border-radius: 2px;
  -webkit-transition: all 0.2s ease-in-out;
  -o-transition: all 0.2s ease-in-out;
  transition: all 0.2s ease-in-out;
  display: inline-block;
  max-width: 100%;
  height: auto;
}
.img-circle {
  border-radius: 50%;
}
hr {
  margin-top: 18px;
  margin-bottom: 18px;
  border: 0;
  border-top: 1px solid #eeeeee;
}
.sr-only {
  position: absolute;
  width: 1px;
  height: 1px;
  margin: -1px;
  padding: 0;
  overflow: hidden;
  clip: rect(0, 0, 0, 0);
  border: 0;
}
.sr-only-focusable:active,
.sr-only-focusable:focus {
  position: static;
  width: auto;
  height: auto;
  margin: 0;
  overflow: visible;
  clip: auto;
}
[role="button"] {
  cursor: pointer;
}
h1,
h2,
h3,
h4,
h5,
h6,
.h1,
.h2,
.h3,
.h4,
.h5,
.h6 {
  font-family: inherit;
  font-weight: 500;
  line-height: 1.1;
  color: inherit;
}
h1 small,
h2 small,
h3 small,
h4 small,
h5 small,
h6 small,
.h1 small,
.h2 small,
.h3 small,
.h4 small,
.h5 small,
.h6 small,
h1 .small,
h2 .small,
h3 .small,
h4 .small,
h5 .small,
h6 .small,
.h1 .small,
.h2 .small,
.h3 .small,
.h4 .small,
.h5 .small,
.h6 .small {
  font-weight: normal;
  line-height: 1;
  color: #777777;
}
h1,
.h1,
h2,
.h2,
h3,
.h3 {
  margin-top: 18px;
  margin-bottom: 9px;
}
h1 small,
.h1 small,
h2 small,
.h2 small,
h3 small,
.h3 small,
h1 .small,
.h1 .small,
h2 .small,
.h2 .small,
h3 .small,
.h3 .small {
  font-size: 65%;
}
h4,
.h4,
h5,
.h5,
h6,
.h6 {
  margin-top: 9px;
  margin-bottom: 9px;
}
h4 small,
.h4 small,
h5 small,
.h5 small,
h6 small,
.h6 small,
h4 .small,
.h4 .small,
h5 .small,
.h5 .small,
h6 .small,
.h6 .small {
  font-size: 75%;
}
h1,
.h1 {
  font-size: 33px;
}
h2,
.h2 {
  font-size: 27px;
}
h3,
.h3 {
  font-size: 23px;
}
h4,
.h4 {
  font-size: 17px;
}
h5,
.h5 {
  font-size: 13px;
}
h6,
.h6 {
  font-size: 12px;
}
p {
  margin: 0 0 9px;
}
.lead {
  margin-bottom: 18px;
  font-size: 14px;
  font-weight: 300;
  line-height: 1.4;
}
@media (min-width: 768px) {
  .lead {
    font-size: 19.5px;
  }
}
small,
.small {
  font-size: 92%;
}
mark,
.mark {
  background-color: #fcf8e3;
  padding: .2em;
}
.text-left {
  text-align: left;
}
.text-right {
  text-align: right;
}
.text-center {
  text-align: center;
}
.text-justify {
  text-align: justify;
}
.text-nowrap {
  white-space: nowrap;
}
.text-lowercase {
  text-transform: lowercase;
}
.text-uppercase {
  text-transform: uppercase;
}
.text-capitalize {
  text-transform: capitalize;
}
.text-muted {
  color: #777777;
}
.text-primary {
  color: #337ab7;
}
a.text-primary:hover,
a.text-primary:focus {
  color: #286090;
}
.text-success {
  color: #3c763d;
}
a.text-success:hover,
a.text-success:focus {
  color: #2b542c;
}
.text-info {
  color: #31708f;
}
a.text-info:hover,
a.text-info:focus {
  color: #245269;
}
.text-warning {
  color: #8a6d3b;
}
a.text-warning:hover,
a.text-warning:focus {
  color: #66512c;
}
.text-danger {
  color: #a94442;
}
a.text-danger:hover,
a.text-danger:focus {
  color: #843534;
}
.bg-primary {
  color: #fff;
  background-color: #337ab7;
}
a.bg-primary:hover,
a.bg-primary:focus {
  background-color: #286090;
}
.bg-success {
  background-color: #dff0d8;
}
a.bg-success:hover,
a.bg-success:focus {
  background-color: #c1e2b3;
}
.bg-info {
  background-color: #d9edf7;
}
a.bg-info:hover,
a.bg-info:focus {
  background-color: #afd9ee;
}
.bg-warning {
  background-color: #fcf8e3;
}
a.bg-warning:hover,
a.bg-warning:focus {
  background-color: #f7ecb5;
}
.bg-danger {
  background-color: #f2dede;
}
a.bg-danger:hover,
a.bg-danger:focus {
  background-color: #e4b9b9;
}
.page-header {
  padding-bottom: 8px;
  margin: 36px 0 18px;
  border-bottom: 1px solid #eeeeee;
}
ul,
ol {
  margin-top: 0;
  margin-bottom: 9px;
}
ul ul,
ol ul,
ul ol,
ol ol {
  margin-bottom: 0;
}
.list-unstyled {
  padding-left: 0;
  list-style: none;
}
.list-inline {
  padding-left: 0;
  list-style: none;
  margin-left: -5px;
}
.list-inline > li {
  display: inline-block;
  padding-left: 5px;
  padding-right: 5px;
}
dl {
  margin-top: 0;
  margin-bottom: 18px;
}
dt,
dd {
  line-height: 1.42857143;
}
dt {
  font-weight: bold;
}
dd {
  margin-left: 0;
}
@media (min-width: 541px) {
  .dl-horizontal dt {
    float: left;
    width: 160px;
    clear: left;
    text-align: right;
    overflow: hidden;
    text-overflow: ellipsis;
    white-space: nowrap;
  }
  .dl-horizontal dd {
    margin-left: 180px;
  }
}
abbr[title],
abbr[data-original-title] {
  cursor: help;
  border-bottom: 1px dotted #777777;
}
.initialism {
  font-size: 90%;
  text-transform: uppercase;
}
blockquote {
  padding: 9px 18px;
  margin: 0 0 18px;
  font-size: inherit;
  border-left: 5px solid #eeeeee;
}
blockquote p:last-child,
blockquote ul:last-child,
blockquote ol:last-child {
  margin-bottom: 0;
}
blockquote footer,
blockquote small,
blockquote .small {
  display: block;
  font-size: 80%;
  line-height: 1.42857143;
  color: #777777;
}
blockquote footer:before,
blockquote small:before,
blockquote .small:before {
  content: '\2014 \00A0';
}
.blockquote-reverse,
blockquote.pull-right {
  padding-right: 15px;
  padding-left: 0;
  border-right: 5px solid #eeeeee;
  border-left: 0;
  text-align: right;
}
.blockquote-reverse footer:before,
blockquote.pull-right footer:before,
.blockquote-reverse small:before,
blockquote.pull-right small:before,
.blockquote-reverse .small:before,
blockquote.pull-right .small:before {
  content: '';
}
.blockquote-reverse footer:after,
blockquote.pull-right footer:after,
.blockquote-reverse small:after,
blockquote.pull-right small:after,
.blockquote-reverse .small:after,
blockquote.pull-right .small:after {
  content: '\00A0 \2014';
}
address {
  margin-bottom: 18px;
  font-style: normal;
  line-height: 1.42857143;
}
code,
kbd,
pre,
samp {
  font-family: monospace;
}
code {
  padding: 2px 4px;
  font-size: 90%;
  color: #c7254e;
  background-color: #f9f2f4;
  border-radius: 2px;
}
kbd {
  padding: 2px 4px;
  font-size: 90%;
  color: #888;
  background-color: transparent;
  border-radius: 1px;
  box-shadow: inset 0 -1px 0 rgba(0, 0, 0, 0.25);
}
kbd kbd {
  padding: 0;
  font-size: 100%;
  font-weight: bold;
  box-shadow: none;
}
pre {
  display: block;
  padding: 8.5px;
  margin: 0 0 9px;
  font-size: 12px;
  line-height: 1.42857143;
  word-break: break-all;
  word-wrap: break-word;
  color: #333333;
  background-color: #f5f5f5;
  border: 1px solid #ccc;
  border-radius: 2px;
}
pre code {
  padding: 0;
  font-size: inherit;
  color: inherit;
  white-space: pre-wrap;
  background-color: transparent;
  border-radius: 0;
}
.pre-scrollable {
  max-height: 340px;
  overflow-y: scroll;
}
.container {
  margin-right: auto;
  margin-left: auto;
  padding-left: 0px;
  padding-right: 0px;
}
@media (min-width: 768px) {
  .container {
    width: 768px;
  }
}
@media (min-width: 992px) {
  .container {
    width: 940px;
  }
}
@media (min-width: 1200px) {
  .container {
    width: 1140px;
  }
}
.container-fluid {
  margin-right: auto;
  margin-left: auto;
  padding-left: 0px;
  padding-right: 0px;
}
.row {
  margin-left: 0px;
  margin-right: 0px;
}
.col-xs-1, .col-sm-1, .col-md-1, .col-lg-1, .col-xs-2, .col-sm-2, .col-md-2, .col-lg-2, .col-xs-3, .col-sm-3, .col-md-3, .col-lg-3, .col-xs-4, .col-sm-4, .col-md-4, .col-lg-4, .col-xs-5, .col-sm-5, .col-md-5, .col-lg-5, .col-xs-6, .col-sm-6, .col-md-6, .col-lg-6, .col-xs-7, .col-sm-7, .col-md-7, .col-lg-7, .col-xs-8, .col-sm-8, .col-md-8, .col-lg-8, .col-xs-9, .col-sm-9, .col-md-9, .col-lg-9, .col-xs-10, .col-sm-10, .col-md-10, .col-lg-10, .col-xs-11, .col-sm-11, .col-md-11, .col-lg-11, .col-xs-12, .col-sm-12, .col-md-12, .col-lg-12 {
  position: relative;
  min-height: 1px;
  padding-left: 0px;
  padding-right: 0px;
}
.col-xs-1, .col-xs-2, .col-xs-3, .col-xs-4, .col-xs-5, .col-xs-6, .col-xs-7, .col-xs-8, .col-xs-9, .col-xs-10, .col-xs-11, .col-xs-12 {
  float: left;
}
.col-xs-12 {
  width: 100%;
}
.col-xs-11 {
  width: 91.66666667%;
}
.col-xs-10 {
  width: 83.33333333%;
}
.col-xs-9 {
  width: 75%;
}
.col-xs-8 {
  width: 66.66666667%;
}
.col-xs-7 {
  width: 58.33333333%;
}
.col-xs-6 {
  width: 50%;
}
.col-xs-5 {
  width: 41.66666667%;
}
.col-xs-4 {
  width: 33.33333333%;
}
.col-xs-3 {
  width: 25%;
}
.col-xs-2 {
  width: 16.66666667%;
}
.col-xs-1 {
  width: 8.33333333%;
}
.col-xs-pull-12 {
  right: 100%;
}
.col-xs-pull-11 {
  right: 91.66666667%;
}
.col-xs-pull-10 {
  right: 83.33333333%;
}
.col-xs-pull-9 {
  right: 75%;
}
.col-xs-pull-8 {
  right: 66.66666667%;
}
.col-xs-pull-7 {
  right: 58.33333333%;
}
.col-xs-pull-6 {
  right: 50%;
}
.col-xs-pull-5 {
  right: 41.66666667%;
}
.col-xs-pull-4 {
  right: 33.33333333%;
}
.col-xs-pull-3 {
  right: 25%;
}
.col-xs-pull-2 {
  right: 16.66666667%;
}
.col-xs-pull-1 {
  right: 8.33333333%;
}
.col-xs-pull-0 {
  right: auto;
}
.col-xs-push-12 {
  left: 100%;
}
.col-xs-push-11 {
  left: 91.66666667%;
}
.col-xs-push-10 {
  left: 83.33333333%;
}
.col-xs-push-9 {
  left: 75%;
}
.col-xs-push-8 {
  left: 66.66666667%;
}
.col-xs-push-7 {
  left: 58.33333333%;
}
.col-xs-push-6 {
  left: 50%;
}
.col-xs-push-5 {
  left: 41.66666667%;
}
.col-xs-push-4 {
  left: 33.33333333%;
}
.col-xs-push-3 {
  left: 25%;
}
.col-xs-push-2 {
  left: 16.66666667%;
}
.col-xs-push-1 {
  left: 8.33333333%;
}
.col-xs-push-0 {
  left: auto;
}
.col-xs-offset-12 {
  margin-left: 100%;
}
.col-xs-offset-11 {
  margin-left: 91.66666667%;
}
.col-xs-offset-10 {
  margin-left: 83.33333333%;
}
.col-xs-offset-9 {
  margin-left: 75%;
}
.col-xs-offset-8 {
  margin-left: 66.66666667%;
}
.col-xs-offset-7 {
  margin-left: 58.33333333%;
}
.col-xs-offset-6 {
  margin-left: 50%;
}
.col-xs-offset-5 {
  margin-left: 41.66666667%;
}
.col-xs-offset-4 {
  margin-left: 33.33333333%;
}
.col-xs-offset-3 {
  margin-left: 25%;
}
.col-xs-offset-2 {
  margin-left: 16.66666667%;
}
.col-xs-offset-1 {
  margin-left: 8.33333333%;
}
.col-xs-offset-0 {
  margin-left: 0%;
}
@media (min-width: 768px) {
  .col-sm-1, .col-sm-2, .col-sm-3, .col-sm-4, .col-sm-5, .col-sm-6, .col-sm-7, .col-sm-8, .col-sm-9, .col-sm-10, .col-sm-11, .col-sm-12 {
    float: left;
  }
  .col-sm-12 {
    width: 100%;
  }
  .col-sm-11 {
    width: 91.66666667%;
  }
  .col-sm-10 {
    width: 83.33333333%;
  }
  .col-sm-9 {
    width: 75%;
  }
  .col-sm-8 {
    width: 66.66666667%;
  }
  .col-sm-7 {
    width: 58.33333333%;
  }
  .col-sm-6 {
    width: 50%;
  }
  .col-sm-5 {
    width: 41.66666667%;
  }
  .col-sm-4 {
    width: 33.33333333%;
  }
  .col-sm-3 {
    width: 25%;
  }
  .col-sm-2 {
    width: 16.66666667%;
  }
  .col-sm-1 {
    width: 8.33333333%;
  }
  .col-sm-pull-12 {
    right: 100%;
  }
  .col-sm-pull-11 {
    right: 91.66666667%;
  }
  .col-sm-pull-10 {
    right: 83.33333333%;
  }
  .col-sm-pull-9 {
    right: 75%;
  }
  .col-sm-pull-8 {
    right: 66.66666667%;
  }
  .col-sm-pull-7 {
    right: 58.33333333%;
  }
  .col-sm-pull-6 {
    right: 50%;
  }
  .col-sm-pull-5 {
    right: 41.66666667%;
  }
  .col-sm-pull-4 {
    right: 33.33333333%;
  }
  .col-sm-pull-3 {
    right: 25%;
  }
  .col-sm-pull-2 {
    right: 16.66666667%;
  }
  .col-sm-pull-1 {
    right: 8.33333333%;
  }
  .col-sm-pull-0 {
    right: auto;
  }
  .col-sm-push-12 {
    left: 100%;
  }
  .col-sm-push-11 {
    left: 91.66666667%;
  }
  .col-sm-push-10 {
    left: 83.33333333%;
  }
  .col-sm-push-9 {
    left: 75%;
  }
  .col-sm-push-8 {
    left: 66.66666667%;
  }
  .col-sm-push-7 {
    left: 58.33333333%;
  }
  .col-sm-push-6 {
    left: 50%;
  }
  .col-sm-push-5 {
    left: 41.66666667%;
  }
  .col-sm-push-4 {
    left: 33.33333333%;
  }
  .col-sm-push-3 {
    left: 25%;
  }
  .col-sm-push-2 {
    left: 16.66666667%;
  }
  .col-sm-push-1 {
    left: 8.33333333%;
  }
  .col-sm-push-0 {
    left: auto;
  }
  .col-sm-offset-12 {
    margin-left: 100%;
  }
  .col-sm-offset-11 {
    margin-left: 91.66666667%;
  }
  .col-sm-offset-10 {
    margin-left: 83.33333333%;
  }
  .col-sm-offset-9 {
    margin-left: 75%;
  }
  .col-sm-offset-8 {
    margin-left: 66.66666667%;
  }
  .col-sm-offset-7 {
    margin-left: 58.33333333%;
  }
  .col-sm-offset-6 {
    margin-left: 50%;
  }
  .col-sm-offset-5 {
    margin-left: 41.66666667%;
  }
  .col-sm-offset-4 {
    margin-left: 33.33333333%;
  }
  .col-sm-offset-3 {
    margin-left: 25%;
  }
  .col-sm-offset-2 {
    margin-left: 16.66666667%;
  }
  .col-sm-offset-1 {
    margin-left: 8.33333333%;
  }
  .col-sm-offset-0 {
    margin-left: 0%;
  }
}
@media (min-width: 992px) {
  .col-md-1, .col-md-2, .col-md-3, .col-md-4, .col-md-5, .col-md-6, .col-md-7, .col-md-8, .col-md-9, .col-md-10, .col-md-11, .col-md-12 {
    float: left;
  }
  .col-md-12 {
    width: 100%;
  }
  .col-md-11 {
    width: 91.66666667%;
  }
  .col-md-10 {
    width: 83.33333333%;
  }
  .col-md-9 {
    width: 75%;
  }
  .col-md-8 {
    width: 66.66666667%;
  }
  .col-md-7 {
    width: 58.33333333%;
  }
  .col-md-6 {
    width: 50%;
  }
  .col-md-5 {
    width: 41.66666667%;
  }
  .col-md-4 {
    width: 33.33333333%;
  }
  .col-md-3 {
    width: 25%;
  }
  .col-md-2 {
    width: 16.66666667%;
  }
  .col-md-1 {
    width: 8.33333333%;
  }
  .col-md-pull-12 {
    right: 100%;
  }
  .col-md-pull-11 {
    right: 91.66666667%;
  }
  .col-md-pull-10 {
    right: 83.33333333%;
  }
  .col-md-pull-9 {
    right: 75%;
  }
  .col-md-pull-8 {
    right: 66.66666667%;
  }
  .col-md-pull-7 {
    right: 58.33333333%;
  }
  .col-md-pull-6 {
    right: 50%;
  }
  .col-md-pull-5 {
    right: 41.66666667%;
  }
  .col-md-pull-4 {
    right: 33.33333333%;
  }
  .col-md-pull-3 {
    right: 25%;
  }
  .col-md-pull-2 {
    right: 16.66666667%;
  }
  .col-md-pull-1 {
    right: 8.33333333%;
  }
  .col-md-pull-0 {
    right: auto;
  }
  .col-md-push-12 {
    left: 100%;
  }
  .col-md-push-11 {
    left: 91.66666667%;
  }
  .col-md-push-10 {
    left: 83.33333333%;
  }
  .col-md-push-9 {
    left: 75%;
  }
  .col-md-push-8 {
    left: 66.66666667%;
  }
  .col-md-push-7 {
    left: 58.33333333%;
  }
  .col-md-push-6 {
    left: 50%;
  }
  .col-md-push-5 {
    left: 41.66666667%;
  }
  .col-md-push-4 {
    left: 33.33333333%;
  }
  .col-md-push-3 {
    left: 25%;
  }
  .col-md-push-2 {
    left: 16.66666667%;
  }
  .col-md-push-1 {
    left: 8.33333333%;
  }
  .col-md-push-0 {
    left: auto;
  }
  .col-md-offset-12 {
    margin-left: 100%;
  }
  .col-md-offset-11 {
    margin-left: 91.66666667%;
  }
  .col-md-offset-10 {
    margin-left: 83.33333333%;
  }
  .col-md-offset-9 {
    margin-left: 75%;
  }
  .col-md-offset-8 {
    margin-left: 66.66666667%;
  }
  .col-md-offset-7 {
    margin-left: 58.33333333%;
  }
  .col-md-offset-6 {
    margin-left: 50%;
  }
  .col-md-offset-5 {
    margin-left: 41.66666667%;
  }
  .col-md-offset-4 {
    margin-left: 33.33333333%;
  }
  .col-md-offset-3 {
    margin-left: 25%;
  }
  .col-md-offset-2 {
    margin-left: 16.66666667%;
  }
  .col-md-offset-1 {
    margin-left: 8.33333333%;
  }
  .col-md-offset-0 {
    margin-left: 0%;
  }
}
@media (min-width: 1200px) {
  .col-lg-1, .col-lg-2, .col-lg-3, .col-lg-4, .col-lg-5, .col-lg-6, .col-lg-7, .col-lg-8, .col-lg-9, .col-lg-10, .col-lg-11, .col-lg-12 {
    float: left;
  }
  .col-lg-12 {
    width: 100%;
  }
  .col-lg-11 {
    width: 91.66666667%;
  }
  .col-lg-10 {
    width: 83.33333333%;
  }
  .col-lg-9 {
    width: 75%;
  }
  .col-lg-8 {
    width: 66.66666667%;
  }
  .col-lg-7 {
    width: 58.33333333%;
  }
  .col-lg-6 {
    width: 50%;
  }
  .col-lg-5 {
    width: 41.66666667%;
  }
  .col-lg-4 {
    width: 33.33333333%;
  }
  .col-lg-3 {
    width: 25%;
  }
  .col-lg-2 {
    width: 16.66666667%;
  }
  .col-lg-1 {
    width: 8.33333333%;
  }
  .col-lg-pull-12 {
    right: 100%;
  }
  .col-lg-pull-11 {
    right: 91.66666667%;
  }
  .col-lg-pull-10 {
    right: 83.33333333%;
  }
  .col-lg-pull-9 {
    right: 75%;
  }
  .col-lg-pull-8 {
    right: 66.66666667%;
  }
  .col-lg-pull-7 {
    right: 58.33333333%;
  }
  .col-lg-pull-6 {
    right: 50%;
  }
  .col-lg-pull-5 {
    right: 41.66666667%;
  }
  .col-lg-pull-4 {
    right: 33.33333333%;
  }
  .col-lg-pull-3 {
    right: 25%;
  }
  .col-lg-pull-2 {
    right: 16.66666667%;
  }
  .col-lg-pull-1 {
    right: 8.33333333%;
  }
  .col-lg-pull-0 {
    right: auto;
  }
  .col-lg-push-12 {
    left: 100%;
  }
  .col-lg-push-11 {
    left: 91.66666667%;
  }
  .col-lg-push-10 {
    left: 83.33333333%;
  }
  .col-lg-push-9 {
    left: 75%;
  }
  .col-lg-push-8 {
    left: 66.66666667%;
  }
  .col-lg-push-7 {
    left: 58.33333333%;
  }
  .col-lg-push-6 {
    left: 50%;
  }
  .col-lg-push-5 {
    left: 41.66666667%;
  }
  .col-lg-push-4 {
    left: 33.33333333%;
  }
  .col-lg-push-3 {
    left: 25%;
  }
  .col-lg-push-2 {
    left: 16.66666667%;
  }
  .col-lg-push-1 {
    left: 8.33333333%;
  }
  .col-lg-push-0 {
    left: auto;
  }
  .col-lg-offset-12 {
    margin-left: 100%;
  }
  .col-lg-offset-11 {
    margin-left: 91.66666667%;
  }
  .col-lg-offset-10 {
    margin-left: 83.33333333%;
  }
  .col-lg-offset-9 {
    margin-left: 75%;
  }
  .col-lg-offset-8 {
    margin-left: 66.66666667%;
  }
  .col-lg-offset-7 {
    margin-left: 58.33333333%;
  }
  .col-lg-offset-6 {
    margin-left: 50%;
  }
  .col-lg-offset-5 {
    margin-left: 41.66666667%;
  }
  .col-lg-offset-4 {
    margin-left: 33.33333333%;
  }
  .col-lg-offset-3 {
    margin-left: 25%;
  }
  .col-lg-offset-2 {
    margin-left: 16.66666667%;
  }
  .col-lg-offset-1 {
    margin-left: 8.33333333%;
  }
  .col-lg-offset-0 {
    margin-left: 0%;
  }
}
table {
  background-color: transparent;
}
caption {
  padding-top: 8px;
  padding-bottom: 8px;
  color: #777777;
  text-align: left;
}
th {
  text-align: left;
}
.table {
  width: 100%;
  max-width: 100%;
  margin-bottom: 18px;
}
.table > thead > tr > th,
.table > tbody > tr > th,
.table > tfoot > tr > th,
.table > thead > tr > td,
.table > tbody > tr > td,
.table > tfoot > tr > td {
  padding: 8px;
  line-height: 1.42857143;
  vertical-align: top;
  border-top: 1px solid #ddd;
}
.table > thead > tr > th {
  vertical-align: bottom;
  border-bottom: 2px solid #ddd;
}
.table > caption + thead > tr:first-child > th,
.table > colgroup + thead > tr:first-child > th,
.table > thead:first-child > tr:first-child > th,
.table > caption + thead > tr:first-child > td,
.table > colgroup + thead > tr:first-child > td,
.table > thead:first-child > tr:first-child > td {
  border-top: 0;
}
.table > tbody + tbody {
  border-top: 2px solid #ddd;
}
.table .table {
  background-color: #fff;
}
.table-condensed > thead > tr > th,
.table-condensed > tbody > tr > th,
.table-condensed > tfoot > tr > th,
.table-condensed > thead > tr > td,
.table-condensed > tbody > tr > td,
.table-condensed > tfoot > tr > td {
  padding: 5px;
}
.table-bordered {
  border: 1px solid #ddd;
}
.table-bordered > thead > tr > th,
.table-bordered > tbody > tr > th,
.table-bordered > tfoot > tr > th,
.table-bordered > thead > tr > td,
.table-bordered > tbody > tr > td,
.table-bordered > tfoot > tr > td {
  border: 1px solid #ddd;
}
.table-bordered > thead > tr > th,
.table-bordered > thead > tr > td {
  border-bottom-width: 2px;
}
.table-striped > tbody > tr:nth-of-type(odd) {
  background-color: #f9f9f9;
}
.table-hover > tbody > tr:hover {
  background-color: #f5f5f5;
}
table col[class*="col-"] {
  position: static;
  float: none;
  display: table-column;
}
table td[class*="col-"],
table th[class*="col-"] {
  position: static;
  float: none;
  display: table-cell;
}
.table > thead > tr > td.active,
.table > tbody > tr > td.active,
.table > tfoot > tr > td.active,
.table > thead > tr > th.active,
.table > tbody > tr > th.active,
.table > tfoot > tr > th.active,
.table > thead > tr.active > td,
.table > tbody > tr.active > td,
.table > tfoot > tr.active > td,
.table > thead > tr.active > th,
.table > tbody > tr.active > th,
.table > tfoot > tr.active > th {
  background-color: #f5f5f5;
}
.table-hover > tbody > tr > td.active:hover,
.table-hover > tbody > tr > th.active:hover,
.table-hover > tbody > tr.active:hover > td,
.table-hover > tbody > tr:hover > .active,
.table-hover > tbody > tr.active:hover > th {
  background-color: #e8e8e8;
}
.table > thead > tr > td.success,
.table > tbody > tr > td.success,
.table > tfoot > tr > td.success,
.table > thead > tr > th.success,
.table > tbody > tr > th.success,
.table > tfoot > tr > th.success,
.table > thead > tr.success > td,
.table > tbody > tr.success > td,
.table > tfoot > tr.success > td,
.table > thead > tr.success > th,
.table > tbody > tr.success > th,
.table > tfoot > tr.success > th {
  background-color: #dff0d8;
}
.table-hover > tbody > tr > td.success:hover,
.table-hover > tbody > tr > th.success:hover,
.table-hover > tbody > tr.success:hover > td,
.table-hover > tbody > tr:hover > .success,
.table-hover > tbody > tr.success:hover > th {
  background-color: #d0e9c6;
}
.table > thead > tr > td.info,
.table > tbody > tr > td.info,
.table > tfoot > tr > td.info,
.table > thead > tr > th.info,
.table > tbody > tr > th.info,
.table > tfoot > tr > th.info,
.table > thead > tr.info > td,
.table > tbody > tr.info > td,
.table > tfoot > tr.info > td,
.table > thead > tr.info > th,
.table > tbody > tr.info > th,
.table > tfoot > tr.info > th {
  background-color: #d9edf7;
}
.table-hover > tbody > tr > td.info:hover,
.table-hover > tbody > tr > th.info:hover,
.table-hover > tbody > tr.info:hover > td,
.table-hover > tbody > tr:hover > .info,
.table-hover > tbody > tr.info:hover > th {
  background-color: #c4e3f3;
}
.table > thead > tr > td.warning,
.table > tbody > tr > td.warning,
.table > tfoot > tr > td.warning,
.table > thead > tr > th.warning,
.table > tbody > tr > th.warning,
.table > tfoot > tr > th.warning,
.table > thead > tr.warning > td,
.table > tbody > tr.warning > td,
.table > tfoot > tr.warning > td,
.table > thead > tr.warning > th,
.table > tbody > tr.warning > th,
.table > tfoot > tr.warning > th {
  background-color: #fcf8e3;
}
.table-hover > tbody > tr > td.warning:hover,
.table-hover > tbody > tr > th.warning:hover,
.table-hover > tbody > tr.warning:hover > td,
.table-hover > tbody > tr:hover > .warning,
.table-hover > tbody > tr.warning:hover > th {
  background-color: #faf2cc;
}
.table > thead > tr > td.danger,
.table > tbody > tr > td.danger,
.table > tfoot > tr > td.danger,
.table > thead > tr > th.danger,
.table > tbody > tr > th.danger,
.table > tfoot > tr > th.danger,
.table > thead > tr.danger > td,
.table > tbody > tr.danger > td,
.table > tfoot > tr.danger > td,
.table > thead > tr.danger > th,
.table > tbody > tr.danger > th,
.table > tfoot > tr.danger > th {
  background-color: #f2dede;
}
.table-hover > tbody > tr > td.danger:hover,
.table-hover > tbody > tr > th.danger:hover,
.table-hover > tbody > tr.danger:hover > td,
.table-hover > tbody > tr:hover > .danger,
.table-hover > tbody > tr.danger:hover > th {
  background-color: #ebcccc;
}
.table-responsive {
  overflow-x: auto;
  min-height: 0.01%;
}
@media screen and (max-width: 767px) {
  .table-responsive {
    width: 100%;
    margin-bottom: 13.5px;
    overflow-y: hidden;
    -ms-overflow-style: -ms-autohiding-scrollbar;
    border: 1px solid #ddd;
  }
  .table-responsive > .table {
    margin-bottom: 0;
  }
  .table-responsive > .table > thead > tr > th,
  .table-responsive > .table > tbody > tr > th,
  .table-responsive > .table > tfoot > tr > th,
  .table-responsive > .table > thead > tr > td,
  .table-responsive > .table > tbody > tr > td,
  .table-responsive > .table > tfoot > tr > td {
    white-space: nowrap;
  }
  .table-responsive > .table-bordered {
    border: 0;
  }
  .table-responsive > .table-bordered > thead > tr > th:first-child,
  .table-responsive > .table-bordered > tbody > tr > th:first-child,
  .table-responsive > .table-bordered > tfoot > tr > th:first-child,
  .table-responsive > .table-bordered > thead > tr > td:first-child,
  .table-responsive > .table-bordered > tbody > tr > td:first-child,
  .table-responsive > .table-bordered > tfoot > tr > td:first-child {
    border-left: 0;
  }
  .table-responsive > .table-bordered > thead > tr > th:last-child,
  .table-responsive > .table-bordered > tbody > tr > th:last-child,
  .table-responsive > .table-bordered > tfoot > tr > th:last-child,
  .table-responsive > .table-bordered > thead > tr > td:last-child,
  .table-responsive > .table-bordered > tbody > tr > td:last-child,
  .table-responsive > .table-bordered > tfoot > tr > td:last-child {
    border-right: 0;
  }
  .table-responsive > .table-bordered > tbody > tr:last-child > th,
  .table-responsive > .table-bordered > tfoot > tr:last-child > th,
  .table-responsive > .table-bordered > tbody > tr:last-child > td,
  .table-responsive > .table-bordered > tfoot > tr:last-child > td {
    border-bottom: 0;
  }
}
fieldset {
  padding: 0;
  margin: 0;
  border: 0;
  min-width: 0;
}
legend {
  display: block;
  width: 100%;
  padding: 0;
  margin-bottom: 18px;
  font-size: 19.5px;
  line-height: inherit;
  color: #333333;
  border: 0;
  border-bottom: 1px solid #e5e5e5;
}
label {
  display: inline-block;
  max-width: 100%;
  margin-bottom: 5px;
  font-weight: bold;
}
input[type="search"] {
  -webkit-box-sizing: border-box;
  -moz-box-sizing: border-box;
  box-sizing: border-box;
}
input[type="radio"],
input[type="checkbox"] {
  margin: 4px 0 0;
  margin-top: 1px \9;
  line-height: normal;
}
input[type="file"] {
  display: block;
}
input[type="range"] {
  display: block;
  width: 100%;
}
select[multiple],
select[size] {
  height: auto;
}
input[type="file"]:focus,
input[type="radio"]:focus,
input[type="checkbox"]:focus {
  outline: 5px auto -webkit-focus-ring-color;
  outline-offset: -2px;
}
output {
  display: block;
  padding-top: 7px;
  font-size: 13px;
  line-height: 1.42857143;
  color: #555555;
}
.form-control {
  display: block;
  width: 100%;
  height: 32px;
  padding: 6px 12px;
  font-size: 13px;
  line-height: 1.42857143;
  color: #555555;
  background-color: #fff;
  background-image: none;
  border: 1px solid #ccc;
  border-radius: 2px;
  -webkit-box-shadow: inset 0 1px 1px rgba(0, 0, 0, 0.075);
  box-shadow: inset 0 1px 1px rgba(0, 0, 0, 0.075);
  -webkit-transition: border-color ease-in-out .15s, box-shadow ease-in-out .15s;
  -o-transition: border-color ease-in-out .15s, box-shadow ease-in-out .15s;
  transition: border-color ease-in-out .15s, box-shadow ease-in-out .15s;
}
.form-control:focus {
  border-color: #66afe9;
  outline: 0;
  -webkit-box-shadow: inset 0 1px 1px rgba(0,0,0,.075), 0 0 8px rgba(102, 175, 233, 0.6);
  box-shadow: inset 0 1px 1px rgba(0,0,0,.075), 0 0 8px rgba(102, 175, 233, 0.6);
}
.form-control::-moz-placeholder {
  color: #999;
  opacity: 1;
}
.form-control:-ms-input-placeholder {
  color: #999;
}
.form-control::-webkit-input-placeholder {
  color: #999;
}
.form-control::-ms-expand {
  border: 0;
  background-color: transparent;
}
.form-control[disabled],
.form-control[readonly],
fieldset[disabled] .form-control {
  background-color: #eeeeee;
  opacity: 1;
}
.form-control[disabled],
fieldset[disabled] .form-control {
  cursor: not-allowed;
}
textarea.form-control {
  height: auto;
}
input[type="search"] {
  -webkit-appearance: none;
}
@media screen and (-webkit-min-device-pixel-ratio: 0) {
  input[type="date"].form-control,
  input[type="time"].form-control,
  input[type="datetime-local"].form-control,
  input[type="month"].form-control {
    line-height: 32px;
  }
  input[type="date"].input-sm,
  input[type="time"].input-sm,
  input[type="datetime-local"].input-sm,
  input[type="month"].input-sm,
  .input-group-sm input[type="date"],
  .input-group-sm input[type="time"],
  .input-group-sm input[type="datetime-local"],
  .input-group-sm input[type="month"] {
    line-height: 30px;
  }
  input[type="date"].input-lg,
  input[type="time"].input-lg,
  input[type="datetime-local"].input-lg,
  input[type="month"].input-lg,
  .input-group-lg input[type="date"],
  .input-group-lg input[type="time"],
  .input-group-lg input[type="datetime-local"],
  .input-group-lg input[type="month"] {
    line-height: 45px;
  }
}
.form-group {
  margin-bottom: 15px;
}
.radio,
.checkbox {
  position: relative;
  display: block;
  margin-top: 10px;
  margin-bottom: 10px;
}
.radio label,
.checkbox label {
  min-height: 18px;
  padding-left: 20px;
  margin-bottom: 0;
  font-weight: normal;
  cursor: pointer;
}
.radio input[type="radio"],
.radio-inline input[type="radio"],
.checkbox input[type="checkbox"],
.checkbox-inline input[type="checkbox"] {
  position: absolute;
  margin-left: -20px;
  margin-top: 4px \9;
}
.radio + .radio,
.checkbox + .checkbox {
  margin-top: -5px;
}
.radio-inline,
.checkbox-inline {
  position: relative;
  display: inline-block;
  padding-left: 20px;
  margin-bottom: 0;
  vertical-align: middle;
  font-weight: normal;
  cursor: pointer;
}
.radio-inline + .radio-inline,
.checkbox-inline + .checkbox-inline {
  margin-top: 0;
  margin-left: 10px;
}
input[type="radio"][disabled],
input[type="checkbox"][disabled],
input[type="radio"].disabled,
input[type="checkbox"].disabled,
fieldset[disabled] input[type="radio"],
fieldset[disabled] input[type="checkbox"] {
  cursor: not-allowed;
}
.radio-inline.disabled,
.checkbox-inline.disabled,
fieldset[disabled] .radio-inline,
fieldset[disabled] .checkbox-inline {
  cursor: not-allowed;
}
.radio.disabled label,
.checkbox.disabled label,
fieldset[disabled] .radio label,
fieldset[disabled] .checkbox label {
  cursor: not-allowed;
}
.form-control-static {
  padding-top: 7px;
  padding-bottom: 7px;
  margin-bottom: 0;
  min-height: 31px;
}
.form-control-static.input-lg,
.form-control-static.input-sm {
  padding-left: 0;
  padding-right: 0;
}
.input-sm {
  height: 30px;
  padding: 5px 10px;
  font-size: 12px;
  line-height: 1.5;
  border-radius: 1px;
}
select.input-sm {
  height: 30px;
  line-height: 30px;
}
textarea.input-sm,
select[multiple].input-sm {
  height: auto;
}
.form-group-sm .form-control {
  height: 30px;
  padding: 5px 10px;
  font-size: 12px;
  line-height: 1.5;
  border-radius: 1px;
}
.form-group-sm select.form-control {
  height: 30px;
  line-height: 30px;
}
.form-group-sm textarea.form-control,
.form-group-sm select[multiple].form-control {
  height: auto;
}
.form-group-sm .form-control-static {
  height: 30px;
  min-height: 30px;
  padding: 6px 10px;
  font-size: 12px;
  line-height: 1.5;
}
.input-lg {
  height: 45px;
  padding: 10px 16px;
  font-size: 17px;
  line-height: 1.3333333;
  border-radius: 3px;
}
select.input-lg {
  height: 45px;
  line-height: 45px;
}
textarea.input-lg,
select[multiple].input-lg {
  height: auto;
}
.form-group-lg .form-control {
  height: 45px;
  padding: 10px 16px;
  font-size: 17px;
  line-height: 1.3333333;
  border-radius: 3px;
}
.form-group-lg select.form-control {
  height: 45px;
  line-height: 45px;
}
.form-group-lg textarea.form-control,
.form-group-lg select[multiple].form-control {
  height: auto;
}
.form-group-lg .form-control-static {
  height: 45px;
  min-height: 35px;
  padding: 11px 16px;
  font-size: 17px;
  line-height: 1.3333333;
}
.has-feedback {
  position: relative;
}
.has-feedback .form-control {
  padding-right: 40px;
}
.form-control-feedback {
  position: absolute;
  top: 0;
  right: 0;
  z-index: 2;
  display: block;
  width: 32px;
  height: 32px;
  line-height: 32px;
  text-align: center;
  pointer-events: none;
}
.input-lg + .form-control-feedback,
.input-group-lg + .form-control-feedback,
.form-group-lg .form-control + .form-control-feedback {
  width: 45px;
  height: 45px;
  line-height: 45px;
}
.input-sm + .form-control-feedback,
.input-group-sm + .form-control-feedback,
.form-group-sm .form-control + .form-control-feedback {
  width: 30px;
  height: 30px;
  line-height: 30px;
}
.has-success .help-block,
.has-success .control-label,
.has-success .radio,
.has-success .checkbox,
.has-success .radio-inline,
.has-success .checkbox-inline,
.has-success.radio label,
.has-success.checkbox label,
.has-success.radio-inline label,
.has-success.checkbox-inline label {
  color: #3c763d;
}
.has-success .form-control {
  border-color: #3c763d;
  -webkit-box-shadow: inset 0 1px 1px rgba(0, 0, 0, 0.075);
  box-shadow: inset 0 1px 1px rgba(0, 0, 0, 0.075);
}
.has-success .form-control:focus {
  border-color: #2b542c;
  -webkit-box-shadow: inset 0 1px 1px rgba(0, 0, 0, 0.075), 0 0 6px #67b168;
  box-shadow: inset 0 1px 1px rgba(0, 0, 0, 0.075), 0 0 6px #67b168;
}
.has-success .input-group-addon {
  color: #3c763d;
  border-color: #3c763d;
  background-color: #dff0d8;
}
.has-success .form-control-feedback {
  color: #3c763d;
}
.has-warning .help-block,
.has-warning .control-label,
.has-warning .radio,
.has-warning .checkbox,
.has-warning .radio-inline,
.has-warning .checkbox-inline,
.has-warning.radio label,
.has-warning.checkbox label,
.has-warning.radio-inline label,
.has-warning.checkbox-inline label {
  color: #8a6d3b;
}
.has-warning .form-control {
  border-color: #8a6d3b;
  -webkit-box-shadow: inset 0 1px 1px rgba(0, 0, 0, 0.075);
  box-shadow: inset 0 1px 1px rgba(0, 0, 0, 0.075);
}
.has-warning .form-control:focus {
  border-color: #66512c;
  -webkit-box-shadow: inset 0 1px 1px rgba(0, 0, 0, 0.075), 0 0 6px #c0a16b;
  box-shadow: inset 0 1px 1px rgba(0, 0, 0, 0.075), 0 0 6px #c0a16b;
}
.has-warning .input-group-addon {
  color: #8a6d3b;
  border-color: #8a6d3b;
  background-color: #fcf8e3;
}
.has-warning .form-control-feedback {
  color: #8a6d3b;
}
.has-error .help-block,
.has-error .control-label,
.has-error .radio,
.has-error .checkbox,
.has-error .radio-inline,
.has-error .checkbox-inline,
.has-error.radio label,
.has-error.checkbox label,
.has-error.radio-inline label,
.has-error.checkbox-inline label {
  color: #a94442;
}
.has-error .form-control {
  border-color: #a94442;
  -webkit-box-shadow: inset 0 1px 1px rgba(0, 0, 0, 0.075);
  box-shadow: inset 0 1px 1px rgba(0, 0, 0, 0.075);
}
.has-error .form-control:focus {
  border-color: #843534;
  -webkit-box-shadow: inset 0 1px 1px rgba(0, 0, 0, 0.075), 0 0 6px #ce8483;
  box-shadow: inset 0 1px 1px rgba(0, 0, 0, 0.075), 0 0 6px #ce8483;
}
.has-error .input-group-addon {
  color: #a94442;
  border-color: #a94442;
  background-color: #f2dede;
}
.has-error .form-control-feedback {
  color: #a94442;
}
.has-feedback label ~ .form-control-feedback {
  top: 23px;
}
.has-feedback label.sr-only ~ .form-control-feedback {
  top: 0;
}
.help-block {
  display: block;
  margin-top: 5px;
  margin-bottom: 10px;
  color: #404040;
}
@media (min-width: 768px) {
  .form-inline .form-group {
    display: inline-block;
    margin-bottom: 0;
    vertical-align: middle;
  }
  .form-inline .form-control {
    display: inline-block;
    width: auto;
    vertical-align: middle;
  }
  .form-inline .form-control-static {
    display: inline-block;
  }
  .form-inline .input-group {
    display: inline-table;
    vertical-align: middle;
  }
  .form-inline .input-group .input-group-addon,
  .form-inline .input-group .input-group-btn,
  .form-inline .input-group .form-control {
    width: auto;
  }
  .form-inline .input-group > .form-control {
    width: 100%;
  }
  .form-inline .control-label {
    margin-bottom: 0;
    vertical-align: middle;
  }
  .form-inline .radio,
  .form-inline .checkbox {
    display: inline-block;
    margin-top: 0;
    margin-bottom: 0;
    vertical-align: middle;
  }
  .form-inline .radio label,
  .form-inline .checkbox label {
    padding-left: 0;
  }
  .form-inline .radio input[type="radio"],
  .form-inline .checkbox input[type="checkbox"] {
    position: relative;
    margin-left: 0;
  }
  .form-inline .has-feedback .form-control-feedback {
    top: 0;
  }
}
.form-horizontal .radio,
.form-horizontal .checkbox,
.form-horizontal .radio-inline,
.form-horizontal .checkbox-inline {
  margin-top: 0;
  margin-bottom: 0;
  padding-top: 7px;
}
.form-horizontal .radio,
.form-horizontal .checkbox {
  min-height: 25px;
}
.form-horizontal .form-group {
  margin-left: 0px;
  margin-right: 0px;
}
@media (min-width: 768px) {
  .form-horizontal .control-label {
    text-align: right;
    margin-bottom: 0;
    padding-top: 7px;
  }
}
.form-horizontal .has-feedback .form-control-feedback {
  right: 0px;
}
@media (min-width: 768px) {
  .form-horizontal .form-group-lg .control-label {
    padding-top: 11px;
    font-size: 17px;
  }
}
@media (min-width: 768px) {
  .form-horizontal .form-group-sm .control-label {
    padding-top: 6px;
    font-size: 12px;
  }
}
.btn {
  display: inline-block;
  margin-bottom: 0;
  font-weight: normal;
  text-align: center;
  vertical-align: middle;
  touch-action: manipulation;
  cursor: pointer;
  background-image: none;
  border: 1px solid transparent;
  white-space: nowrap;
  padding: 6px 12px;
  font-size: 13px;
  line-height: 1.42857143;
  border-radius: 2px;
  -webkit-user-select: none;
  -moz-user-select: none;
  -ms-user-select: none;
  user-select: none;
}
.btn:focus,
.btn:active:focus,
.btn.active:focus,
.btn.focus,
.btn:active.focus,
.btn.active.focus {
  outline: 5px auto -webkit-focus-ring-color;
  outline-offset: -2px;
}
.btn:hover,
.btn:focus,
.btn.focus {
  color: #333;
  text-decoration: none;
}
.btn:active,
.btn.active {
  outline: 0;
  background-image: none;
  -webkit-box-shadow: inset 0 3px 5px rgba(0, 0, 0, 0.125);
  box-shadow: inset 0 3px 5px rgba(0, 0, 0, 0.125);
}
.btn.disabled,
.btn[disabled],
fieldset[disabled] .btn {
  cursor: not-allowed;
  opacity: 0.65;
  filter: alpha(opacity=65);
  -webkit-box-shadow: none;
  box-shadow: none;
}
a.btn.disabled,
fieldset[disabled] a.btn {
  pointer-events: none;
}
.btn-default {
  color: #333;
  background-color: #fff;
  border-color: #ccc;
}
.btn-default:focus,
.btn-default.focus {
  color: #333;
  background-color: #e6e6e6;
  border-color: #8c8c8c;
}
.btn-default:hover {
  color: #333;
  background-color: #e6e6e6;
  border-color: #adadad;
}
.btn-default:active,
.btn-default.active,
.open > .dropdown-toggle.btn-default {
  color: #333;
  background-color: #e6e6e6;
  border-color: #adadad;
}
.btn-default:active:hover,
.btn-default.active:hover,
.open > .dropdown-toggle.btn-default:hover,
.btn-default:active:focus,
.btn-default.active:focus,
.open > .dropdown-toggle.btn-default:focus,
.btn-default:active.focus,
.btn-default.active.focus,
.open > .dropdown-toggle.btn-default.focus {
  color: #333;
  background-color: #d4d4d4;
  border-color: #8c8c8c;
}
.btn-default:active,
.btn-default.active,
.open > .dropdown-toggle.btn-default {
  background-image: none;
}
.btn-default.disabled:hover,
.btn-default[disabled]:hover,
fieldset[disabled] .btn-default:hover,
.btn-default.disabled:focus,
.btn-default[disabled]:focus,
fieldset[disabled] .btn-default:focus,
.btn-default.disabled.focus,
.btn-default[disabled].focus,
fieldset[disabled] .btn-default.focus {
  background-color: #fff;
  border-color: #ccc;
}
.btn-default .badge {
  color: #fff;
  background-color: #333;
}
.btn-primary {
  color: #fff;
  background-color: #337ab7;
  border-color: #2e6da4;
}
.btn-primary:focus,
.btn-primary.focus {
  color: #fff;
  background-color: #286090;
  border-color: #122b40;
}
.btn-primary:hover {
  color: #fff;
  background-color: #286090;
  border-color: #204d74;
}
.btn-primary:active,
.btn-primary.active,
.open > .dropdown-toggle.btn-primary {
  color: #fff;
  background-color: #286090;
  border-color: #204d74;
}
.btn-primary:active:hover,
.btn-primary.active:hover,
.open > .dropdown-toggle.btn-primary:hover,
.btn-primary:active:focus,
.btn-primary.active:focus,
.open > .dropdown-toggle.btn-primary:focus,
.btn-primary:active.focus,
.btn-primary.active.focus,
.open > .dropdown-toggle.btn-primary.focus {
  color: #fff;
  background-color: #204d74;
  border-color: #122b40;
}
.btn-primary:active,
.btn-primary.active,
.open > .dropdown-toggle.btn-primary {
  background-image: none;
}
.btn-primary.disabled:hover,
.btn-primary[disabled]:hover,
fieldset[disabled] .btn-primary:hover,
.btn-primary.disabled:focus,
.btn-primary[disabled]:focus,
fieldset[disabled] .btn-primary:focus,
.btn-primary.disabled.focus,
.btn-primary[disabled].focus,
fieldset[disabled] .btn-primary.focus {
  background-color: #337ab7;
  border-color: #2e6da4;
}
.btn-primary .badge {
  color: #337ab7;
  background-color: #fff;
}
.btn-success {
  color: #fff;
  background-color: #5cb85c;
  border-color: #4cae4c;
}
.btn-success:focus,
.btn-success.focus {
  color: #fff;
  background-color: #449d44;
  border-color: #255625;
}
.btn-success:hover {
  color: #fff;
  background-color: #449d44;
  border-color: #398439;
}
.btn-success:active,
.btn-success.active,
.open > .dropdown-toggle.btn-success {
  color: #fff;
  background-color: #449d44;
  border-color: #398439;
}
.btn-success:active:hover,
.btn-success.active:hover,
.open > .dropdown-toggle.btn-success:hover,
.btn-success:active:focus,
.btn-success.active:focus,
.open > .dropdown-toggle.btn-success:focus,
.btn-success:active.focus,
.btn-success.active.focus,
.open > .dropdown-toggle.btn-success.focus {
  color: #fff;
  background-color: #398439;
  border-color: #255625;
}
.btn-success:active,
.btn-success.active,
.open > .dropdown-toggle.btn-success {
  background-image: none;
}
.btn-success.disabled:hover,
.btn-success[disabled]:hover,
fieldset[disabled] .btn-success:hover,
.btn-success.disabled:focus,
.btn-success[disabled]:focus,
fieldset[disabled] .btn-success:focus,
.btn-success.disabled.focus,
.btn-success[disabled].focus,
fieldset[disabled] .btn-success.focus {
  background-color: #5cb85c;
  border-color: #4cae4c;
}
.btn-success .badge {
  color: #5cb85c;
  background-color: #fff;
}
.btn-info {
  color: #fff;
  background-color: #5bc0de;
  border-color: #46b8da;
}
.btn-info:focus,
.btn-info.focus {
  color: #fff;
  background-color: #31b0d5;
  border-color: #1b6d85;
}
.btn-info:hover {
  color: #fff;
  background-color: #31b0d5;
  border-color: #269abc;
}
.btn-info:active,
.btn-info.active,
.open > .dropdown-toggle.btn-info {
  color: #fff;
  background-color: #31b0d5;
  border-color: #269abc;
}
.btn-info:active:hover,
.btn-info.active:hover,
.open > .dropdown-toggle.btn-info:hover,
.btn-info:active:focus,
.btn-info.active:focus,
.open > .dropdown-toggle.btn-info:focus,
.btn-info:active.focus,
.btn-info.active.focus,
.open > .dropdown-toggle.btn-info.focus {
  color: #fff;
  background-color: #269abc;
  border-color: #1b6d85;
}
.btn-info:active,
.btn-info.active,
.open > .dropdown-toggle.btn-info {
  background-image: none;
}
.btn-info.disabled:hover,
.btn-info[disabled]:hover,
fieldset[disabled] .btn-info:hover,
.btn-info.disabled:focus,
.btn-info[disabled]:focus,
fieldset[disabled] .btn-info:focus,
.btn-info.disabled.focus,
.btn-info[disabled].focus,
fieldset[disabled] .btn-info.focus {
  background-color: #5bc0de;
  border-color: #46b8da;
}
.btn-info .badge {
  color: #5bc0de;
  background-color: #fff;
}
.btn-warning {
  color: #fff;
  background-color: #f0ad4e;
  border-color: #eea236;
}
.btn-warning:focus,
.btn-warning.focus {
  color: #fff;
  background-color: #ec971f;
  border-color: #985f0d;
}
.btn-warning:hover {
  color: #fff;
  background-color: #ec971f;
  border-color: #d58512;
}
.btn-warning:active,
.btn-warning.active,
.open > .dropdown-toggle.btn-warning {
  color: #fff;
  background-color: #ec971f;
  border-color: #d58512;
}
.btn-warning:active:hover,
.btn-warning.active:hover,
.open > .dropdown-toggle.btn-warning:hover,
.btn-warning:active:focus,
.btn-warning.active:focus,
.open > .dropdown-toggle.btn-warning:focus,
.btn-warning:active.focus,
.btn-warning.active.focus,
.open > .dropdown-toggle.btn-warning.focus {
  color: #fff;
  background-color: #d58512;
  border-color: #985f0d;
}
.btn-warning:active,
.btn-warning.active,
.open > .dropdown-toggle.btn-warning {
  background-image: none;
}
.btn-warning.disabled:hover,
.btn-warning[disabled]:hover,
fieldset[disabled] .btn-warning:hover,
.btn-warning.disabled:focus,
.btn-warning[disabled]:focus,
fieldset[disabled] .btn-warning:focus,
.btn-warning.disabled.focus,
.btn-warning[disabled].focus,
fieldset[disabled] .btn-warning.focus {
  background-color: #f0ad4e;
  border-color: #eea236;
}
.btn-warning .badge {
  color: #f0ad4e;
  background-color: #fff;
}
.btn-danger {
  color: #fff;
  background-color: #d9534f;
  border-color: #d43f3a;
}
.btn-danger:focus,
.btn-danger.focus {
  color: #fff;
  background-color: #c9302c;
  border-color: #761c19;
}
.btn-danger:hover {
  color: #fff;
  background-color: #c9302c;
  border-color: #ac2925;
}
.btn-danger:active,
.btn-danger.active,
.open > .dropdown-toggle.btn-danger {
  color: #fff;
  background-color: #c9302c;
  border-color: #ac2925;
}
.btn-danger:active:hover,
.btn-danger.active:hover,
.open > .dropdown-toggle.btn-danger:hover,
.btn-danger:active:focus,
.btn-danger.active:focus,
.open > .dropdown-toggle.btn-danger:focus,
.btn-danger:active.focus,
.btn-danger.active.focus,
.open > .dropdown-toggle.btn-danger.focus {
  color: #fff;
  background-color: #ac2925;
  border-color: #761c19;
}
.btn-danger:active,
.btn-danger.active,
.open > .dropdown-toggle.btn-danger {
  background-image: none;
}
.btn-danger.disabled:hover,
.btn-danger[disabled]:hover,
fieldset[disabled] .btn-danger:hover,
.btn-danger.disabled:focus,
.btn-danger[disabled]:focus,
fieldset[disabled] .btn-danger:focus,
.btn-danger.disabled.focus,
.btn-danger[disabled].focus,
fieldset[disabled] .btn-danger.focus {
  background-color: #d9534f;
  border-color: #d43f3a;
}
.btn-danger .badge {
  color: #d9534f;
  background-color: #fff;
}
.btn-link {
  color: #337ab7;
  font-weight: normal;
  border-radius: 0;
}
.btn-link,
.btn-link:active,
.btn-link.active,
.btn-link[disabled],
fieldset[disabled] .btn-link {
  background-color: transparent;
  -webkit-box-shadow: none;
  box-shadow: none;
}
.btn-link,
.btn-link:hover,
.btn-link:focus,
.btn-link:active {
  border-color: transparent;
}
.btn-link:hover,
.btn-link:focus {
  color: #23527c;
  text-decoration: underline;
  background-color: transparent;
}
.btn-link[disabled]:hover,
fieldset[disabled] .btn-link:hover,
.btn-link[disabled]:focus,
fieldset[disabled] .btn-link:focus {
  color: #777777;
  text-decoration: none;
}
.btn-lg,
.btn-group-lg > .btn {
  padding: 10px 16px;
  font-size: 17px;
  line-height: 1.3333333;
  border-radius: 3px;
}
.btn-sm,
.btn-group-sm > .btn {
  padding: 5px 10px;
  font-size: 12px;
  line-height: 1.5;
  border-radius: 1px;
}
.btn-xs,
.btn-group-xs > .btn {
  padding: 1px 5px;
  font-size: 12px;
  line-height: 1.5;
  border-radius: 1px;
}
.btn-block {
  display: block;
  width: 100%;
}
.btn-block + .btn-block {
  margin-top: 5px;
}
input[type="submit"].btn-block,
input[type="reset"].btn-block,
input[type="button"].btn-block {
  width: 100%;
}
.fade {
  opacity: 0;
  -webkit-transition: opacity 0.15s linear;
  -o-transition: opacity 0.15s linear;
  transition: opacity 0.15s linear;
}
.fade.in {
  opacity: 1;
}
.collapse {
  display: none;
}
.collapse.in {
  display: block;
}
tr.collapse.in {
  display: table-row;
}
tbody.collapse.in {
  display: table-row-group;
}
.collapsing {
  position: relative;
  height: 0;
  overflow: hidden;
  -webkit-transition-property: height, visibility;
  transition-property: height, visibility;
  -webkit-transition-duration: 0.35s;
  transition-duration: 0.35s;
  -webkit-transition-timing-function: ease;
  transition-timing-function: ease;
}
.caret {
  display: inline-block;
  width: 0;
  height: 0;
  margin-left: 2px;
  vertical-align: middle;
  border-top: 4px dashed;
  border-top: 4px solid \9;
  border-right: 4px solid transparent;
  border-left: 4px solid transparent;
}
.dropup,
.dropdown {
  position: relative;
}
.dropdown-toggle:focus {
  outline: 0;
}
.dropdown-menu {
  position: absolute;
  top: 100%;
  left: 0;
  z-index: 1000;
  display: none;
  float: left;
  min-width: 160px;
  padding: 5px 0;
  margin: 2px 0 0;
  list-style: none;
  font-size: 13px;
  text-align: left;
  background-color: #fff;
  border: 1px solid #ccc;
  border: 1px solid rgba(0, 0, 0, 0.15);
  border-radius: 2px;
  -webkit-box-shadow: 0 6px 12px rgba(0, 0, 0, 0.175);
  box-shadow: 0 6px 12px rgba(0, 0, 0, 0.175);
  background-clip: padding-box;
}
.dropdown-menu.pull-right {
  right: 0;
  left: auto;
}
.dropdown-menu .divider {
  height: 1px;
  margin: 8px 0;
  overflow: hidden;
  background-color: #e5e5e5;
}
.dropdown-menu > li > a {
  display: block;
  padding: 3px 20px;
  clear: both;
  font-weight: normal;
  line-height: 1.42857143;
  color: #333333;
  white-space: nowrap;
}
.dropdown-menu > li > a:hover,
.dropdown-menu > li > a:focus {
  text-decoration: none;
  color: #262626;
  background-color: #f5f5f5;
}
.dropdown-menu > .active > a,
.dropdown-menu > .active > a:hover,
.dropdown-menu > .active > a:focus {
  color: #fff;
  text-decoration: none;
  outline: 0;
  background-color: #337ab7;
}
.dropdown-menu > .disabled > a,
.dropdown-menu > .disabled > a:hover,
.dropdown-menu > .disabled > a:focus {
  color: #777777;
}
.dropdown-menu > .disabled > a:hover,
.dropdown-menu > .disabled > a:focus {
  text-decoration: none;
  background-color: transparent;
  background-image: none;
  filter: progid:DXImageTransform.Microsoft.gradient(enabled = false);
  cursor: not-allowed;
}
.open > .dropdown-menu {
  display: block;
}
.open > a {
  outline: 0;
}
.dropdown-menu-right {
  left: auto;
  right: 0;
}
.dropdown-menu-left {
  left: 0;
  right: auto;
}
.dropdown-header {
  display: block;
  padding: 3px 20px;
  font-size: 12px;
  line-height: 1.42857143;
  color: #777777;
  white-space: nowrap;
}
.dropdown-backdrop {
  position: fixed;
  left: 0;
  right: 0;
  bottom: 0;
  top: 0;
  z-index: 990;
}
.pull-right > .dropdown-menu {
  right: 0;
  left: auto;
}
.dropup .caret,
.navbar-fixed-bottom .dropdown .caret {
  border-top: 0;
  border-bottom: 4px dashed;
  border-bottom: 4px solid \9;
  content: "";
}
.dropup .dropdown-menu,
.navbar-fixed-bottom .dropdown .dropdown-menu {
  top: auto;
  bottom: 100%;
  margin-bottom: 2px;
}
@media (min-width: 541px) {
  .navbar-right .dropdown-menu {
    left: auto;
    right: 0;
  }
  .navbar-right .dropdown-menu-left {
    left: 0;
    right: auto;
  }
}
.btn-group,
.btn-group-vertical {
  position: relative;
  display: inline-block;
  vertical-align: middle;
}
.btn-group > .btn,
.btn-group-vertical > .btn {
  position: relative;
  float: left;
}
.btn-group > .btn:hover,
.btn-group-vertical > .btn:hover,
.btn-group > .btn:focus,
.btn-group-vertical > .btn:focus,
.btn-group > .btn:active,
.btn-group-vertical > .btn:active,
.btn-group > .btn.active,
.btn-group-vertical > .btn.active {
  z-index: 2;
}
.btn-group .btn + .btn,
.btn-group .btn + .btn-group,
.btn-group .btn-group + .btn,
.btn-group .btn-group + .btn-group {
  margin-left: -1px;
}
.btn-toolbar {
  margin-left: -5px;
}
.btn-toolbar .btn,
.btn-toolbar .btn-group,
.btn-toolbar .input-group {
  float: left;
}
.btn-toolbar > .btn,
.btn-toolbar > .btn-group,
.btn-toolbar > .input-group {
  margin-left: 5px;
}
.btn-group > .btn:not(:first-child):not(:last-child):not(.dropdown-toggle) {
  border-radius: 0;
}
.btn-group > .btn:first-child {
  margin-left: 0;
}
.btn-group > .btn:first-child:not(:last-child):not(.dropdown-toggle) {
  border-bottom-right-radius: 0;
  border-top-right-radius: 0;
}
.btn-group > .btn:last-child:not(:first-child),
.btn-group > .dropdown-toggle:not(:first-child) {
  border-bottom-left-radius: 0;
  border-top-left-radius: 0;
}
.btn-group > .btn-group {
  float: left;
}
.btn-group > .btn-group:not(:first-child):not(:last-child) > .btn {
  border-radius: 0;
}
.btn-group > .btn-group:first-child:not(:last-child) > .btn:last-child,
.btn-group > .btn-group:first-child:not(:last-child) > .dropdown-toggle {
  border-bottom-right-radius: 0;
  border-top-right-radius: 0;
}
.btn-group > .btn-group:last-child:not(:first-child) > .btn:first-child {
  border-bottom-left-radius: 0;
  border-top-left-radius: 0;
}
.btn-group .dropdown-toggle:active,
.btn-group.open .dropdown-toggle {
  outline: 0;
}
.btn-group > .btn + .dropdown-toggle {
  padding-left: 8px;
  padding-right: 8px;
}
.btn-group > .btn-lg + .dropdown-toggle {
  padding-left: 12px;
  padding-right: 12px;
}
.btn-group.open .dropdown-toggle {
  -webkit-box-shadow: inset 0 3px 5px rgba(0, 0, 0, 0.125);
  box-shadow: inset 0 3px 5px rgba(0, 0, 0, 0.125);
}
.btn-group.open .dropdown-toggle.btn-link {
  -webkit-box-shadow: none;
  box-shadow: none;
}
.btn .caret {
  margin-left: 0;
}
.btn-lg .caret {
  border-width: 5px 5px 0;
  border-bottom-width: 0;
}
.dropup .btn-lg .caret {
  border-width: 0 5px 5px;
}
.btn-group-vertical > .btn,
.btn-group-vertical > .btn-group,
.btn-group-vertical > .btn-group > .btn {
  display: block;
  float: none;
  width: 100%;
  max-width: 100%;
}
.btn-group-vertical > .btn-group > .btn {
  float: none;
}
.btn-group-vertical > .btn + .btn,
.btn-group-vertical > .btn + .btn-group,
.btn-group-vertical > .btn-group + .btn,
.btn-group-vertical > .btn-group + .btn-group {
  margin-top: -1px;
  margin-left: 0;
}
.btn-group-vertical > .btn:not(:first-child):not(:last-child) {
  border-radius: 0;
}
.btn-group-vertical > .btn:first-child:not(:last-child) {
  border-top-right-radius: 2px;
  border-top-left-radius: 2px;
  border-bottom-right-radius: 0;
  border-bottom-left-radius: 0;
}
.btn-group-vertical > .btn:last-child:not(:first-child) {
  border-top-right-radius: 0;
  border-top-left-radius: 0;
  border-bottom-right-radius: 2px;
  border-bottom-left-radius: 2px;
}
.btn-group-vertical > .btn-group:not(:first-child):not(:last-child) > .btn {
  border-radius: 0;
}
.btn-group-vertical > .btn-group:first-child:not(:last-child) > .btn:last-child,
.btn-group-vertical > .btn-group:first-child:not(:last-child) > .dropdown-toggle {
  border-bottom-right-radius: 0;
  border-bottom-left-radius: 0;
}
.btn-group-vertical > .btn-group:last-child:not(:first-child) > .btn:first-child {
  border-top-right-radius: 0;
  border-top-left-radius: 0;
}
.btn-group-justified {
  display: table;
  width: 100%;
  table-layout: fixed;
  border-collapse: separate;
}
.btn-group-justified > .btn,
.btn-group-justified > .btn-group {
  float: none;
  display: table-cell;
  width: 1%;
}
.btn-group-justified > .btn-group .btn {
  width: 100%;
}
.btn-group-justified > .btn-group .dropdown-menu {
  left: auto;
}
[data-toggle="buttons"] > .btn input[type="radio"],
[data-toggle="buttons"] > .btn-group > .btn input[type="radio"],
[data-toggle="buttons"] > .btn input[type="checkbox"],
[data-toggle="buttons"] > .btn-group > .btn input[type="checkbox"] {
  position: absolute;
  clip: rect(0, 0, 0, 0);
  pointer-events: none;
}
.input-group {
  position: relative;
  display: table;
  border-collapse: separate;
}
.input-group[class*="col-"] {
  float: none;
  padding-left: 0;
  padding-right: 0;
}
.input-group .form-control {
  position: relative;
  z-index: 2;
  float: left;
  width: 100%;
  margin-bottom: 0;
}
.input-group .form-control:focus {
  z-index: 3;
}
.input-group-lg > .form-control,
.input-group-lg > .input-group-addon,
.input-group-lg > .input-group-btn > .btn {
  height: 45px;
  padding: 10px 16px;
  font-size: 17px;
  line-height: 1.3333333;
  border-radius: 3px;
}
select.input-group-lg > .form-control,
select.input-group-lg > .input-group-addon,
select.input-group-lg > .input-group-btn > .btn {
  height: 45px;
  line-height: 45px;
}
textarea.input-group-lg > .form-control,
textarea.input-group-lg > .input-group-addon,
textarea.input-group-lg > .input-group-btn > .btn,
select[multiple].input-group-lg > .form-control,
select[multiple].input-group-lg > .input-group-addon,
select[multiple].input-group-lg > .input-group-btn > .btn {
  height: auto;
}
.input-group-sm > .form-control,
.input-group-sm > .input-group-addon,
.input-group-sm > .input-group-btn > .btn {
  height: 30px;
  padding: 5px 10px;
  font-size: 12px;
  line-height: 1.5;
  border-radius: 1px;
}
select.input-group-sm > .form-control,
select.input-group-sm > .input-group-addon,
select.input-group-sm > .input-group-btn > .btn {
  height: 30px;
  line-height: 30px;
}
textarea.input-group-sm > .form-control,
textarea.input-group-sm > .input-group-addon,
textarea.input-group-sm > .input-group-btn > .btn,
select[multiple].input-group-sm > .form-control,
select[multiple].input-group-sm > .input-group-addon,
select[multiple].input-group-sm > .input-group-btn > .btn {
  height: auto;
}
.input-group-addon,
.input-group-btn,
.input-group .form-control {
  display: table-cell;
}
.input-group-addon:not(:first-child):not(:last-child),
.input-group-btn:not(:first-child):not(:last-child),
.input-group .form-control:not(:first-child):not(:last-child) {
  border-radius: 0;
}
.input-group-addon,
.input-group-btn {
  width: 1%;
  white-space: nowrap;
  vertical-align: middle;
}
.input-group-addon {
  padding: 6px 12px;
  font-size: 13px;
  font-weight: normal;
  line-height: 1;
  color: #555555;
  text-align: center;
  background-color: #eeeeee;
  border: 1px solid #ccc;
  border-radius: 2px;
}
.input-group-addon.input-sm {
  padding: 5px 10px;
  font-size: 12px;
  border-radius: 1px;
}
.input-group-addon.input-lg {
  padding: 10px 16px;
  font-size: 17px;
  border-radius: 3px;
}
.input-group-addon input[type="radio"],
.input-group-addon input[type="checkbox"] {
  margin-top: 0;
}
.input-group .form-control:first-child,
.input-group-addon:first-child,
.input-group-btn:first-child > .btn,
.input-group-btn:first-child > .btn-group > .btn,
.input-group-btn:first-child > .dropdown-toggle,
.input-group-btn:last-child > .btn:not(:last-child):not(.dropdown-toggle),
.input-group-btn:last-child > .btn-group:not(:last-child) > .btn {
  border-bottom-right-radius: 0;
  border-top-right-radius: 0;
}
.input-group-addon:first-child {
  border-right: 0;
}
.input-group .form-control:last-child,
.input-group-addon:last-child,
.input-group-btn:last-child > .btn,
.input-group-btn:last-child > .btn-group > .btn,
.input-group-btn:last-child > .dropdown-toggle,
.input-group-btn:first-child > .btn:not(:first-child),
.input-group-btn:first-child > .btn-group:not(:first-child) > .btn {
  border-bottom-left-radius: 0;
  border-top-left-radius: 0;
}
.input-group-addon:last-child {
  border-left: 0;
}
.input-group-btn {
  position: relative;
  font-size: 0;
  white-space: nowrap;
}
.input-group-btn > .btn {
  position: relative;
}
.input-group-btn > .btn + .btn {
  margin-left: -1px;
}
.input-group-btn > .btn:hover,
.input-group-btn > .btn:focus,
.input-group-btn > .btn:active {
  z-index: 2;
}
.input-group-btn:first-child > .btn,
.input-group-btn:first-child > .btn-group {
  margin-right: -1px;
}
.input-group-btn:last-child > .btn,
.input-group-btn:last-child > .btn-group {
  z-index: 2;
  margin-left: -1px;
}
.nav {
  margin-bottom: 0;
  padding-left: 0;
  list-style: none;
}
.nav > li {
  position: relative;
  display: block;
}
.nav > li > a {
  position: relative;
  display: block;
  padding: 10px 15px;
}
.nav > li > a:hover,
.nav > li > a:focus {
  text-decoration: none;
  background-color: #eeeeee;
}
.nav > li.disabled > a {
  color: #777777;
}
.nav > li.disabled > a:hover,
.nav > li.disabled > a:focus {
  color: #777777;
  text-decoration: none;
  background-color: transparent;
  cursor: not-allowed;
}
.nav .open > a,
.nav .open > a:hover,
.nav .open > a:focus {
  background-color: #eeeeee;
  border-color: #337ab7;
}
.nav .nav-divider {
  height: 1px;
  margin: 8px 0;
  overflow: hidden;
  background-color: #e5e5e5;
}
.nav > li > a > img {
  max-width: none;
}
.nav-tabs {
  border-bottom: 1px solid #ddd;
}
.nav-tabs > li {
  float: left;
  margin-bottom: -1px;
}
.nav-tabs > li > a {
  margin-right: 2px;
  line-height: 1.42857143;
  border: 1px solid transparent;
  border-radius: 2px 2px 0 0;
}
.nav-tabs > li > a:hover {
  border-color: #eeeeee #eeeeee #ddd;
}
.nav-tabs > li.active > a,
.nav-tabs > li.active > a:hover,
.nav-tabs > li.active > a:focus {
  color: #555555;
  background-color: #fff;
  border: 1px solid #ddd;
  border-bottom-color: transparent;
  cursor: default;
}
.nav-tabs.nav-justified {
  width: 100%;
  border-bottom: 0;
}
.nav-tabs.nav-justified > li {
  float: none;
}
.nav-tabs.nav-justified > li > a {
  text-align: center;
  margin-bottom: 5px;
}
.nav-tabs.nav-justified > .dropdown .dropdown-menu {
  top: auto;
  left: auto;
}
@media (min-width: 768px) {
  .nav-tabs.nav-justified > li {
    display: table-cell;
    width: 1%;
  }
  .nav-tabs.nav-justified > li > a {
    margin-bottom: 0;
  }
}
.nav-tabs.nav-justified > li > a {
  margin-right: 0;
  border-radius: 2px;
}
.nav-tabs.nav-justified > .active > a,
.nav-tabs.nav-justified > .active > a:hover,
.nav-tabs.nav-justified > .active > a:focus {
  border: 1px solid #ddd;
}
@media (min-width: 768px) {
  .nav-tabs.nav-justified > li > a {
    border-bottom: 1px solid #ddd;
    border-radius: 2px 2px 0 0;
  }
  .nav-tabs.nav-justified > .active > a,
  .nav-tabs.nav-justified > .active > a:hover,
  .nav-tabs.nav-justified > .active > a:focus {
    border-bottom-color: #fff;
  }
}
.nav-pills > li {
  float: left;
}
.nav-pills > li > a {
  border-radius: 2px;
}
.nav-pills > li + li {
  margin-left: 2px;
}
.nav-pills > li.active > a,
.nav-pills > li.active > a:hover,
.nav-pills > li.active > a:focus {
  color: #fff;
  background-color: #337ab7;
}
.nav-stacked > li {
  float: none;
}
.nav-stacked > li + li {
  margin-top: 2px;
  margin-left: 0;
}
.nav-justified {
  width: 100%;
}
.nav-justified > li {
  float: none;
}
.nav-justified > li > a {
  text-align: center;
  margin-bottom: 5px;
}
.nav-justified > .dropdown .dropdown-menu {
  top: auto;
  left: auto;
}
@media (min-width: 768px) {
  .nav-justified > li {
    display: table-cell;
    width: 1%;
  }
  .nav-justified > li > a {
    margin-bottom: 0;
  }
}
.nav-tabs-justified {
  border-bottom: 0;
}
.nav-tabs-justified > li > a {
  margin-right: 0;
  border-radius: 2px;
}
.nav-tabs-justified > .active > a,
.nav-tabs-justified > .active > a:hover,
.nav-tabs-justified > .active > a:focus {
  border: 1px solid #ddd;
}
@media (min-width: 768px) {
  .nav-tabs-justified > li > a {
    border-bottom: 1px solid #ddd;
    border-radius: 2px 2px 0 0;
  }
  .nav-tabs-justified > .active > a,
  .nav-tabs-justified > .active > a:hover,
  .nav-tabs-justified > .active > a:focus {
    border-bottom-color: #fff;
  }
}
.tab-content > .tab-pane {
  display: none;
}
.tab-content > .active {
  display: block;
}
.nav-tabs .dropdown-menu {
  margin-top: -1px;
  border-top-right-radius: 0;
  border-top-left-radius: 0;
}
.navbar {
  position: relative;
  min-height: 30px;
  margin-bottom: 18px;
  border: 1px solid transparent;
}
@media (min-width: 541px) {
  .navbar {
    border-radius: 2px;
  }
}
@media (min-width: 541px) {
  .navbar-header {
    float: left;
  }
}
.navbar-collapse {
  overflow-x: visible;
  padding-right: 0px;
  padding-left: 0px;
  border-top: 1px solid transparent;
  box-shadow: inset 0 1px 0 rgba(255, 255, 255, 0.1);
  -webkit-overflow-scrolling: touch;
}
.navbar-collapse.in {
  overflow-y: auto;
}
@media (min-width: 541px) {
  .navbar-collapse {
    width: auto;
    border-top: 0;
    box-shadow: none;
  }
  .navbar-collapse.collapse {
    display: block !important;
    height: auto !important;
    padding-bottom: 0;
    overflow: visible !important;
  }
  .navbar-collapse.in {
    overflow-y: visible;
  }
  .navbar-fixed-top .navbar-collapse,
  .navbar-static-top .navbar-collapse,
  .navbar-fixed-bottom .navbar-collapse {
    padding-left: 0;
    padding-right: 0;
  }
}
.navbar-fixed-top .navbar-collapse,
.navbar-fixed-bottom .navbar-collapse {
  max-height: 340px;
}
@media (max-device-width: 540px) and (orientation: landscape) {
  .navbar-fixed-top .navbar-collapse,
  .navbar-fixed-bottom .navbar-collapse {
    max-height: 200px;
  }
}
.container > .navbar-header,
.container-fluid > .navbar-header,
.container > .navbar-collapse,
.container-fluid > .navbar-collapse {
  margin-right: 0px;
  margin-left: 0px;
}
@media (min-width: 541px) {
  .container > .navbar-header,
  .container-fluid > .navbar-header,
  .container > .navbar-collapse,
  .container-fluid > .navbar-collapse {
    margin-right: 0;
    margin-left: 0;
  }
}
.navbar-static-top {
  z-index: 1000;
  border-width: 0 0 1px;
}
@media (min-width: 541px) {
  .navbar-static-top {
    border-radius: 0;
  }
}
.navbar-fixed-top,
.navbar-fixed-bottom {
  position: fixed;
  right: 0;
  left: 0;
  z-index: 1030;
}
@media (min-width: 541px) {
  .navbar-fixed-top,
  .navbar-fixed-bottom {
    border-radius: 0;
  }
}
.navbar-fixed-top {
  top: 0;
  border-width: 0 0 1px;
}
.navbar-fixed-bottom {
  bottom: 0;
  margin-bottom: 0;
  border-width: 1px 0 0;
}
.navbar-brand {
  float: left;
  padding: 6px 0px;
  font-size: 17px;
  line-height: 18px;
  height: 30px;
}
.navbar-brand:hover,
.navbar-brand:focus {
  text-decoration: none;
}
.navbar-brand > img {
  display: block;
}
@media (min-width: 541px) {
  .navbar > .container .navbar-brand,
  .navbar > .container-fluid .navbar-brand {
    margin-left: 0px;
  }
}
.navbar-toggle {
  position: relative;
  float: right;
  margin-right: 0px;
  padding: 9px 10px;
  margin-top: -2px;
  margin-bottom: -2px;
  background-color: transparent;
  background-image: none;
  border: 1px solid transparent;
  border-radius: 2px;
}
.navbar-toggle:focus {
  outline: 0;
}
.navbar-toggle .icon-bar {
  display: block;
  width: 22px;
  height: 2px;
  border-radius: 1px;
}
.navbar-toggle .icon-bar + .icon-bar {
  margin-top: 4px;
}
@media (min-width: 541px) {
  .navbar-toggle {
    display: none;
  }
}
.navbar-nav {
  margin: 3px 0px;
}
.navbar-nav > li > a {
  padding-top: 10px;
  padding-bottom: 10px;
  line-height: 18px;
}
@media (max-width: 540px) {
  .navbar-nav .open .dropdown-menu {
    position: static;
    float: none;
    width: auto;
    margin-top: 0;
    background-color: transparent;
    border: 0;
    box-shadow: none;
  }
  .navbar-nav .open .dropdown-menu > li > a,
  .navbar-nav .open .dropdown-menu .dropdown-header {
    padding: 5px 15px 5px 25px;
  }
  .navbar-nav .open .dropdown-menu > li > a {
    line-height: 18px;
  }
  .navbar-nav .open .dropdown-menu > li > a:hover,
  .navbar-nav .open .dropdown-menu > li > a:focus {
    background-image: none;
  }
}
@media (min-width: 541px) {
  .navbar-nav {
    float: left;
    margin: 0;
  }
  .navbar-nav > li {
    float: left;
  }
  .navbar-nav > li > a {
    padding-top: 6px;
    padding-bottom: 6px;
  }
}
.navbar-form {
  margin-left: 0px;
  margin-right: 0px;
  padding: 10px 0px;
  border-top: 1px solid transparent;
  border-bottom: 1px solid transparent;
  -webkit-box-shadow: inset 0 1px 0 rgba(255, 255, 255, 0.1), 0 1px 0 rgba(255, 255, 255, 0.1);
  box-shadow: inset 0 1px 0 rgba(255, 255, 255, 0.1), 0 1px 0 rgba(255, 255, 255, 0.1);
  margin-top: -1px;
  margin-bottom: -1px;
}
@media (min-width: 768px) {
  .navbar-form .form-group {
    display: inline-block;
    margin-bottom: 0;
    vertical-align: middle;
  }
  .navbar-form .form-control {
    display: inline-block;
    width: auto;
    vertical-align: middle;
  }
  .navbar-form .form-control-static {
    display: inline-block;
  }
  .navbar-form .input-group {
    display: inline-table;
    vertical-align: middle;
  }
  .navbar-form .input-group .input-group-addon,
  .navbar-form .input-group .input-group-btn,
  .navbar-form .input-group .form-control {
    width: auto;
  }
  .navbar-form .input-group > .form-control {
    width: 100%;
  }
  .navbar-form .control-label {
    margin-bottom: 0;
    vertical-align: middle;
  }
  .navbar-form .radio,
  .navbar-form .checkbox {
    display: inline-block;
    margin-top: 0;
    margin-bottom: 0;
    vertical-align: middle;
  }
  .navbar-form .radio label,
  .navbar-form .checkbox label {
    padding-left: 0;
  }
  .navbar-form .radio input[type="radio"],
  .navbar-form .checkbox input[type="checkbox"] {
    position: relative;
    margin-left: 0;
  }
  .navbar-form .has-feedback .form-control-feedback {
    top: 0;
  }
}
@media (max-width: 540px) {
  .navbar-form .form-group {
    margin-bottom: 5px;
  }
  .navbar-form .form-group:last-child {
    margin-bottom: 0;
  }
}
@media (min-width: 541px) {
  .navbar-form {
    width: auto;
    border: 0;
    margin-left: 0;
    margin-right: 0;
    padding-top: 0;
    padding-bottom: 0;
    -webkit-box-shadow: none;
    box-shadow: none;
  }
}
.navbar-nav > li > .dropdown-menu {
  margin-top: 0;
  border-top-right-radius: 0;
  border-top-left-radius: 0;
}
.navbar-fixed-bottom .navbar-nav > li > .dropdown-menu {
  margin-bottom: 0;
  border-top-right-radius: 2px;
  border-top-left-radius: 2px;
  border-bottom-right-radius: 0;
  border-bottom-left-radius: 0;
}
.navbar-btn {
  margin-top: -1px;
  margin-bottom: -1px;
}
.navbar-btn.btn-sm {
  margin-top: 0px;
  margin-bottom: 0px;
}
.navbar-btn.btn-xs {
  margin-top: 4px;
  margin-bottom: 4px;
}
.navbar-text {
  margin-top: 6px;
  margin-bottom: 6px;
}
@media (min-width: 541px) {
  .navbar-text {
    float: left;
    margin-left: 0px;
    margin-right: 0px;
  }
}
@media (min-width: 541px) {
  .navbar-left {
    float: left !important;
    float: left;
  }
  .navbar-right {
    float: right !important;
    float: right;
    margin-right: 0px;
  }
  .navbar-right ~ .navbar-right {
    margin-right: 0;
  }
}
.navbar-default {
  background-color: #f8f8f8;
  border-color: #e7e7e7;
}
.navbar-default .navbar-brand {
  color: #777;
}
.navbar-default .navbar-brand:hover,
.navbar-default .navbar-brand:focus {
  color: #5e5e5e;
  background-color: transparent;
}
.navbar-default .navbar-text {
  color: #777;
}
.navbar-default .navbar-nav > li > a {
  color: #777;
}
.navbar-default .navbar-nav > li > a:hover,
.navbar-default .navbar-nav > li > a:focus {
  color: #333;
  background-color: transparent;
}
.navbar-default .navbar-nav > .active > a,
.navbar-default .navbar-nav > .active > a:hover,
.navbar-default .navbar-nav > .active > a:focus {
  color: #555;
  background-color: #e7e7e7;
}
.navbar-default .navbar-nav > .disabled > a,
.navbar-default .navbar-nav > .disabled > a:hover,
.navbar-default .navbar-nav > .disabled > a:focus {
  color: #ccc;
  background-color: transparent;
}
.navbar-default .navbar-toggle {
  border-color: #ddd;
}
.navbar-default .navbar-toggle:hover,
.navbar-default .navbar-toggle:focus {
  background-color: #ddd;
}
.navbar-default .navbar-toggle .icon-bar {
  background-color: #888;
}
.navbar-default .navbar-collapse,
.navbar-default .navbar-form {
  border-color: #e7e7e7;
}
.navbar-default .navbar-nav > .open > a,
.navbar-default .navbar-nav > .open > a:hover,
.navbar-default .navbar-nav > .open > a:focus {
  background-color: #e7e7e7;
  color: #555;
}
@media (max-width: 540px) {
  .navbar-default .navbar-nav .open .dropdown-menu > li > a {
    color: #777;
  }
  .navbar-default .navbar-nav .open .dropdown-menu > li > a:hover,
  .navbar-default .navbar-nav .open .dropdown-menu > li > a:focus {
    color: #333;
    background-color: transparent;
  }
  .navbar-default .navbar-nav .open .dropdown-menu > .active > a,
  .navbar-default .navbar-nav .open .dropdown-menu > .active > a:hover,
  .navbar-default .navbar-nav .open .dropdown-menu > .active > a:focus {
    color: #555;
    background-color: #e7e7e7;
  }
  .navbar-default .navbar-nav .open .dropdown-menu > .disabled > a,
  .navbar-default .navbar-nav .open .dropdown-menu > .disabled > a:hover,
  .navbar-default .navbar-nav .open .dropdown-menu > .disabled > a:focus {
    color: #ccc;
    background-color: transparent;
  }
}
.navbar-default .navbar-link {
  color: #777;
}
.navbar-default .navbar-link:hover {
  color: #333;
}
.navbar-default .btn-link {
  color: #777;
}
.navbar-default .btn-link:hover,
.navbar-default .btn-link:focus {
  color: #333;
}
.navbar-default .btn-link[disabled]:hover,
fieldset[disabled] .navbar-default .btn-link:hover,
.navbar-default .btn-link[disabled]:focus,
fieldset[disabled] .navbar-default .btn-link:focus {
  color: #ccc;
}
.navbar-inverse {
  background-color: #222;
  border-color: #080808;
}
.navbar-inverse .navbar-brand {
  color: #9d9d9d;
}
.navbar-inverse .navbar-brand:hover,
.navbar-inverse .navbar-brand:focus {
  color: #fff;
  background-color: transparent;
}
.navbar-inverse .navbar-text {
  color: #9d9d9d;
}
.navbar-inverse .navbar-nav > li > a {
  color: #9d9d9d;
}
.navbar-inverse .navbar-nav > li > a:hover,
.navbar-inverse .navbar-nav > li > a:focus {
  color: #fff;
  background-color: transparent;
}
.navbar-inverse .navbar-nav > .active > a,
.navbar-inverse .navbar-nav > .active > a:hover,
.navbar-inverse .navbar-nav > .active > a:focus {
  color: #fff;
  background-color: #080808;
}
.navbar-inverse .navbar-nav > .disabled > a,
.navbar-inverse .navbar-nav > .disabled > a:hover,
.navbar-inverse .navbar-nav > .disabled > a:focus {
  color: #444;
  background-color: transparent;
}
.navbar-inverse .navbar-toggle {
  border-color: #333;
}
.navbar-inverse .navbar-toggle:hover,
.navbar-inverse .navbar-toggle:focus {
  background-color: #333;
}
.navbar-inverse .navbar-toggle .icon-bar {
  background-color: #fff;
}
.navbar-inverse .navbar-collapse,
.navbar-inverse .navbar-form {
  border-color: #101010;
}
.navbar-inverse .navbar-nav > .open > a,
.navbar-inverse .navbar-nav > .open > a:hover,
.navbar-inverse .navbar-nav > .open > a:focus {
  background-color: #080808;
  color: #fff;
}
@media (max-width: 540px) {
  .navbar-inverse .navbar-nav .open .dropdown-menu > .dropdown-header {
    border-color: #080808;
  }
  .navbar-inverse .navbar-nav .open .dropdown-menu .divider {
    background-color: #080808;
  }
  .navbar-inverse .navbar-nav .open .dropdown-menu > li > a {
    color: #9d9d9d;
  }
  .navbar-inverse .navbar-nav .open .dropdown-menu > li > a:hover,
  .navbar-inverse .navbar-nav .open .dropdown-menu > li > a:focus {
    color: #fff;
    background-color: transparent;
  }
  .navbar-inverse .navbar-nav .open .dropdown-menu > .active > a,
  .navbar-inverse .navbar-nav .open .dropdown-menu > .active > a:hover,
  .navbar-inverse .navbar-nav .open .dropdown-menu > .active > a:focus {
    color: #fff;
    background-color: #080808;
  }
  .navbar-inverse .navbar-nav .open .dropdown-menu > .disabled > a,
  .navbar-inverse .navbar-nav .open .dropdown-menu > .disabled > a:hover,
  .navbar-inverse .navbar-nav .open .dropdown-menu > .disabled > a:focus {
    color: #444;
    background-color: transparent;
  }
}
.navbar-inverse .navbar-link {
  color: #9d9d9d;
}
.navbar-inverse .navbar-link:hover {
  color: #fff;
}
.navbar-inverse .btn-link {
  color: #9d9d9d;
}
.navbar-inverse .btn-link:hover,
.navbar-inverse .btn-link:focus {
  color: #fff;
}
.navbar-inverse .btn-link[disabled]:hover,
fieldset[disabled] .navbar-inverse .btn-link:hover,
.navbar-inverse .btn-link[disabled]:focus,
fieldset[disabled] .navbar-inverse .btn-link:focus {
  color: #444;
}
.breadcrumb {
  padding: 8px 15px;
  margin-bottom: 18px;
  list-style: none;
  background-color: #f5f5f5;
  border-radius: 2px;
}
.breadcrumb > li {
  display: inline-block;
}
.breadcrumb > li + li:before {
  content: "/\00a0";
  padding: 0 5px;
  color: #5e5e5e;
}
.breadcrumb > .active {
  color: #777777;
}
.pagination {
  display: inline-block;
  padding-left: 0;
  margin: 18px 0;
  border-radius: 2px;
}
.pagination > li {
  display: inline;
}
.pagination > li > a,
.pagination > li > span {
  position: relative;
  float: left;
  padding: 6px 12px;
  line-height: 1.42857143;
  text-decoration: none;
  color: #337ab7;
  background-color: #fff;
  border: 1px solid #ddd;
  margin-left: -1px;
}
.pagination > li:first-child > a,
.pagination > li:first-child > span {
  margin-left: 0;
  border-bottom-left-radius: 2px;
  border-top-left-radius: 2px;
}
.pagination > li:last-child > a,
.pagination > li:last-child > span {
  border-bottom-right-radius: 2px;
  border-top-right-radius: 2px;
}
.pagination > li > a:hover,
.pagination > li > span:hover,
.pagination > li > a:focus,
.pagination > li > span:focus {
  z-index: 2;
  color: #23527c;
  background-color: #eeeeee;
  border-color: #ddd;
}
.pagination > .active > a,
.pagination > .active > span,
.pagination > .active > a:hover,
.pagination > .active > span:hover,
.pagination > .active > a:focus,
.pagination > .active > span:focus {
  z-index: 3;
  color: #fff;
  background-color: #337ab7;
  border-color: #337ab7;
  cursor: default;
}
.pagination > .disabled > span,
.pagination > .disabled > span:hover,
.pagination > .disabled > span:focus,
.pagination > .disabled > a,
.pagination > .disabled > a:hover,
.pagination > .disabled > a:focus {
  color: #777777;
  background-color: #fff;
  border-color: #ddd;
  cursor: not-allowed;
}
.pagination-lg > li > a,
.pagination-lg > li > span {
  padding: 10px 16px;
  font-size: 17px;
  line-height: 1.3333333;
}
.pagination-lg > li:first-child > a,
.pagination-lg > li:first-child > span {
  border-bottom-left-radius: 3px;
  border-top-left-radius: 3px;
}
.pagination-lg > li:last-child > a,
.pagination-lg > li:last-child > span {
  border-bottom-right-radius: 3px;
  border-top-right-radius: 3px;
}
.pagination-sm > li > a,
.pagination-sm > li > span {
  padding: 5px 10px;
  font-size: 12px;
  line-height: 1.5;
}
.pagination-sm > li:first-child > a,
.pagination-sm > li:first-child > span {
  border-bottom-left-radius: 1px;
  border-top-left-radius: 1px;
}
.pagination-sm > li:last-child > a,
.pagination-sm > li:last-child > span {
  border-bottom-right-radius: 1px;
  border-top-right-radius: 1px;
}
.pager {
  padding-left: 0;
  margin: 18px 0;
  list-style: none;
  text-align: center;
}
.pager li {
  display: inline;
}
.pager li > a,
.pager li > span {
  display: inline-block;
  padding: 5px 14px;
  background-color: #fff;
  border: 1px solid #ddd;
  border-radius: 15px;
}
.pager li > a:hover,
.pager li > a:focus {
  text-decoration: none;
  background-color: #eeeeee;
}
.pager .next > a,
.pager .next > span {
  float: right;
}
.pager .previous > a,
.pager .previous > span {
  float: left;
}
.pager .disabled > a,
.pager .disabled > a:hover,
.pager .disabled > a:focus,
.pager .disabled > span {
  color: #777777;
  background-color: #fff;
  cursor: not-allowed;
}
.label {
  display: inline;
  padding: .2em .6em .3em;
  font-size: 75%;
  font-weight: bold;
  line-height: 1;
  color: #fff;
  text-align: center;
  white-space: nowrap;
  vertical-align: baseline;
  border-radius: .25em;
}
a.label:hover,
a.label:focus {
  color: #fff;
  text-decoration: none;
  cursor: pointer;
}
.label:empty {
  display: none;
}
.btn .label {
  position: relative;
  top: -1px;
}
.label-default {
  background-color: #777777;
}
.label-default[href]:hover,
.label-default[href]:focus {
  background-color: #5e5e5e;
}
.label-primary {
  background-color: #337ab7;
}
.label-primary[href]:hover,
.label-primary[href]:focus {
  background-color: #286090;
}
.label-success {
  background-color: #5cb85c;
}
.label-success[href]:hover,
.label-success[href]:focus {
  background-color: #449d44;
}
.label-info {
  background-color: #5bc0de;
}
.label-info[href]:hover,
.label-info[href]:focus {
  background-color: #31b0d5;
}
.label-warning {
  background-color: #f0ad4e;
}
.label-warning[href]:hover,
.label-warning[href]:focus {
  background-color: #ec971f;
}
.label-danger {
  background-color: #d9534f;
}
.label-danger[href]:hover,
.label-danger[href]:focus {
  background-color: #c9302c;
}
.badge {
  display: inline-block;
  min-width: 10px;
  padding: 3px 7px;
  font-size: 12px;
  font-weight: bold;
  color: #fff;
  line-height: 1;
  vertical-align: middle;
  white-space: nowrap;
  text-align: center;
  background-color: #777777;
  border-radius: 10px;
}
.badge:empty {
  display: none;
}
.btn .badge {
  position: relative;
  top: -1px;
}
.btn-xs .badge,
.btn-group-xs > .btn .badge {
  top: 0;
  padding: 1px 5px;
}
a.badge:hover,
a.badge:focus {
  color: #fff;
  text-decoration: none;
  cursor: pointer;
}
.list-group-item.active > .badge,
.nav-pills > .active > a > .badge {
  color: #337ab7;
  background-color: #fff;
}
.list-group-item > .badge {
  float: right;
}
.list-group-item > .badge + .badge {
  margin-right: 5px;
}
.nav-pills > li > a > .badge {
  margin-left: 3px;
}
.jumbotron {
  padding-top: 30px;
  padding-bottom: 30px;
  margin-bottom: 30px;
  color: inherit;
  background-color: #eeeeee;
}
.jumbotron h1,
.jumbotron .h1 {
  color: inherit;
}
.jumbotron p {
  margin-bottom: 15px;
  font-size: 20px;
  font-weight: 200;
}
.jumbotron > hr {
  border-top-color: #d5d5d5;
}
.container .jumbotron,
.container-fluid .jumbotron {
  border-radius: 3px;
  padding-left: 0px;
  padding-right: 0px;
}
.jumbotron .container {
  max-width: 100%;
}
@media screen and (min-width: 768px) {
  .jumbotron {
    padding-top: 48px;
    padding-bottom: 48px;
  }
  .container .jumbotron,
  .container-fluid .jumbotron {
    padding-left: 60px;
    padding-right: 60px;
  }
  .jumbotron h1,
  .jumbotron .h1 {
    font-size: 59px;
  }
}
.thumbnail {
  display: block;
  padding: 4px;
  margin-bottom: 18px;
  line-height: 1.42857143;
  background-color: #fff;
  border: 1px solid #ddd;
  border-radius: 2px;
  -webkit-transition: border 0.2s ease-in-out;
  -o-transition: border 0.2s ease-in-out;
  transition: border 0.2s ease-in-out;
}
.thumbnail > img,
.thumbnail a > img {
  margin-left: auto;
  margin-right: auto;
}
a.thumbnail:hover,
a.thumbnail:focus,
a.thumbnail.active {
  border-color: #337ab7;
}
.thumbnail .caption {
  padding: 9px;
  color: #000;
}
.alert {
  padding: 15px;
  margin-bottom: 18px;
  border: 1px solid transparent;
  border-radius: 2px;
}
.alert h4 {
  margin-top: 0;
  color: inherit;
}
.alert .alert-link {
  font-weight: bold;
}
.alert > p,
.alert > ul {
  margin-bottom: 0;
}
.alert > p + p {
  margin-top: 5px;
}
.alert-dismissable,
.alert-dismissible {
  padding-right: 35px;
}
.alert-dismissable .close,
.alert-dismissible .close {
  position: relative;
  top: -2px;
  right: -21px;
  color: inherit;
}
.alert-success {
  background-color: #dff0d8;
  border-color: #d6e9c6;
  color: #3c763d;
}
.alert-success hr {
  border-top-color: #c9e2b3;
}
.alert-success .alert-link {
  color: #2b542c;
}
.alert-info {
  background-color: #d9edf7;
  border-color: #bce8f1;
  color: #31708f;
}
.alert-info hr {
  border-top-color: #a6e1ec;
}
.alert-info .alert-link {
  color: #245269;
}
.alert-warning {
  background-color: #fcf8e3;
  border-color: #faebcc;
  color: #8a6d3b;
}
.alert-warning hr {
  border-top-color: #f7e1b5;
}
.alert-warning .alert-link {
  color: #66512c;
}
.alert-danger {
  background-color: #f2dede;
  border-color: #ebccd1;
  color: #a94442;
}
.alert-danger hr {
  border-top-color: #e4b9c0;
}
.alert-danger .alert-link {
  color: #843534;
}
@-webkit-keyframes progress-bar-stripes {
  from {
    background-position: 40px 0;
  }
  to {
    background-position: 0 0;
  }
}
@keyframes progress-bar-stripes {
  from {
    background-position: 40px 0;
  }
  to {
    background-position: 0 0;
  }
}
.progress {
  overflow: hidden;
  height: 18px;
  margin-bottom: 18px;
  background-color: #f5f5f5;
  border-radius: 2px;
  -webkit-box-shadow: inset 0 1px 2px rgba(0, 0, 0, 0.1);
  box-shadow: inset 0 1px 2px rgba(0, 0, 0, 0.1);
}
.progress-bar {
  float: left;
  width: 0%;
  height: 100%;
  font-size: 12px;
  line-height: 18px;
  color: #fff;
  text-align: center;
  background-color: #337ab7;
  -webkit-box-shadow: inset 0 -1px 0 rgba(0, 0, 0, 0.15);
  box-shadow: inset 0 -1px 0 rgba(0, 0, 0, 0.15);
  -webkit-transition: width 0.6s ease;
  -o-transition: width 0.6s ease;
  transition: width 0.6s ease;
}
.progress-striped .progress-bar,
.progress-bar-striped {
  background-image: -webkit-linear-gradient(45deg, rgba(255, 255, 255, 0.15) 25%, transparent 25%, transparent 50%, rgba(255, 255, 255, 0.15) 50%, rgba(255, 255, 255, 0.15) 75%, transparent 75%, transparent);
  background-image: -o-linear-gradient(45deg, rgba(255, 255, 255, 0.15) 25%, transparent 25%, transparent 50%, rgba(255, 255, 255, 0.15) 50%, rgba(255, 255, 255, 0.15) 75%, transparent 75%, transparent);
  background-image: linear-gradient(45deg, rgba(255, 255, 255, 0.15) 25%, transparent 25%, transparent 50%, rgba(255, 255, 255, 0.15) 50%, rgba(255, 255, 255, 0.15) 75%, transparent 75%, transparent);
  background-size: 40px 40px;
}
.progress.active .progress-bar,
.progress-bar.active {
  -webkit-animation: progress-bar-stripes 2s linear infinite;
  -o-animation: progress-bar-stripes 2s linear infinite;
  animation: progress-bar-stripes 2s linear infinite;
}
.progress-bar-success {
  background-color: #5cb85c;
}
.progress-striped .progress-bar-success {
  background-image: -webkit-linear-gradient(45deg, rgba(255, 255, 255, 0.15) 25%, transparent 25%, transparent 50%, rgba(255, 255, 255, 0.15) 50%, rgba(255, 255, 255, 0.15) 75%, transparent 75%, transparent);
  background-image: -o-linear-gradient(45deg, rgba(255, 255, 255, 0.15) 25%, transparent 25%, transparent 50%, rgba(255, 255, 255, 0.15) 50%, rgba(255, 255, 255, 0.15) 75%, transparent 75%, transparent);
  background-image: linear-gradient(45deg, rgba(255, 255, 255, 0.15) 25%, transparent 25%, transparent 50%, rgba(255, 255, 255, 0.15) 50%, rgba(255, 255, 255, 0.15) 75%, transparent 75%, transparent);
}
.progress-bar-info {
  background-color: #5bc0de;
}
.progress-striped .progress-bar-info {
  background-image: -webkit-linear-gradient(45deg, rgba(255, 255, 255, 0.15) 25%, transparent 25%, transparent 50%, rgba(255, 255, 255, 0.15) 50%, rgba(255, 255, 255, 0.15) 75%, transparent 75%, transparent);
  background-image: -o-linear-gradient(45deg, rgba(255, 255, 255, 0.15) 25%, transparent 25%, transparent 50%, rgba(255, 255, 255, 0.15) 50%, rgba(255, 255, 255, 0.15) 75%, transparent 75%, transparent);
  background-image: linear-gradient(45deg, rgba(255, 255, 255, 0.15) 25%, transparent 25%, transparent 50%, rgba(255, 255, 255, 0.15) 50%, rgba(255, 255, 255, 0.15) 75%, transparent 75%, transparent);
}
.progress-bar-warning {
  background-color: #f0ad4e;
}
.progress-striped .progress-bar-warning {
  background-image: -webkit-linear-gradient(45deg, rgba(255, 255, 255, 0.15) 25%, transparent 25%, transparent 50%, rgba(255, 255, 255, 0.15) 50%, rgba(255, 255, 255, 0.15) 75%, transparent 75%, transparent);
  background-image: -o-linear-gradient(45deg, rgba(255, 255, 255, 0.15) 25%, transparent 25%, transparent 50%, rgba(255, 255, 255, 0.15) 50%, rgba(255, 255, 255, 0.15) 75%, transparent 75%, transparent);
  background-image: linear-gradient(45deg, rgba(255, 255, 255, 0.15) 25%, transparent 25%, transparent 50%, rgba(255, 255, 255, 0.15) 50%, rgba(255, 255, 255, 0.15) 75%, transparent 75%, transparent);
}
.progress-bar-danger {
  background-color: #d9534f;
}
.progress-striped .progress-bar-danger {
  background-image: -webkit-linear-gradient(45deg, rgba(255, 255, 255, 0.15) 25%, transparent 25%, transparent 50%, rgba(255, 255, 255, 0.15) 50%, rgba(255, 255, 255, 0.15) 75%, transparent 75%, transparent);
  background-image: -o-linear-gradient(45deg, rgba(255, 255, 255, 0.15) 25%, transparent 25%, transparent 50%, rgba(255, 255, 255, 0.15) 50%, rgba(255, 255, 255, 0.15) 75%, transparent 75%, transparent);
  background-image: linear-gradient(45deg, rgba(255, 255, 255, 0.15) 25%, transparent 25%, transparent 50%, rgba(255, 255, 255, 0.15) 50%, rgba(255, 255, 255, 0.15) 75%, transparent 75%, transparent);
}
.media {
  margin-top: 15px;
}
.media:first-child {
  margin-top: 0;
}
.media,
.media-body {
  zoom: 1;
  overflow: hidden;
}
.media-body {
  width: 10000px;
}
.media-object {
  display: block;
}
.media-object.img-thumbnail {
  max-width: none;
}
.media-right,
.media > .pull-right {
  padding-left: 10px;
}
.media-left,
.media > .pull-left {
  padding-right: 10px;
}
.media-left,
.media-right,
.media-body {
  display: table-cell;
  vertical-align: top;
}
.media-middle {
  vertical-align: middle;
}
.media-bottom {
  vertical-align: bottom;
}
.media-heading {
  margin-top: 0;
  margin-bottom: 5px;
}
.media-list {
  padding-left: 0;
  list-style: none;
}
.list-group {
  margin-bottom: 20px;
  padding-left: 0;
}
.list-group-item {
  position: relative;
  display: block;
  padding: 10px 15px;
  margin-bottom: -1px;
  background-color: #fff;
  border: 1px solid #ddd;
}
.list-group-item:first-child {
  border-top-right-radius: 2px;
  border-top-left-radius: 2px;
}
.list-group-item:last-child {
  margin-bottom: 0;
  border-bottom-right-radius: 2px;
  border-bottom-left-radius: 2px;
}
a.list-group-item,
button.list-group-item {
  color: #555;
}
a.list-group-item .list-group-item-heading,
button.list-group-item .list-group-item-heading {
  color: #333;
}
a.list-group-item:hover,
button.list-group-item:hover,
a.list-group-item:focus,
button.list-group-item:focus {
  text-decoration: none;
  color: #555;
  background-color: #f5f5f5;
}
button.list-group-item {
  width: 100%;
  text-align: left;
}
.list-group-item.disabled,
.list-group-item.disabled:hover,
.list-group-item.disabled:focus {
  background-color: #eeeeee;
  color: #777777;
  cursor: not-allowed;
}
.list-group-item.disabled .list-group-item-heading,
.list-group-item.disabled:hover .list-group-item-heading,
.list-group-item.disabled:focus .list-group-item-heading {
  color: inherit;
}
.list-group-item.disabled .list-group-item-text,
.list-group-item.disabled:hover .list-group-item-text,
.list-group-item.disabled:focus .list-group-item-text {
  color: #777777;
}
.list-group-item.active,
.list-group-item.active:hover,
.list-group-item.active:focus {
  z-index: 2;
  color: #fff;
  background-color: #337ab7;
  border-color: #337ab7;
}
.list-group-item.active .list-group-item-heading,
.list-group-item.active:hover .list-group-item-heading,
.list-group-item.active:focus .list-group-item-heading,
.list-group-item.active .list-group-item-heading > small,
.list-group-item.active:hover .list-group-item-heading > small,
.list-group-item.active:focus .list-group-item-heading > small,
.list-group-item.active .list-group-item-heading > .small,
.list-group-item.active:hover .list-group-item-heading > .small,
.list-group-item.active:focus .list-group-item-heading > .small {
  color: inherit;
}
.list-group-item.active .list-group-item-text,
.list-group-item.active:hover .list-group-item-text,
.list-group-item.active:focus .list-group-item-text {
  color: #c7ddef;
}
.list-group-item-success {
  color: #3c763d;
  background-color: #dff0d8;
}
a.list-group-item-success,
button.list-group-item-success {
  color: #3c763d;
}
a.list-group-item-success .list-group-item-heading,
button.list-group-item-success .list-group-item-heading {
  color: inherit;
}
a.list-group-item-success:hover,
button.list-group-item-success:hover,
a.list-group-item-success:focus,
button.list-group-item-success:focus {
  color: #3c763d;
  background-color: #d0e9c6;
}
a.list-group-item-success.active,
button.list-group-item-success.active,
a.list-group-item-success.active:hover,
button.list-group-item-success.active:hover,
a.list-group-item-success.active:focus,
button.list-group-item-success.active:focus {
  color: #fff;
  background-color: #3c763d;
  border-color: #3c763d;
}
.list-group-item-info {
  color: #31708f;
  background-color: #d9edf7;
}
a.list-group-item-info,
button.list-group-item-info {
  color: #31708f;
}
a.list-group-item-info .list-group-item-heading,
button.list-group-item-info .list-group-item-heading {
  color: inherit;
}
a.list-group-item-info:hover,
button.list-group-item-info:hover,
a.list-group-item-info:focus,
button.list-group-item-info:focus {
  color: #31708f;
  background-color: #c4e3f3;
}
a.list-group-item-info.active,
button.list-group-item-info.active,
a.list-group-item-info.active:hover,
button.list-group-item-info.active:hover,
a.list-group-item-info.active:focus,
button.list-group-item-info.active:focus {
  color: #fff;
  background-color: #31708f;
  border-color: #31708f;
}
.list-group-item-warning {
  color: #8a6d3b;
  background-color: #fcf8e3;
}
a.list-group-item-warning,
button.list-group-item-warning {
  color: #8a6d3b;
}
a.list-group-item-warning .list-group-item-heading,
button.list-group-item-warning .list-group-item-heading {
  color: inherit;
}
a.list-group-item-warning:hover,
button.list-group-item-warning:hover,
a.list-group-item-warning:focus,
button.list-group-item-warning:focus {
  color: #8a6d3b;
  background-color: #faf2cc;
}
a.list-group-item-warning.active,
button.list-group-item-warning.active,
a.list-group-item-warning.active:hover,
button.list-group-item-warning.active:hover,
a.list-group-item-warning.active:focus,
button.list-group-item-warning.active:focus {
  color: #fff;
  background-color: #8a6d3b;
  border-color: #8a6d3b;
}
.list-group-item-danger {
  color: #a94442;
  background-color: #f2dede;
}
a.list-group-item-danger,
button.list-group-item-danger {
  color: #a94442;
}
a.list-group-item-danger .list-group-item-heading,
button.list-group-item-danger .list-group-item-heading {
  color: inherit;
}
a.list-group-item-danger:hover,
button.list-group-item-danger:hover,
a.list-group-item-danger:focus,
button.list-group-item-danger:focus {
  color: #a94442;
  background-color: #ebcccc;
}
a.list-group-item-danger.active,
button.list-group-item-danger.active,
a.list-group-item-danger.active:hover,
button.list-group-item-danger.active:hover,
a.list-group-item-danger.active:focus,
button.list-group-item-danger.active:focus {
  color: #fff;
  background-color: #a94442;
  border-color: #a94442;
}
.list-group-item-heading {
  margin-top: 0;
  margin-bottom: 5px;
}
.list-group-item-text {
  margin-bottom: 0;
  line-height: 1.3;
}
.panel {
  margin-bottom: 18px;
  background-color: #fff;
  border: 1px solid transparent;
  border-radius: 2px;
  -webkit-box-shadow: 0 1px 1px rgba(0, 0, 0, 0.05);
  box-shadow: 0 1px 1px rgba(0, 0, 0, 0.05);
}
.panel-body {
  padding: 15px;
}
.panel-heading {
  padding: 10px 15px;
  border-bottom: 1px solid transparent;
  border-top-right-radius: 1px;
  border-top-left-radius: 1px;
}
.panel-heading > .dropdown .dropdown-toggle {
  color: inherit;
}
.panel-title {
  margin-top: 0;
  margin-bottom: 0;
  font-size: 15px;
  color: inherit;
}
.panel-title > a,
.panel-title > small,
.panel-title > .small,
.panel-title > small > a,
.panel-title > .small > a {
  color: inherit;
}
.panel-footer {
  padding: 10px 15px;
  background-color: #f5f5f5;
  border-top: 1px solid #ddd;
  border-bottom-right-radius: 1px;
  border-bottom-left-radius: 1px;
}
.panel > .list-group,
.panel > .panel-collapse > .list-group {
  margin-bottom: 0;
}
.panel > .list-group .list-group-item,
.panel > .panel-collapse > .list-group .list-group-item {
  border-width: 1px 0;
  border-radius: 0;
}
.panel > .list-group:first-child .list-group-item:first-child,
.panel > .panel-collapse > .list-group:first-child .list-group-item:first-child {
  border-top: 0;
  border-top-right-radius: 1px;
  border-top-left-radius: 1px;
}
.panel > .list-group:last-child .list-group-item:last-child,
.panel > .panel-collapse > .list-group:last-child .list-group-item:last-child {
  border-bottom: 0;
  border-bottom-right-radius: 1px;
  border-bottom-left-radius: 1px;
}
.panel > .panel-heading + .panel-collapse > .list-group .list-group-item:first-child {
  border-top-right-radius: 0;
  border-top-left-radius: 0;
}
.panel-heading + .list-group .list-group-item:first-child {
  border-top-width: 0;
}
.list-group + .panel-footer {
  border-top-width: 0;
}
.panel > .table,
.panel > .table-responsive > .table,
.panel > .panel-collapse > .table {
  margin-bottom: 0;
}
.panel > .table caption,
.panel > .table-responsive > .table caption,
.panel > .panel-collapse > .table caption {
  padding-left: 15px;
  padding-right: 15px;
}
.panel > .table:first-child,
.panel > .table-responsive:first-child > .table:first-child {
  border-top-right-radius: 1px;
  border-top-left-radius: 1px;
}
.panel > .table:first-child > thead:first-child > tr:first-child,
.panel > .table-responsive:first-child > .table:first-child > thead:first-child > tr:first-child,
.panel > .table:first-child > tbody:first-child > tr:first-child,
.panel > .table-responsive:first-child > .table:first-child > tbody:first-child > tr:first-child {
  border-top-left-radius: 1px;
  border-top-right-radius: 1px;
}
.panel > .table:first-child > thead:first-child > tr:first-child td:first-child,
.panel > .table-responsive:first-child > .table:first-child > thead:first-child > tr:first-child td:first-child,
.panel > .table:first-child > tbody:first-child > tr:first-child td:first-child,
.panel > .table-responsive:first-child > .table:first-child > tbody:first-child > tr:first-child td:first-child,
.panel > .table:first-child > thead:first-child > tr:first-child th:first-child,
.panel > .table-responsive:first-child > .table:first-child > thead:first-child > tr:first-child th:first-child,
.panel > .table:first-child > tbody:first-child > tr:first-child th:first-child,
.panel > .table-responsive:first-child > .table:first-child > tbody:first-child > tr:first-child th:first-child {
  border-top-left-radius: 1px;
}
.panel > .table:first-child > thead:first-child > tr:first-child td:last-child,
.panel > .table-responsive:first-child > .table:first-child > thead:first-child > tr:first-child td:last-child,
.panel > .table:first-child > tbody:first-child > tr:first-child td:last-child,
.panel > .table-responsive:first-child > .table:first-child > tbody:first-child > tr:first-child td:last-child,
.panel > .table:first-child > thead:first-child > tr:first-child th:last-child,
.panel > .table-responsive:first-child > .table:first-child > thead:first-child > tr:first-child th:last-child,
.panel > .table:first-child > tbody:first-child > tr:first-child th:last-child,
.panel > .table-responsive:first-child > .table:first-child > tbody:first-child > tr:first-child th:last-child {
  border-top-right-radius: 1px;
}
.panel > .table:last-child,
.panel > .table-responsive:last-child > .table:last-child {
  border-bottom-right-radius: 1px;
  border-bottom-left-radius: 1px;
}
.panel > .table:last-child > tbody:last-child > tr:last-child,
.panel > .table-responsive:last-child > .table:last-child > tbody:last-child > tr:last-child,
.panel > .table:last-child > tfoot:last-child > tr:last-child,
.panel > .table-responsive:last-child > .table:last-child > tfoot:last-child > tr:last-child {
  border-bottom-left-radius: 1px;
  border-bottom-right-radius: 1px;
}
.panel > .table:last-child > tbody:last-child > tr:last-child td:first-child,
.panel > .table-responsive:last-child > .table:last-child > tbody:last-child > tr:last-child td:first-child,
.panel > .table:last-child > tfoot:last-child > tr:last-child td:first-child,
.panel > .table-responsive:last-child > .table:last-child > tfoot:last-child > tr:last-child td:first-child,
.panel > .table:last-child > tbody:last-child > tr:last-child th:first-child,
.panel > .table-responsive:last-child > .table:last-child > tbody:last-child > tr:last-child th:first-child,
.panel > .table:last-child > tfoot:last-child > tr:last-child th:first-child,
.panel > .table-responsive:last-child > .table:last-child > tfoot:last-child > tr:last-child th:first-child {
  border-bottom-left-radius: 1px;
}
.panel > .table:last-child > tbody:last-child > tr:last-child td:last-child,
.panel > .table-responsive:last-child > .table:last-child > tbody:last-child > tr:last-child td:last-child,
.panel > .table:last-child > tfoot:last-child > tr:last-child td:last-child,
.panel > .table-responsive:last-child > .table:last-child > tfoot:last-child > tr:last-child td:last-child,
.panel > .table:last-child > tbody:last-child > tr:last-child th:last-child,
.panel > .table-responsive:last-child > .table:last-child > tbody:last-child > tr:last-child th:last-child,
.panel > .table:last-child > tfoot:last-child > tr:last-child th:last-child,
.panel > .table-responsive:last-child > .table:last-child > tfoot:last-child > tr:last-child th:last-child {
  border-bottom-right-radius: 1px;
}
.panel > .panel-body + .table,
.panel > .panel-body + .table-responsive,
.panel > .table + .panel-body,
.panel > .table-responsive + .panel-body {
  border-top: 1px solid #ddd;
}
.panel > .table > tbody:first-child > tr:first-child th,
.panel > .table > tbody:first-child > tr:first-child td {
  border-top: 0;
}
.panel > .table-bordered,
.panel > .table-responsive > .table-bordered {
  border: 0;
}
.panel > .table-bordered > thead > tr > th:first-child,
.panel > .table-responsive > .table-bordered > thead > tr > th:first-child,
.panel > .table-bordered > tbody > tr > th:first-child,
.panel > .table-responsive > .table-bordered > tbody > tr > th:first-child,
.panel > .table-bordered > tfoot > tr > th:first-child,
.panel > .table-responsive > .table-bordered > tfoot > tr > th:first-child,
.panel > .table-bordered > thead > tr > td:first-child,
.panel > .table-responsive > .table-bordered > thead > tr > td:first-child,
.panel > .table-bordered > tbody > tr > td:first-child,
.panel > .table-responsive > .table-bordered > tbody > tr > td:first-child,
.panel > .table-bordered > tfoot > tr > td:first-child,
.panel > .table-responsive > .table-bordered > tfoot > tr > td:first-child {
  border-left: 0;
}
.panel > .table-bordered > thead > tr > th:last-child,
.panel > .table-responsive > .table-bordered > thead > tr > th:last-child,
.panel > .table-bordered > tbody > tr > th:last-child,
.panel > .table-responsive > .table-bordered > tbody > tr > th:last-child,
.panel > .table-bordered > tfoot > tr > th:last-child,
.panel > .table-responsive > .table-bordered > tfoot > tr > th:last-child,
.panel > .table-bordered > thead > tr > td:last-child,
.panel > .table-responsive > .table-bordered > thead > tr > td:last-child,
.panel > .table-bordered > tbody > tr > td:last-child,
.panel > .table-responsive > .table-bordered > tbody > tr > td:last-child,
.panel > .table-bordered > tfoot > tr > td:last-child,
.panel > .table-responsive > .table-bordered > tfoot > tr > td:last-child {
  border-right: 0;
}
.panel > .table-bordered > thead > tr:first-child > td,
.panel > .table-responsive > .table-bordered > thead > tr:first-child > td,
.panel > .table-bordered > tbody > tr:first-child > td,
.panel > .table-responsive > .table-bordered > tbody > tr:first-child > td,
.panel > .table-bordered > thead > tr:first-child > th,
.panel > .table-responsive > .table-bordered > thead > tr:first-child > th,
.panel > .table-bordered > tbody > tr:first-child > th,
.panel > .table-responsive > .table-bordered > tbody > tr:first-child > th {
  border-bottom: 0;
}
.panel > .table-bordered > tbody > tr:last-child > td,
.panel > .table-responsive > .table-bordered > tbody > tr:last-child > td,
.panel > .table-bordered > tfoot > tr:last-child > td,
.panel > .table-responsive > .table-bordered > tfoot > tr:last-child > td,
.panel > .table-bordered > tbody > tr:last-child > th,
.panel > .table-responsive > .table-bordered > tbody > tr:last-child > th,
.panel > .table-bordered > tfoot > tr:last-child > th,
.panel > .table-responsive > .table-bordered > tfoot > tr:last-child > th {
  border-bottom: 0;
}
.panel > .table-responsive {
  border: 0;
  margin-bottom: 0;
}
.panel-group {
  margin-bottom: 18px;
}
.panel-group .panel {
  margin-bottom: 0;
  border-radius: 2px;
}
.panel-group .panel + .panel {
  margin-top: 5px;
}
.panel-group .panel-heading {
  border-bottom: 0;
}
.panel-group .panel-heading + .panel-collapse > .panel-body,
.panel-group .panel-heading + .panel-collapse > .list-group {
  border-top: 1px solid #ddd;
}
.panel-group .panel-footer {
  border-top: 0;
}
.panel-group .panel-footer + .panel-collapse .panel-body {
  border-bottom: 1px solid #ddd;
}
.panel-default {
  border-color: #ddd;
}
.panel-default > .panel-heading {
  color: #333333;
  background-color: #f5f5f5;
  border-color: #ddd;
}
.panel-default > .panel-heading + .panel-collapse > .panel-body {
  border-top-color: #ddd;
}
.panel-default > .panel-heading .badge {
  color: #f5f5f5;
  background-color: #333333;
}
.panel-default > .panel-footer + .panel-collapse > .panel-body {
  border-bottom-color: #ddd;
}
.panel-primary {
  border-color: #337ab7;
}
.panel-primary > .panel-heading {
  color: #fff;
  background-color: #337ab7;
  border-color: #337ab7;
}
.panel-primary > .panel-heading + .panel-collapse > .panel-body {
  border-top-color: #337ab7;
}
.panel-primary > .panel-heading .badge {
  color: #337ab7;
  background-color: #fff;
}
.panel-primary > .panel-footer + .panel-collapse > .panel-body {
  border-bottom-color: #337ab7;
}
.panel-success {
  border-color: #d6e9c6;
}
.panel-success > .panel-heading {
  color: #3c763d;
  background-color: #dff0d8;
  border-color: #d6e9c6;
}
.panel-success > .panel-heading + .panel-collapse > .panel-body {
  border-top-color: #d6e9c6;
}
.panel-success > .panel-heading .badge {
  color: #dff0d8;
  background-color: #3c763d;
}
.panel-success > .panel-footer + .panel-collapse > .panel-body {
  border-bottom-color: #d6e9c6;
}
.panel-info {
  border-color: #bce8f1;
}
.panel-info > .panel-heading {
  color: #31708f;
  background-color: #d9edf7;
  border-color: #bce8f1;
}
.panel-info > .panel-heading + .panel-collapse > .panel-body {
  border-top-color: #bce8f1;
}
.panel-info > .panel-heading .badge {
  color: #d9edf7;
  background-color: #31708f;
}
.panel-info > .panel-footer + .panel-collapse > .panel-body {
  border-bottom-color: #bce8f1;
}
.panel-warning {
  border-color: #faebcc;
}
.panel-warning > .panel-heading {
  color: #8a6d3b;
  background-color: #fcf8e3;
  border-color: #faebcc;
}
.panel-warning > .panel-heading + .panel-collapse > .panel-body {
  border-top-color: #faebcc;
}
.panel-warning > .panel-heading .badge {
  color: #fcf8e3;
  background-color: #8a6d3b;
}
.panel-warning > .panel-footer + .panel-collapse > .panel-body {
  border-bottom-color: #faebcc;
}
.panel-danger {
  border-color: #ebccd1;
}
.panel-danger > .panel-heading {
  color: #a94442;
  background-color: #f2dede;
  border-color: #ebccd1;
}
.panel-danger > .panel-heading + .panel-collapse > .panel-body {
  border-top-color: #ebccd1;
}
.panel-danger > .panel-heading .badge {
  color: #f2dede;
  background-color: #a94442;
}
.panel-danger > .panel-footer + .panel-collapse > .panel-body {
  border-bottom-color: #ebccd1;
}
.embed-responsive {
  position: relative;
  display: block;
  height: 0;
  padding: 0;
  overflow: hidden;
}
.embed-responsive .embed-responsive-item,
.embed-responsive iframe,
.embed-responsive embed,
.embed-responsive object,
.embed-responsive video {
  position: absolute;
  top: 0;
  left: 0;
  bottom: 0;
  height: 100%;
  width: 100%;
  border: 0;
}
.embed-responsive-16by9 {
  padding-bottom: 56.25%;
}
.embed-responsive-4by3 {
  padding-bottom: 75%;
}
.well {
  min-height: 20px;
  padding: 19px;
  margin-bottom: 20px;
  background-color: #f5f5f5;
  border: 1px solid #e3e3e3;
  border-radius: 2px;
  -webkit-box-shadow: inset 0 1px 1px rgba(0, 0, 0, 0.05);
  box-shadow: inset 0 1px 1px rgba(0, 0, 0, 0.05);
}
.well blockquote {
  border-color: #ddd;
  border-color: rgba(0, 0, 0, 0.15);
}
.well-lg {
  padding: 24px;
  border-radius: 3px;
}
.well-sm {
  padding: 9px;
  border-radius: 1px;
}
.close {
  float: right;
  font-size: 19.5px;
  font-weight: bold;
  line-height: 1;
  color: #000;
  text-shadow: 0 1px 0 #fff;
  opacity: 0.2;
  filter: alpha(opacity=20);
}
.close:hover,
.close:focus {
  color: #000;
  text-decoration: none;
  cursor: pointer;
  opacity: 0.5;
  filter: alpha(opacity=50);
}
button.close {
  padding: 0;
  cursor: pointer;
  background: transparent;
  border: 0;
  -webkit-appearance: none;
}
.modal-open {
  overflow: hidden;
}
.modal {
  display: none;
  overflow: hidden;
  position: fixed;
  top: 0;
  right: 0;
  bottom: 0;
  left: 0;
  z-index: 1050;
  -webkit-overflow-scrolling: touch;
  outline: 0;
}
.modal.fade .modal-dialog {
  -webkit-transform: translate(0, -25%);
  -ms-transform: translate(0, -25%);
  -o-transform: translate(0, -25%);
  transform: translate(0, -25%);
  -webkit-transition: -webkit-transform 0.3s ease-out;
  -moz-transition: -moz-transform 0.3s ease-out;
  -o-transition: -o-transform 0.3s ease-out;
  transition: transform 0.3s ease-out;
}
.modal.in .modal-dialog {
  -webkit-transform: translate(0, 0);
  -ms-transform: translate(0, 0);
  -o-transform: translate(0, 0);
  transform: translate(0, 0);
}
.modal-open .modal {
  overflow-x: hidden;
  overflow-y: auto;
}
.modal-dialog {
  position: relative;
  width: auto;
  margin: 10px;
}
.modal-content {
  position: relative;
  background-color: #fff;
  border: 1px solid #999;
  border: 1px solid rgba(0, 0, 0, 0.2);
  border-radius: 3px;
  -webkit-box-shadow: 0 3px 9px rgba(0, 0, 0, 0.5);
  box-shadow: 0 3px 9px rgba(0, 0, 0, 0.5);
  background-clip: padding-box;
  outline: 0;
}
.modal-backdrop {
  position: fixed;
  top: 0;
  right: 0;
  bottom: 0;
  left: 0;
  z-index: 1040;
  background-color: #000;
}
.modal-backdrop.fade {
  opacity: 0;
  filter: alpha(opacity=0);
}
.modal-backdrop.in {
  opacity: 0.5;
  filter: alpha(opacity=50);
}
.modal-header {
  padding: 15px;
  border-bottom: 1px solid #e5e5e5;
}
.modal-header .close {
  margin-top: -2px;
}
.modal-title {
  margin: 0;
  line-height: 1.42857143;
}
.modal-body {
  position: relative;
  padding: 15px;
}
.modal-footer {
  padding: 15px;
  text-align: right;
  border-top: 1px solid #e5e5e5;
}
.modal-footer .btn + .btn {
  margin-left: 5px;
  margin-bottom: 0;
}
.modal-footer .btn-group .btn + .btn {
  margin-left: -1px;
}
.modal-footer .btn-block + .btn-block {
  margin-left: 0;
}
.modal-scrollbar-measure {
  position: absolute;
  top: -9999px;
  width: 50px;
  height: 50px;
  overflow: scroll;
}
@media (min-width: 768px) {
  .modal-dialog {
    width: 600px;
    margin: 30px auto;
  }
  .modal-content {
    -webkit-box-shadow: 0 5px 15px rgba(0, 0, 0, 0.5);
    box-shadow: 0 5px 15px rgba(0, 0, 0, 0.5);
  }
  .modal-sm {
    width: 300px;
  }
}
@media (min-width: 992px) {
  .modal-lg {
    width: 900px;
  }
}
.tooltip {
  position: absolute;
  z-index: 1070;
  display: block;
  font-family: "Helvetica Neue", Helvetica, Arial, sans-serif;
  font-style: normal;
  font-weight: normal;
  letter-spacing: normal;
  line-break: auto;
  line-height: 1.42857143;
  text-align: left;
  text-align: start;
  text-decoration: none;
  text-shadow: none;
  text-transform: none;
  white-space: normal;
  word-break: normal;
  word-spacing: normal;
  word-wrap: normal;
  font-size: 12px;
  opacity: 0;
  filter: alpha(opacity=0);
}
.tooltip.in {
  opacity: 0.9;
  filter: alpha(opacity=90);
}
.tooltip.top {
  margin-top: -3px;
  padding: 5px 0;
}
.tooltip.right {
  margin-left: 3px;
  padding: 0 5px;
}
.tooltip.bottom {
  margin-top: 3px;
  padding: 5px 0;
}
.tooltip.left {
  margin-left: -3px;
  padding: 0 5px;
}
.tooltip-inner {
  max-width: 200px;
  padding: 3px 8px;
  color: #fff;
  text-align: center;
  background-color: #000;
  border-radius: 2px;
}
.tooltip-arrow {
  position: absolute;
  width: 0;
  height: 0;
  border-color: transparent;
  border-style: solid;
}
.tooltip.top .tooltip-arrow {
  bottom: 0;
  left: 50%;
  margin-left: -5px;
  border-width: 5px 5px 0;
  border-top-color: #000;
}
.tooltip.top-left .tooltip-arrow {
  bottom: 0;
  right: 5px;
  margin-bottom: -5px;
  border-width: 5px 5px 0;
  border-top-color: #000;
}
.tooltip.top-right .tooltip-arrow {
  bottom: 0;
  left: 5px;
  margin-bottom: -5px;
  border-width: 5px 5px 0;
  border-top-color: #000;
}
.tooltip.right .tooltip-arrow {
  top: 50%;
  left: 0;
  margin-top: -5px;
  border-width: 5px 5px 5px 0;
  border-right-color: #000;
}
.tooltip.left .tooltip-arrow {
  top: 50%;
  right: 0;
  margin-top: -5px;
  border-width: 5px 0 5px 5px;
  border-left-color: #000;
}
.tooltip.bottom .tooltip-arrow {
  top: 0;
  left: 50%;
  margin-left: -5px;
  border-width: 0 5px 5px;
  border-bottom-color: #000;
}
.tooltip.bottom-left .tooltip-arrow {
  top: 0;
  right: 5px;
  margin-top: -5px;
  border-width: 0 5px 5px;
  border-bottom-color: #000;
}
.tooltip.bottom-right .tooltip-arrow {
  top: 0;
  left: 5px;
  margin-top: -5px;
  border-width: 0 5px 5px;
  border-bottom-color: #000;
}
.popover {
  position: absolute;
  top: 0;
  left: 0;
  z-index: 1060;
  display: none;
  max-width: 276px;
  padding: 1px;
  font-family: "Helvetica Neue", Helvetica, Arial, sans-serif;
  font-style: normal;
  font-weight: normal;
  letter-spacing: normal;
  line-break: auto;
  line-height: 1.42857143;
  text-align: left;
  text-align: start;
  text-decoration: none;
  text-shadow: none;
  text-transform: none;
  white-space: normal;
  word-break: normal;
  word-spacing: normal;
  word-wrap: normal;
  font-size: 13px;
  background-color: #fff;
  background-clip: padding-box;
  border: 1px solid #ccc;
  border: 1px solid rgba(0, 0, 0, 0.2);
  border-radius: 3px;
  -webkit-box-shadow: 0 5px 10px rgba(0, 0, 0, 0.2);
  box-shadow: 0 5px 10px rgba(0, 0, 0, 0.2);
}
.popover.top {
  margin-top: -10px;
}
.popover.right {
  margin-left: 10px;
}
.popover.bottom {
  margin-top: 10px;
}
.popover.left {
  margin-left: -10px;
}
.popover-title {
  margin: 0;
  padding: 8px 14px;
  font-size: 13px;
  background-color: #f7f7f7;
  border-bottom: 1px solid #ebebeb;
  border-radius: 2px 2px 0 0;
}
.popover-content {
  padding: 9px 14px;
}
.popover > .arrow,
.popover > .arrow:after {
  position: absolute;
  display: block;
  width: 0;
  height: 0;
  border-color: transparent;
  border-style: solid;
}
.popover > .arrow {
  border-width: 11px;
}
.popover > .arrow:after {
  border-width: 10px;
  content: "";
}
.popover.top > .arrow {
  left: 50%;
  margin-left: -11px;
  border-bottom-width: 0;
  border-top-color: #999999;
  border-top-color: rgba(0, 0, 0, 0.25);
  bottom: -11px;
}
.popover.top > .arrow:after {
  content: " ";
  bottom: 1px;
  margin-left: -10px;
  border-bottom-width: 0;
  border-top-color: #fff;
}
.popover.right > .arrow {
  top: 50%;
  left: -11px;
  margin-top: -11px;
  border-left-width: 0;
  border-right-color: #999999;
  border-right-color: rgba(0, 0, 0, 0.25);
}
.popover.right > .arrow:after {
  content: " ";
  left: 1px;
  bottom: -10px;
  border-left-width: 0;
  border-right-color: #fff;
}
.popover.bottom > .arrow {
  left: 50%;
  margin-left: -11px;
  border-top-width: 0;
  border-bottom-color: #999999;
  border-bottom-color: rgba(0, 0, 0, 0.25);
  top: -11px;
}
.popover.bottom > .arrow:after {
  content: " ";
  top: 1px;
  margin-left: -10px;
  border-top-width: 0;
  border-bottom-color: #fff;
}
.popover.left > .arrow {
  top: 50%;
  right: -11px;
  margin-top: -11px;
  border-right-width: 0;
  border-left-color: #999999;
  border-left-color: rgba(0, 0, 0, 0.25);
}
.popover.left > .arrow:after {
  content: " ";
  right: 1px;
  border-right-width: 0;
  border-left-color: #fff;
  bottom: -10px;
}
.carousel {
  position: relative;
}
.carousel-inner {
  position: relative;
  overflow: hidden;
  width: 100%;
}
.carousel-inner > .item {
  display: none;
  position: relative;
  -webkit-transition: 0.6s ease-in-out left;
  -o-transition: 0.6s ease-in-out left;
  transition: 0.6s ease-in-out left;
}
.carousel-inner > .item > img,
.carousel-inner > .item > a > img {
  line-height: 1;
}
@media all and (transform-3d), (-webkit-transform-3d) {
  .carousel-inner > .item {
    -webkit-transition: -webkit-transform 0.6s ease-in-out;
    -moz-transition: -moz-transform 0.6s ease-in-out;
    -o-transition: -o-transform 0.6s ease-in-out;
    transition: transform 0.6s ease-in-out;
    -webkit-backface-visibility: hidden;
    -moz-backface-visibility: hidden;
    backface-visibility: hidden;
    -webkit-perspective: 1000px;
    -moz-perspective: 1000px;
    perspective: 1000px;
  }
  .carousel-inner > .item.next,
  .carousel-inner > .item.active.right {
    -webkit-transform: translate3d(100%, 0, 0);
    transform: translate3d(100%, 0, 0);
    left: 0;
  }
  .carousel-inner > .item.prev,
  .carousel-inner > .item.active.left {
    -webkit-transform: translate3d(-100%, 0, 0);
    transform: translate3d(-100%, 0, 0);
    left: 0;
  }
  .carousel-inner > .item.next.left,
  .carousel-inner > .item.prev.right,
  .carousel-inner > .item.active {
    -webkit-transform: translate3d(0, 0, 0);
    transform: translate3d(0, 0, 0);
    left: 0;
  }
}
.carousel-inner > .active,
.carousel-inner > .next,
.carousel-inner > .prev {
  display: block;
}
.carousel-inner > .active {
  left: 0;
}
.carousel-inner > .next,
.carousel-inner > .prev {
  position: absolute;
  top: 0;
  width: 100%;
}
.carousel-inner > .next {
  left: 100%;
}
.carousel-inner > .prev {
  left: -100%;
}
.carousel-inner > .next.left,
.carousel-inner > .prev.right {
  left: 0;
}
.carousel-inner > .active.left {
  left: -100%;
}
.carousel-inner > .active.right {
  left: 100%;
}
.carousel-control {
  position: absolute;
  top: 0;
  left: 0;
  bottom: 0;
  width: 15%;
  opacity: 0.5;
  filter: alpha(opacity=50);
  font-size: 20px;
  color: #fff;
  text-align: center;
  text-shadow: 0 1px 2px rgba(0, 0, 0, 0.6);
  background-color: rgba(0, 0, 0, 0);
}
.carousel-control.left {
  background-image: -webkit-linear-gradient(left, rgba(0, 0, 0, 0.5) 0%, rgba(0, 0, 0, 0.0001) 100%);
  background-image: -o-linear-gradient(left, rgba(0, 0, 0, 0.5) 0%, rgba(0, 0, 0, 0.0001) 100%);
  background-image: linear-gradient(to right, rgba(0, 0, 0, 0.5) 0%, rgba(0, 0, 0, 0.0001) 100%);
  background-repeat: repeat-x;
  filter: progid:DXImageTransform.Microsoft.gradient(startColorstr='#80000000', endColorstr='#00000000', GradientType=1);
}
.carousel-control.right {
  left: auto;
  right: 0;
  background-image: -webkit-linear-gradient(left, rgba(0, 0, 0, 0.0001) 0%, rgba(0, 0, 0, 0.5) 100%);
  background-image: -o-linear-gradient(left, rgba(0, 0, 0, 0.0001) 0%, rgba(0, 0, 0, 0.5) 100%);
  background-image: linear-gradient(to right, rgba(0, 0, 0, 0.0001) 0%, rgba(0, 0, 0, 0.5) 100%);
  background-repeat: repeat-x;
  filter: progid:DXImageTransform.Microsoft.gradient(startColorstr='#00000000', endColorstr='#80000000', GradientType=1);
}
.carousel-control:hover,
.carousel-control:focus {
  outline: 0;
  color: #fff;
  text-decoration: none;
  opacity: 0.9;
  filter: alpha(opacity=90);
}
.carousel-control .icon-prev,
.carousel-control .icon-next,
.carousel-control .glyphicon-chevron-left,
.carousel-control .glyphicon-chevron-right {
  position: absolute;
  top: 50%;
  margin-top: -10px;
  z-index: 5;
  display: inline-block;
}
.carousel-control .icon-prev,
.carousel-control .glyphicon-chevron-left {
  left: 50%;
  margin-left: -10px;
}
.carousel-control .icon-next,
.carousel-control .glyphicon-chevron-right {
  right: 50%;
  margin-right: -10px;
}
.carousel-control .icon-prev,
.carousel-control .icon-next {
  width: 20px;
  height: 20px;
  line-height: 1;
  font-family: serif;
}
.carousel-control .icon-prev:before {
  content: '\2039';
}
.carousel-control .icon-next:before {
  content: '\203a';
}
.carousel-indicators {
  position: absolute;
  bottom: 10px;
  left: 50%;
  z-index: 15;
  width: 60%;
  margin-left: -30%;
  padding-left: 0;
  list-style: none;
  text-align: center;
}
.carousel-indicators li {
  display: inline-block;
  width: 10px;
  height: 10px;
  margin: 1px;
  text-indent: -999px;
  border: 1px solid #fff;
  border-radius: 10px;
  cursor: pointer;
  background-color: #000 \9;
  background-color: rgba(0, 0, 0, 0);
}
.carousel-indicators .active {
  margin: 0;
  width: 12px;
  height: 12px;
  background-color: #fff;
}
.carousel-caption {
  position: absolute;
  left: 15%;
  right: 15%;
  bottom: 20px;
  z-index: 10;
  padding-top: 20px;
  padding-bottom: 20px;
  color: #fff;
  text-align: center;
  text-shadow: 0 1px 2px rgba(0, 0, 0, 0.6);
}
.carousel-caption .btn {
  text-shadow: none;
}
@media screen and (min-width: 768px) {
  .carousel-control .glyphicon-chevron-left,
  .carousel-control .glyphicon-chevron-right,
  .carousel-control .icon-prev,
  .carousel-control .icon-next {
    width: 30px;
    height: 30px;
    margin-top: -10px;
    font-size: 30px;
  }
  .carousel-control .glyphicon-chevron-left,
  .carousel-control .icon-prev {
    margin-left: -10px;
  }
  .carousel-control .glyphicon-chevron-right,
  .carousel-control .icon-next {
    margin-right: -10px;
  }
  .carousel-caption {
    left: 20%;
    right: 20%;
    padding-bottom: 30px;
  }
  .carousel-indicators {
    bottom: 20px;
  }
}
.clearfix:before,
.clearfix:after,
.dl-horizontal dd:before,
.dl-horizontal dd:after,
.container:before,
.container:after,
.container-fluid:before,
.container-fluid:after,
.row:before,
.row:after,
.form-horizontal .form-group:before,
.form-horizontal .form-group:after,
.btn-toolbar:before,
.btn-toolbar:after,
.btn-group-vertical > .btn-group:before,
.btn-group-vertical > .btn-group:after,
.nav:before,
.nav:after,
.navbar:before,
.navbar:after,
.navbar-header:before,
.navbar-header:after,
.navbar-collapse:before,
.navbar-collapse:after,
.pager:before,
.pager:after,
.panel-body:before,
.panel-body:after,
.modal-header:before,
.modal-header:after,
.modal-footer:before,
.modal-footer:after,
.item_buttons:before,
.item_buttons:after {
  content: " ";
  display: table;
}
.clearfix:after,
.dl-horizontal dd:after,
.container:after,
.container-fluid:after,
.row:after,
.form-horizontal .form-group:after,
.btn-toolbar:after,
.btn-group-vertical > .btn-group:after,
.nav:after,
.navbar:after,
.navbar-header:after,
.navbar-collapse:after,
.pager:after,
.panel-body:after,
.modal-header:after,
.modal-footer:after,
.item_buttons:after {
  clear: both;
}
.center-block {
  display: block;
  margin-left: auto;
  margin-right: auto;
}
.pull-right {
  float: right !important;
}
.pull-left {
  float: left !important;
}
.hide {
  display: none !important;
}
.show {
  display: block !important;
}
.invisible {
  visibility: hidden;
}
.text-hide {
  font: 0/0 a;
  color: transparent;
  text-shadow: none;
  background-color: transparent;
  border: 0;
}
.hidden {
  display: none !important;
}
.affix {
  position: fixed;
}
@-ms-viewport {
  width: device-width;
}
.visible-xs,
.visible-sm,
.visible-md,
.visible-lg {
  display: none !important;
}
.visible-xs-block,
.visible-xs-inline,
.visible-xs-inline-block,
.visible-sm-block,
.visible-sm-inline,
.visible-sm-inline-block,
.visible-md-block,
.visible-md-inline,
.visible-md-inline-block,
.visible-lg-block,
.visible-lg-inline,
.visible-lg-inline-block {
  display: none !important;
}
@media (max-width: 767px) {
  .visible-xs {
    display: block !important;
  }
  table.visible-xs {
    display: table !important;
  }
  tr.visible-xs {
    display: table-row !important;
  }
  th.visible-xs,
  td.visible-xs {
    display: table-cell !important;
  }
}
@media (max-width: 767px) {
  .visible-xs-block {
    display: block !important;
  }
}
@media (max-width: 767px) {
  .visible-xs-inline {
    display: inline !important;
  }
}
@media (max-width: 767px) {
  .visible-xs-inline-block {
    display: inline-block !important;
  }
}
@media (min-width: 768px) and (max-width: 991px) {
  .visible-sm {
    display: block !important;
  }
  table.visible-sm {
    display: table !important;
  }
  tr.visible-sm {
    display: table-row !important;
  }
  th.visible-sm,
  td.visible-sm {
    display: table-cell !important;
  }
}
@media (min-width: 768px) and (max-width: 991px) {
  .visible-sm-block {
    display: block !important;
  }
}
@media (min-width: 768px) and (max-width: 991px) {
  .visible-sm-inline {
    display: inline !important;
  }
}
@media (min-width: 768px) and (max-width: 991px) {
  .visible-sm-inline-block {
    display: inline-block !important;
  }
}
@media (min-width: 992px) and (max-width: 1199px) {
  .visible-md {
    display: block !important;
  }
  table.visible-md {
    display: table !important;
  }
  tr.visible-md {
    display: table-row !important;
  }
  th.visible-md,
  td.visible-md {
    display: table-cell !important;
  }
}
@media (min-width: 992px) and (max-width: 1199px) {
  .visible-md-block {
    display: block !important;
  }
}
@media (min-width: 992px) and (max-width: 1199px) {
  .visible-md-inline {
    display: inline !important;
  }
}
@media (min-width: 992px) and (max-width: 1199px) {
  .visible-md-inline-block {
    display: inline-block !important;
  }
}
@media (min-width: 1200px) {
  .visible-lg {
    display: block !important;
  }
  table.visible-lg {
    display: table !important;
  }
  tr.visible-lg {
    display: table-row !important;
  }
  th.visible-lg,
  td.visible-lg {
    display: table-cell !important;
  }
}
@media (min-width: 1200px) {
  .visible-lg-block {
    display: block !important;
  }
}
@media (min-width: 1200px) {
  .visible-lg-inline {
    display: inline !important;
  }
}
@media (min-width: 1200px) {
  .visible-lg-inline-block {
    display: inline-block !important;
  }
}
@media (max-width: 767px) {
  .hidden-xs {
    display: none !important;
  }
}
@media (min-width: 768px) and (max-width: 991px) {
  .hidden-sm {
    display: none !important;
  }
}
@media (min-width: 992px) and (max-width: 1199px) {
  .hidden-md {
    display: none !important;
  }
}
@media (min-width: 1200px) {
  .hidden-lg {
    display: none !important;
  }
}
.visible-print {
  display: none !important;
}
@media print {
  .visible-print {
    display: block !important;
  }
  table.visible-print {
    display: table !important;
  }
  tr.visible-print {
    display: table-row !important;
  }
  th.visible-print,
  td.visible-print {
    display: table-cell !important;
  }
}
.visible-print-block {
  display: none !important;
}
@media print {
  .visible-print-block {
    display: block !important;
  }
}
.visible-print-inline {
  display: none !important;
}
@media print {
  .visible-print-inline {
    display: inline !important;
  }
}
.visible-print-inline-block {
  display: none !important;
}
@media print {
  .visible-print-inline-block {
    display: inline-block !important;
  }
}
@media print {
  .hidden-print {
    display: none !important;
  }
}
/*!
*
* Font Awesome
*
*/
/*!
 *  Font Awesome 4.7.0 by @davegandy - http://fontawesome.io - @fontawesome
 *  License - http://fontawesome.io/license (Font: SIL OFL 1.1, CSS: MIT License)
 */
/* FONT PATH
 * -------------------------- */
@font-face {
  font-family: 'FontAwesome';
  src: url('../components/font-awesome/fonts/fontawesome-webfont.eot?v=4.7.0');
  src: url('../components/font-awesome/fonts/fontawesome-webfont.eot?#iefix&v=4.7.0') format('embedded-opentype'), url('../components/font-awesome/fonts/fontawesome-webfont.woff2?v=4.7.0') format('woff2'), url('../components/font-awesome/fonts/fontawesome-webfont.woff?v=4.7.0') format('woff'), url('../components/font-awesome/fonts/fontawesome-webfont.ttf?v=4.7.0') format('truetype'), url('../components/font-awesome/fonts/fontawesome-webfont.svg?v=4.7.0#fontawesomeregular') format('svg');
  font-weight: normal;
  font-style: normal;
}
.fa {
  display: inline-block;
  font: normal normal normal 14px/1 FontAwesome;
  font-size: inherit;
  text-rendering: auto;
  -webkit-font-smoothing: antialiased;
  -moz-osx-font-smoothing: grayscale;
}
/* makes the font 33% larger relative to the icon container */
.fa-lg {
  font-size: 1.33333333em;
  line-height: 0.75em;
  vertical-align: -15%;
}
.fa-2x {
  font-size: 2em;
}
.fa-3x {
  font-size: 3em;
}
.fa-4x {
  font-size: 4em;
}
.fa-5x {
  font-size: 5em;
}
.fa-fw {
  width: 1.28571429em;
  text-align: center;
}
.fa-ul {
  padding-left: 0;
  margin-left: 2.14285714em;
  list-style-type: none;
}
.fa-ul > li {
  position: relative;
}
.fa-li {
  position: absolute;
  left: -2.14285714em;
  width: 2.14285714em;
  top: 0.14285714em;
  text-align: center;
}
.fa-li.fa-lg {
  left: -1.85714286em;
}
.fa-border {
  padding: .2em .25em .15em;
  border: solid 0.08em #eee;
  border-radius: .1em;
}
.fa-pull-left {
  float: left;
}
.fa-pull-right {
  float: right;
}
.fa.fa-pull-left {
  margin-right: .3em;
}
.fa.fa-pull-right {
  margin-left: .3em;
}
/* Deprecated as of 4.4.0 */
.pull-right {
  float: right;
}
.pull-left {
  float: left;
}
.fa.pull-left {
  margin-right: .3em;
}
.fa.pull-right {
  margin-left: .3em;
}
.fa-spin {
  -webkit-animation: fa-spin 2s infinite linear;
  animation: fa-spin 2s infinite linear;
}
.fa-pulse {
  -webkit-animation: fa-spin 1s infinite steps(8);
  animation: fa-spin 1s infinite steps(8);
}
@-webkit-keyframes fa-spin {
  0% {
    -webkit-transform: rotate(0deg);
    transform: rotate(0deg);
  }
  100% {
    -webkit-transform: rotate(359deg);
    transform: rotate(359deg);
  }
}
@keyframes fa-spin {
  0% {
    -webkit-transform: rotate(0deg);
    transform: rotate(0deg);
  }
  100% {
    -webkit-transform: rotate(359deg);
    transform: rotate(359deg);
  }
}
.fa-rotate-90 {
  -ms-filter: "progid:DXImageTransform.Microsoft.BasicImage(rotation=1)";
  -webkit-transform: rotate(90deg);
  -ms-transform: rotate(90deg);
  transform: rotate(90deg);
}
.fa-rotate-180 {
  -ms-filter: "progid:DXImageTransform.Microsoft.BasicImage(rotation=2)";
  -webkit-transform: rotate(180deg);
  -ms-transform: rotate(180deg);
  transform: rotate(180deg);
}
.fa-rotate-270 {
  -ms-filter: "progid:DXImageTransform.Microsoft.BasicImage(rotation=3)";
  -webkit-transform: rotate(270deg);
  -ms-transform: rotate(270deg);
  transform: rotate(270deg);
}
.fa-flip-horizontal {
  -ms-filter: "progid:DXImageTransform.Microsoft.BasicImage(rotation=0, mirror=1)";
  -webkit-transform: scale(-1, 1);
  -ms-transform: scale(-1, 1);
  transform: scale(-1, 1);
}
.fa-flip-vertical {
  -ms-filter: "progid:DXImageTransform.Microsoft.BasicImage(rotation=2, mirror=1)";
  -webkit-transform: scale(1, -1);
  -ms-transform: scale(1, -1);
  transform: scale(1, -1);
}
:root .fa-rotate-90,
:root .fa-rotate-180,
:root .fa-rotate-270,
:root .fa-flip-horizontal,
:root .fa-flip-vertical {
  filter: none;
}
.fa-stack {
  position: relative;
  display: inline-block;
  width: 2em;
  height: 2em;
  line-height: 2em;
  vertical-align: middle;
}
.fa-stack-1x,
.fa-stack-2x {
  position: absolute;
  left: 0;
  width: 100%;
  text-align: center;
}
.fa-stack-1x {
  line-height: inherit;
}
.fa-stack-2x {
  font-size: 2em;
}
.fa-inverse {
  color: #fff;
}
/* Font Awesome uses the Unicode Private Use Area (PUA) to ensure screen
   readers do not read off random characters that represent icons */
.fa-glass:before {
  content: "\f000";
}
.fa-music:before {
  content: "\f001";
}
.fa-search:before {
  content: "\f002";
}
.fa-envelope-o:before {
  content: "\f003";
}
.fa-heart:before {
  content: "\f004";
}
.fa-star:before {
  content: "\f005";
}
.fa-star-o:before {
  content: "\f006";
}
.fa-user:before {
  content: "\f007";
}
.fa-film:before {
  content: "\f008";
}
.fa-th-large:before {
  content: "\f009";
}
.fa-th:before {
  content: "\f00a";
}
.fa-th-list:before {
  content: "\f00b";
}
.fa-check:before {
  content: "\f00c";
}
.fa-remove:before,
.fa-close:before,
.fa-times:before {
  content: "\f00d";
}
.fa-search-plus:before {
  content: "\f00e";
}
.fa-search-minus:before {
  content: "\f010";
}
.fa-power-off:before {
  content: "\f011";
}
.fa-signal:before {
  content: "\f012";
}
.fa-gear:before,
.fa-cog:before {
  content: "\f013";
}
.fa-trash-o:before {
  content: "\f014";
}
.fa-home:before {
  content: "\f015";
}
.fa-file-o:before {
  content: "\f016";
}
.fa-clock-o:before {
  content: "\f017";
}
.fa-road:before {
  content: "\f018";
}
.fa-download:before {
  content: "\f019";
}
.fa-arrow-circle-o-down:before {
  content: "\f01a";
}
.fa-arrow-circle-o-up:before {
  content: "\f01b";
}
.fa-inbox:before {
  content: "\f01c";
}
.fa-play-circle-o:before {
  content: "\f01d";
}
.fa-rotate-right:before,
.fa-repeat:before {
  content: "\f01e";
}
.fa-refresh:before {
  content: "\f021";
}
.fa-list-alt:before {
  content: "\f022";
}
.fa-lock:before {
  content: "\f023";
}
.fa-flag:before {
  content: "\f024";
}
.fa-headphones:before {
  content: "\f025";
}
.fa-volume-off:before {
  content: "\f026";
}
.fa-volume-down:before {
  content: "\f027";
}
.fa-volume-up:before {
  content: "\f028";
}
.fa-qrcode:before {
  content: "\f029";
}
.fa-barcode:before {
  content: "\f02a";
}
.fa-tag:before {
  content: "\f02b";
}
.fa-tags:before {
  content: "\f02c";
}
.fa-book:before {
  content: "\f02d";
}
.fa-bookmark:before {
  content: "\f02e";
}
.fa-print:before {
  content: "\f02f";
}
.fa-camera:before {
  content: "\f030";
}
.fa-font:before {
  content: "\f031";
}
.fa-bold:before {
  content: "\f032";
}
.fa-italic:before {
  content: "\f033";
}
.fa-text-height:before {
  content: "\f034";
}
.fa-text-width:before {
  content: "\f035";
}
.fa-align-left:before {
  content: "\f036";
}
.fa-align-center:before {
  content: "\f037";
}
.fa-align-right:before {
  content: "\f038";
}
.fa-align-justify:before {
  content: "\f039";
}
.fa-list:before {
  content: "\f03a";
}
.fa-dedent:before,
.fa-outdent:before {
  content: "\f03b";
}
.fa-indent:before {
  content: "\f03c";
}
.fa-video-camera:before {
  content: "\f03d";
}
.fa-photo:before,
.fa-image:before,
.fa-picture-o:before {
  content: "\f03e";
}
.fa-pencil:before {
  content: "\f040";
}
.fa-map-marker:before {
  content: "\f041";
}
.fa-adjust:before {
  content: "\f042";
}
.fa-tint:before {
  content: "\f043";
}
.fa-edit:before,
.fa-pencil-square-o:before {
  content: "\f044";
}
.fa-share-square-o:before {
  content: "\f045";
}
.fa-check-square-o:before {
  content: "\f046";
}
.fa-arrows:before {
  content: "\f047";
}
.fa-step-backward:before {
  content: "\f048";
}
.fa-fast-backward:before {
  content: "\f049";
}
.fa-backward:before {
  content: "\f04a";
}
.fa-play:before {
  content: "\f04b";
}
.fa-pause:before {
  content: "\f04c";
}
.fa-stop:before {
  content: "\f04d";
}
.fa-forward:before {
  content: "\f04e";
}
.fa-fast-forward:before {
  content: "\f050";
}
.fa-step-forward:before {
  content: "\f051";
}
.fa-eject:before {
  content: "\f052";
}
.fa-chevron-left:before {
  content: "\f053";
}
.fa-chevron-right:before {
  content: "\f054";
}
.fa-plus-circle:before {
  content: "\f055";
}
.fa-minus-circle:before {
  content: "\f056";
}
.fa-times-circle:before {
  content: "\f057";
}
.fa-check-circle:before {
  content: "\f058";
}
.fa-question-circle:before {
  content: "\f059";
}
.fa-info-circle:before {
  content: "\f05a";
}
.fa-crosshairs:before {
  content: "\f05b";
}
.fa-times-circle-o:before {
  content: "\f05c";
}
.fa-check-circle-o:before {
  content: "\f05d";
}
.fa-ban:before {
  content: "\f05e";
}
.fa-arrow-left:before {
  content: "\f060";
}
.fa-arrow-right:before {
  content: "\f061";
}
.fa-arrow-up:before {
  content: "\f062";
}
.fa-arrow-down:before {
  content: "\f063";
}
.fa-mail-forward:before,
.fa-share:before {
  content: "\f064";
}
.fa-expand:before {
  content: "\f065";
}
.fa-compress:before {
  content: "\f066";
}
.fa-plus:before {
  content: "\f067";
}
.fa-minus:before {
  content: "\f068";
}
.fa-asterisk:before {
  content: "\f069";
}
.fa-exclamation-circle:before {
  content: "\f06a";
}
.fa-gift:before {
  content: "\f06b";
}
.fa-leaf:before {
  content: "\f06c";
}
.fa-fire:before {
  content: "\f06d";
}
.fa-eye:before {
  content: "\f06e";
}
.fa-eye-slash:before {
  content: "\f070";
}
.fa-warning:before,
.fa-exclamation-triangle:before {
  content: "\f071";
}
.fa-plane:before {
  content: "\f072";
}
.fa-calendar:before {
  content: "\f073";
}
.fa-random:before {
  content: "\f074";
}
.fa-comment:before {
  content: "\f075";
}
.fa-magnet:before {
  content: "\f076";
}
.fa-chevron-up:before {
  content: "\f077";
}
.fa-chevron-down:before {
  content: "\f078";
}
.fa-retweet:before {
  content: "\f079";
}
.fa-shopping-cart:before {
  content: "\f07a";
}
.fa-folder:before {
  content: "\f07b";
}
.fa-folder-open:before {
  content: "\f07c";
}
.fa-arrows-v:before {
  content: "\f07d";
}
.fa-arrows-h:before {
  content: "\f07e";
}
.fa-bar-chart-o:before,
.fa-bar-chart:before {
  content: "\f080";
}
.fa-twitter-square:before {
  content: "\f081";
}
.fa-facebook-square:before {
  content: "\f082";
}
.fa-camera-retro:before {
  content: "\f083";
}
.fa-key:before {
  content: "\f084";
}
.fa-gears:before,
.fa-cogs:before {
  content: "\f085";
}
.fa-comments:before {
  content: "\f086";
}
.fa-thumbs-o-up:before {
  content: "\f087";
}
.fa-thumbs-o-down:before {
  content: "\f088";
}
.fa-star-half:before {
  content: "\f089";
}
.fa-heart-o:before {
  content: "\f08a";
}
.fa-sign-out:before {
  content: "\f08b";
}
.fa-linkedin-square:before {
  content: "\f08c";
}
.fa-thumb-tack:before {
  content: "\f08d";
}
.fa-external-link:before {
  content: "\f08e";
}
.fa-sign-in:before {
  content: "\f090";
}
.fa-trophy:before {
  content: "\f091";
}
.fa-github-square:before {
  content: "\f092";
}
.fa-upload:before {
  content: "\f093";
}
.fa-lemon-o:before {
  content: "\f094";
}
.fa-phone:before {
  content: "\f095";
}
.fa-square-o:before {
  content: "\f096";
}
.fa-bookmark-o:before {
  content: "\f097";
}
.fa-phone-square:before {
  content: "\f098";
}
.fa-twitter:before {
  content: "\f099";
}
.fa-facebook-f:before,
.fa-facebook:before {
  content: "\f09a";
}
.fa-github:before {
  content: "\f09b";
}
.fa-unlock:before {
  content: "\f09c";
}
.fa-credit-card:before {
  content: "\f09d";
}
.fa-feed:before,
.fa-rss:before {
  content: "\f09e";
}
.fa-hdd-o:before {
  content: "\f0a0";
}
.fa-bullhorn:before {
  content: "\f0a1";
}
.fa-bell:before {
  content: "\f0f3";
}
.fa-certificate:before {
  content: "\f0a3";
}
.fa-hand-o-right:before {
  content: "\f0a4";
}
.fa-hand-o-left:before {
  content: "\f0a5";
}
.fa-hand-o-up:before {
  content: "\f0a6";
}
.fa-hand-o-down:before {
  content: "\f0a7";
}
.fa-arrow-circle-left:before {
  content: "\f0a8";
}
.fa-arrow-circle-right:before {
  content: "\f0a9";
}
.fa-arrow-circle-up:before {
  content: "\f0aa";
}
.fa-arrow-circle-down:before {
  content: "\f0ab";
}
.fa-globe:before {
  content: "\f0ac";
}
.fa-wrench:before {
  content: "\f0ad";
}
.fa-tasks:before {
  content: "\f0ae";
}
.fa-filter:before {
  content: "\f0b0";
}
.fa-briefcase:before {
  content: "\f0b1";
}
.fa-arrows-alt:before {
  content: "\f0b2";
}
.fa-group:before,
.fa-users:before {
  content: "\f0c0";
}
.fa-chain:before,
.fa-link:before {
  content: "\f0c1";
}
.fa-cloud:before {
  content: "\f0c2";
}
.fa-flask:before {
  content: "\f0c3";
}
.fa-cut:before,
.fa-scissors:before {
  content: "\f0c4";
}
.fa-copy:before,
.fa-files-o:before {
  content: "\f0c5";
}
.fa-paperclip:before {
  content: "\f0c6";
}
.fa-save:before,
.fa-floppy-o:before {
  content: "\f0c7";
}
.fa-square:before {
  content: "\f0c8";
}
.fa-navicon:before,
.fa-reorder:before,
.fa-bars:before {
  content: "\f0c9";
}
.fa-list-ul:before {
  content: "\f0ca";
}
.fa-list-ol:before {
  content: "\f0cb";
}
.fa-strikethrough:before {
  content: "\f0cc";
}
.fa-underline:before {
  content: "\f0cd";
}
.fa-table:before {
  content: "\f0ce";
}
.fa-magic:before {
  content: "\f0d0";
}
.fa-truck:before {
  content: "\f0d1";
}
.fa-pinterest:before {
  content: "\f0d2";
}
.fa-pinterest-square:before {
  content: "\f0d3";
}
.fa-google-plus-square:before {
  content: "\f0d4";
}
.fa-google-plus:before {
  content: "\f0d5";
}
.fa-money:before {
  content: "\f0d6";
}
.fa-caret-down:before {
  content: "\f0d7";
}
.fa-caret-up:before {
  content: "\f0d8";
}
.fa-caret-left:before {
  content: "\f0d9";
}
.fa-caret-right:before {
  content: "\f0da";
}
.fa-columns:before {
  content: "\f0db";
}
.fa-unsorted:before,
.fa-sort:before {
  content: "\f0dc";
}
.fa-sort-down:before,
.fa-sort-desc:before {
  content: "\f0dd";
}
.fa-sort-up:before,
.fa-sort-asc:before {
  content: "\f0de";
}
.fa-envelope:before {
  content: "\f0e0";
}
.fa-linkedin:before {
  content: "\f0e1";
}
.fa-rotate-left:before,
.fa-undo:before {
  content: "\f0e2";
}
.fa-legal:before,
.fa-gavel:before {
  content: "\f0e3";
}
.fa-dashboard:before,
.fa-tachometer:before {
  content: "\f0e4";
}
.fa-comment-o:before {
  content: "\f0e5";
}
.fa-comments-o:before {
  content: "\f0e6";
}
.fa-flash:before,
.fa-bolt:before {
  content: "\f0e7";
}
.fa-sitemap:before {
  content: "\f0e8";
}
.fa-umbrella:before {
  content: "\f0e9";
}
.fa-paste:before,
.fa-clipboard:before {
  content: "\f0ea";
}
.fa-lightbulb-o:before {
  content: "\f0eb";
}
.fa-exchange:before {
  content: "\f0ec";
}
.fa-cloud-download:before {
  content: "\f0ed";
}
.fa-cloud-upload:before {
  content: "\f0ee";
}
.fa-user-md:before {
  content: "\f0f0";
}
.fa-stethoscope:before {
  content: "\f0f1";
}
.fa-suitcase:before {
  content: "\f0f2";
}
.fa-bell-o:before {
  content: "\f0a2";
}
.fa-coffee:before {
  content: "\f0f4";
}
.fa-cutlery:before {
  content: "\f0f5";
}
.fa-file-text-o:before {
  content: "\f0f6";
}
.fa-building-o:before {
  content: "\f0f7";
}
.fa-hospital-o:before {
  content: "\f0f8";
}
.fa-ambulance:before {
  content: "\f0f9";
}
.fa-medkit:before {
  content: "\f0fa";
}
.fa-fighter-jet:before {
  content: "\f0fb";
}
.fa-beer:before {
  content: "\f0fc";
}
.fa-h-square:before {
  content: "\f0fd";
}
.fa-plus-square:before {
  content: "\f0fe";
}
.fa-angle-double-left:before {
  content: "\f100";
}
.fa-angle-double-right:before {
  content: "\f101";
}
.fa-angle-double-up:before {
  content: "\f102";
}
.fa-angle-double-down:before {
  content: "\f103";
}
.fa-angle-left:before {
  content: "\f104";
}
.fa-angle-right:before {
  content: "\f105";
}
.fa-angle-up:before {
  content: "\f106";
}
.fa-angle-down:before {
  content: "\f107";
}
.fa-desktop:before {
  content: "\f108";
}
.fa-laptop:before {
  content: "\f109";
}
.fa-tablet:before {
  content: "\f10a";
}
.fa-mobile-phone:before,
.fa-mobile:before {
  content: "\f10b";
}
.fa-circle-o:before {
  content: "\f10c";
}
.fa-quote-left:before {
  content: "\f10d";
}
.fa-quote-right:before {
  content: "\f10e";
}
.fa-spinner:before {
  content: "\f110";
}
.fa-circle:before {
  content: "\f111";
}
.fa-mail-reply:before,
.fa-reply:before {
  content: "\f112";
}
.fa-github-alt:before {
  content: "\f113";
}
.fa-folder-o:before {
  content: "\f114";
}
.fa-folder-open-o:before {
  content: "\f115";
}
.fa-smile-o:before {
  content: "\f118";
}
.fa-frown-o:before {
  content: "\f119";
}
.fa-meh-o:before {
  content: "\f11a";
}
.fa-gamepad:before {
  content: "\f11b";
}
.fa-keyboard-o:before {
  content: "\f11c";
}
.fa-flag-o:before {
  content: "\f11d";
}
.fa-flag-checkered:before {
  content: "\f11e";
}
.fa-terminal:before {
  content: "\f120";
}
.fa-code:before {
  content: "\f121";
}
.fa-mail-reply-all:before,
.fa-reply-all:before {
  content: "\f122";
}
.fa-star-half-empty:before,
.fa-star-half-full:before,
.fa-star-half-o:before {
  content: "\f123";
}
.fa-location-arrow:before {
  content: "\f124";
}
.fa-crop:before {
  content: "\f125";
}
.fa-code-fork:before {
  content: "\f126";
}
.fa-unlink:before,
.fa-chain-broken:before {
  content: "\f127";
}
.fa-question:before {
  content: "\f128";
}
.fa-info:before {
  content: "\f129";
}
.fa-exclamation:before {
  content: "\f12a";
}
.fa-superscript:before {
  content: "\f12b";
}
.fa-subscript:before {
  content: "\f12c";
}
.fa-eraser:before {
  content: "\f12d";
}
.fa-puzzle-piece:before {
  content: "\f12e";
}
.fa-microphone:before {
  content: "\f130";
}
.fa-microphone-slash:before {
  content: "\f131";
}
.fa-shield:before {
  content: "\f132";
}
.fa-calendar-o:before {
  content: "\f133";
}
.fa-fire-extinguisher:before {
  content: "\f134";
}
.fa-rocket:before {
  content: "\f135";
}
.fa-maxcdn:before {
  content: "\f136";
}
.fa-chevron-circle-left:before {
  content: "\f137";
}
.fa-chevron-circle-right:before {
  content: "\f138";
}
.fa-chevron-circle-up:before {
  content: "\f139";
}
.fa-chevron-circle-down:before {
  content: "\f13a";
}
.fa-html5:before {
  content: "\f13b";
}
.fa-css3:before {
  content: "\f13c";
}
.fa-anchor:before {
  content: "\f13d";
}
.fa-unlock-alt:before {
  content: "\f13e";
}
.fa-bullseye:before {
  content: "\f140";
}
.fa-ellipsis-h:before {
  content: "\f141";
}
.fa-ellipsis-v:before {
  content: "\f142";
}
.fa-rss-square:before {
  content: "\f143";
}
.fa-play-circle:before {
  content: "\f144";
}
.fa-ticket:before {
  content: "\f145";
}
.fa-minus-square:before {
  content: "\f146";
}
.fa-minus-square-o:before {
  content: "\f147";
}
.fa-level-up:before {
  content: "\f148";
}
.fa-level-down:before {
  content: "\f149";
}
.fa-check-square:before {
  content: "\f14a";
}
.fa-pencil-square:before {
  content: "\f14b";
}
.fa-external-link-square:before {
  content: "\f14c";
}
.fa-share-square:before {
  content: "\f14d";
}
.fa-compass:before {
  content: "\f14e";
}
.fa-toggle-down:before,
.fa-caret-square-o-down:before {
  content: "\f150";
}
.fa-toggle-up:before,
.fa-caret-square-o-up:before {
  content: "\f151";
}
.fa-toggle-right:before,
.fa-caret-square-o-right:before {
  content: "\f152";
}
.fa-euro:before,
.fa-eur:before {
  content: "\f153";
}
.fa-gbp:before {
  content: "\f154";
}
.fa-dollar:before,
.fa-usd:before {
  content: "\f155";
}
.fa-rupee:before,
.fa-inr:before {
  content: "\f156";
}
.fa-cny:before,
.fa-rmb:before,
.fa-yen:before,
.fa-jpy:before {
  content: "\f157";
}
.fa-ruble:before,
.fa-rouble:before,
.fa-rub:before {
  content: "\f158";
}
.fa-won:before,
.fa-krw:before {
  content: "\f159";
}
.fa-bitcoin:before,
.fa-btc:before {
  content: "\f15a";
}
.fa-file:before {
  content: "\f15b";
}
.fa-file-text:before {
  content: "\f15c";
}
.fa-sort-alpha-asc:before {
  content: "\f15d";
}
.fa-sort-alpha-desc:before {
  content: "\f15e";
}
.fa-sort-amount-asc:before {
  content: "\f160";
}
.fa-sort-amount-desc:before {
  content: "\f161";
}
.fa-sort-numeric-asc:before {
  content: "\f162";
}
.fa-sort-numeric-desc:before {
  content: "\f163";
}
.fa-thumbs-up:before {
  content: "\f164";
}
.fa-thumbs-down:before {
  content: "\f165";
}
.fa-youtube-square:before {
  content: "\f166";
}
.fa-youtube:before {
  content: "\f167";
}
.fa-xing:before {
  content: "\f168";
}
.fa-xing-square:before {
  content: "\f169";
}
.fa-youtube-play:before {
  content: "\f16a";
}
.fa-dropbox:before {
  content: "\f16b";
}
.fa-stack-overflow:before {
  content: "\f16c";
}
.fa-instagram:before {
  content: "\f16d";
}
.fa-flickr:before {
  content: "\f16e";
}
.fa-adn:before {
  content: "\f170";
}
.fa-bitbucket:before {
  content: "\f171";
}
.fa-bitbucket-square:before {
  content: "\f172";
}
.fa-tumblr:before {
  content: "\f173";
}
.fa-tumblr-square:before {
  content: "\f174";
}
.fa-long-arrow-down:before {
  content: "\f175";
}
.fa-long-arrow-up:before {
  content: "\f176";
}
.fa-long-arrow-left:before {
  content: "\f177";
}
.fa-long-arrow-right:before {
  content: "\f178";
}
.fa-apple:before {
  content: "\f179";
}
.fa-windows:before {
  content: "\f17a";
}
.fa-android:before {
  content: "\f17b";
}
.fa-linux:before {
  content: "\f17c";
}
.fa-dribbble:before {
  content: "\f17d";
}
.fa-skype:before {
  content: "\f17e";
}
.fa-foursquare:before {
  content: "\f180";
}
.fa-trello:before {
  content: "\f181";
}
.fa-female:before {
  content: "\f182";
}
.fa-male:before {
  content: "\f183";
}
.fa-gittip:before,
.fa-gratipay:before {
  content: "\f184";
}
.fa-sun-o:before {
  content: "\f185";
}
.fa-moon-o:before {
  content: "\f186";
}
.fa-archive:before {
  content: "\f187";
}
.fa-bug:before {
  content: "\f188";
}
.fa-vk:before {
  content: "\f189";
}
.fa-weibo:before {
  content: "\f18a";
}
.fa-renren:before {
  content: "\f18b";
}
.fa-pagelines:before {
  content: "\f18c";
}
.fa-stack-exchange:before {
  content: "\f18d";
}
.fa-arrow-circle-o-right:before {
  content: "\f18e";
}
.fa-arrow-circle-o-left:before {
  content: "\f190";
}
.fa-toggle-left:before,
.fa-caret-square-o-left:before {
  content: "\f191";
}
.fa-dot-circle-o:before {
  content: "\f192";
}
.fa-wheelchair:before {
  content: "\f193";
}
.fa-vimeo-square:before {
  content: "\f194";
}
.fa-turkish-lira:before,
.fa-try:before {
  content: "\f195";
}
.fa-plus-square-o:before {
  content: "\f196";
}
.fa-space-shuttle:before {
  content: "\f197";
}
.fa-slack:before {
  content: "\f198";
}
.fa-envelope-square:before {
  content: "\f199";
}
.fa-wordpress:before {
  content: "\f19a";
}
.fa-openid:before {
  content: "\f19b";
}
.fa-institution:before,
.fa-bank:before,
.fa-university:before {
  content: "\f19c";
}
.fa-mortar-board:before,
.fa-graduation-cap:before {
  content: "\f19d";
}
.fa-yahoo:before {
  content: "\f19e";
}
.fa-google:before {
  content: "\f1a0";
}
.fa-reddit:before {
  content: "\f1a1";
}
.fa-reddit-square:before {
  content: "\f1a2";
}
.fa-stumbleupon-circle:before {
  content: "\f1a3";
}
.fa-stumbleupon:before {
  content: "\f1a4";
}
.fa-delicious:before {
  content: "\f1a5";
}
.fa-digg:before {
  content: "\f1a6";
}
.fa-pied-piper-pp:before {
  content: "\f1a7";
}
.fa-pied-piper-alt:before {
  content: "\f1a8";
}
.fa-drupal:before {
  content: "\f1a9";
}
.fa-joomla:before {
  content: "\f1aa";
}
.fa-language:before {
  content: "\f1ab";
}
.fa-fax:before {
  content: "\f1ac";
}
.fa-building:before {
  content: "\f1ad";
}
.fa-child:before {
  content: "\f1ae";
}
.fa-paw:before {
  content: "\f1b0";
}
.fa-spoon:before {
  content: "\f1b1";
}
.fa-cube:before {
  content: "\f1b2";
}
.fa-cubes:before {
  content: "\f1b3";
}
.fa-behance:before {
  content: "\f1b4";
}
.fa-behance-square:before {
  content: "\f1b5";
}
.fa-steam:before {
  content: "\f1b6";
}
.fa-steam-square:before {
  content: "\f1b7";
}
.fa-recycle:before {
  content: "\f1b8";
}
.fa-automobile:before,
.fa-car:before {
  content: "\f1b9";
}
.fa-cab:before,
.fa-taxi:before {
  content: "\f1ba";
}
.fa-tree:before {
  content: "\f1bb";
}
.fa-spotify:before {
  content: "\f1bc";
}
.fa-deviantart:before {
  content: "\f1bd";
}
.fa-soundcloud:before {
  content: "\f1be";
}
.fa-database:before {
  content: "\f1c0";
}
.fa-file-pdf-o:before {
  content: "\f1c1";
}
.fa-file-word-o:before {
  content: "\f1c2";
}
.fa-file-excel-o:before {
  content: "\f1c3";
}
.fa-file-powerpoint-o:before {
  content: "\f1c4";
}
.fa-file-photo-o:before,
.fa-file-picture-o:before,
.fa-file-image-o:before {
  content: "\f1c5";
}
.fa-file-zip-o:before,
.fa-file-archive-o:before {
  content: "\f1c6";
}
.fa-file-sound-o:before,
.fa-file-audio-o:before {
  content: "\f1c7";
}
.fa-file-movie-o:before,
.fa-file-video-o:before {
  content: "\f1c8";
}
.fa-file-code-o:before {
  content: "\f1c9";
}
.fa-vine:before {
  content: "\f1ca";
}
.fa-codepen:before {
  content: "\f1cb";
}
.fa-jsfiddle:before {
  content: "\f1cc";
}
.fa-life-bouy:before,
.fa-life-buoy:before,
.fa-life-saver:before,
.fa-support:before,
.fa-life-ring:before {
  content: "\f1cd";
}
.fa-circle-o-notch:before {
  content: "\f1ce";
}
.fa-ra:before,
.fa-resistance:before,
.fa-rebel:before {
  content: "\f1d0";
}
.fa-ge:before,
.fa-empire:before {
  content: "\f1d1";
}
.fa-git-square:before {
  content: "\f1d2";
}
.fa-git:before {
  content: "\f1d3";
}
.fa-y-combinator-square:before,
.fa-yc-square:before,
.fa-hacker-news:before {
  content: "\f1d4";
}
.fa-tencent-weibo:before {
  content: "\f1d5";
}
.fa-qq:before {
  content: "\f1d6";
}
.fa-wechat:before,
.fa-weixin:before {
  content: "\f1d7";
}
.fa-send:before,
.fa-paper-plane:before {
  content: "\f1d8";
}
.fa-send-o:before,
.fa-paper-plane-o:before {
  content: "\f1d9";
}
.fa-history:before {
  content: "\f1da";
}
.fa-circle-thin:before {
  content: "\f1db";
}
.fa-header:before {
  content: "\f1dc";
}
.fa-paragraph:before {
  content: "\f1dd";
}
.fa-sliders:before {
  content: "\f1de";
}
.fa-share-alt:before {
  content: "\f1e0";
}
.fa-share-alt-square:before {
  content: "\f1e1";
}
.fa-bomb:before {
  content: "\f1e2";
}
.fa-soccer-ball-o:before,
.fa-futbol-o:before {
  content: "\f1e3";
}
.fa-tty:before {
  content: "\f1e4";
}
.fa-binoculars:before {
  content: "\f1e5";
}
.fa-plug:before {
  content: "\f1e6";
}
.fa-slideshare:before {
  content: "\f1e7";
}
.fa-twitch:before {
  content: "\f1e8";
}
.fa-yelp:before {
  content: "\f1e9";
}
.fa-newspaper-o:before {
  content: "\f1ea";
}
.fa-wifi:before {
  content: "\f1eb";
}
.fa-calculator:before {
  content: "\f1ec";
}
.fa-paypal:before {
  content: "\f1ed";
}
.fa-google-wallet:before {
  content: "\f1ee";
}
.fa-cc-visa:before {
  content: "\f1f0";
}
.fa-cc-mastercard:before {
  content: "\f1f1";
}
.fa-cc-discover:before {
  content: "\f1f2";
}
.fa-cc-amex:before {
  content: "\f1f3";
}
.fa-cc-paypal:before {
  content: "\f1f4";
}
.fa-cc-stripe:before {
  content: "\f1f5";
}
.fa-bell-slash:before {
  content: "\f1f6";
}
.fa-bell-slash-o:before {
  content: "\f1f7";
}
.fa-trash:before {
  content: "\f1f8";
}
.fa-copyright:before {
  content: "\f1f9";
}
.fa-at:before {
  content: "\f1fa";
}
.fa-eyedropper:before {
  content: "\f1fb";
}
.fa-paint-brush:before {
  content: "\f1fc";
}
.fa-birthday-cake:before {
  content: "\f1fd";
}
.fa-area-chart:before {
  content: "\f1fe";
}
.fa-pie-chart:before {
  content: "\f200";
}
.fa-line-chart:before {
  content: "\f201";
}
.fa-lastfm:before {
  content: "\f202";
}
.fa-lastfm-square:before {
  content: "\f203";
}
.fa-toggle-off:before {
  content: "\f204";
}
.fa-toggle-on:before {
  content: "\f205";
}
.fa-bicycle:before {
  content: "\f206";
}
.fa-bus:before {
  content: "\f207";
}
.fa-ioxhost:before {
  content: "\f208";
}
.fa-angellist:before {
  content: "\f209";
}
.fa-cc:before {
  content: "\f20a";
}
.fa-shekel:before,
.fa-sheqel:before,
.fa-ils:before {
  content: "\f20b";
}
.fa-meanpath:before {
  content: "\f20c";
}
.fa-buysellads:before {
  content: "\f20d";
}
.fa-connectdevelop:before {
  content: "\f20e";
}
.fa-dashcube:before {
  content: "\f210";
}
.fa-forumbee:before {
  content: "\f211";
}
.fa-leanpub:before {
  content: "\f212";
}
.fa-sellsy:before {
  content: "\f213";
}
.fa-shirtsinbulk:before {
  content: "\f214";
}
.fa-simplybuilt:before {
  content: "\f215";
}
.fa-skyatlas:before {
  content: "\f216";
}
.fa-cart-plus:before {
  content: "\f217";
}
.fa-cart-arrow-down:before {
  content: "\f218";
}
.fa-diamond:before {
  content: "\f219";
}
.fa-ship:before {
  content: "\f21a";
}
.fa-user-secret:before {
  content: "\f21b";
}
.fa-motorcycle:before {
  content: "\f21c";
}
.fa-street-view:before {
  content: "\f21d";
}
.fa-heartbeat:before {
  content: "\f21e";
}
.fa-venus:before {
  content: "\f221";
}
.fa-mars:before {
  content: "\f222";
}
.fa-mercury:before {
  content: "\f223";
}
.fa-intersex:before,
.fa-transgender:before {
  content: "\f224";
}
.fa-transgender-alt:before {
  content: "\f225";
}
.fa-venus-double:before {
  content: "\f226";
}
.fa-mars-double:before {
  content: "\f227";
}
.fa-venus-mars:before {
  content: "\f228";
}
.fa-mars-stroke:before {
  content: "\f229";
}
.fa-mars-stroke-v:before {
  content: "\f22a";
}
.fa-mars-stroke-h:before {
  content: "\f22b";
}
.fa-neuter:before {
  content: "\f22c";
}
.fa-genderless:before {
  content: "\f22d";
}
.fa-facebook-official:before {
  content: "\f230";
}
.fa-pinterest-p:before {
  content: "\f231";
}
.fa-whatsapp:before {
  content: "\f232";
}
.fa-server:before {
  content: "\f233";
}
.fa-user-plus:before {
  content: "\f234";
}
.fa-user-times:before {
  content: "\f235";
}
.fa-hotel:before,
.fa-bed:before {
  content: "\f236";
}
.fa-viacoin:before {
  content: "\f237";
}
.fa-train:before {
  content: "\f238";
}
.fa-subway:before {
  content: "\f239";
}
.fa-medium:before {
  content: "\f23a";
}
.fa-yc:before,
.fa-y-combinator:before {
  content: "\f23b";
}
.fa-optin-monster:before {
  content: "\f23c";
}
.fa-opencart:before {
  content: "\f23d";
}
.fa-expeditedssl:before {
  content: "\f23e";
}
.fa-battery-4:before,
.fa-battery:before,
.fa-battery-full:before {
  content: "\f240";
}
.fa-battery-3:before,
.fa-battery-three-quarters:before {
  content: "\f241";
}
.fa-battery-2:before,
.fa-battery-half:before {
  content: "\f242";
}
.fa-battery-1:before,
.fa-battery-quarter:before {
  content: "\f243";
}
.fa-battery-0:before,
.fa-battery-empty:before {
  content: "\f244";
}
.fa-mouse-pointer:before {
  content: "\f245";
}
.fa-i-cursor:before {
  content: "\f246";
}
.fa-object-group:before {
  content: "\f247";
}
.fa-object-ungroup:before {
  content: "\f248";
}
.fa-sticky-note:before {
  content: "\f249";
}
.fa-sticky-note-o:before {
  content: "\f24a";
}
.fa-cc-jcb:before {
  content: "\f24b";
}
.fa-cc-diners-club:before {
  content: "\f24c";
}
.fa-clone:before {
  content: "\f24d";
}
.fa-balance-scale:before {
  content: "\f24e";
}
.fa-hourglass-o:before {
  content: "\f250";
}
.fa-hourglass-1:before,
.fa-hourglass-start:before {
  content: "\f251";
}
.fa-hourglass-2:before,
.fa-hourglass-half:before {
  content: "\f252";
}
.fa-hourglass-3:before,
.fa-hourglass-end:before {
  content: "\f253";
}
.fa-hourglass:before {
  content: "\f254";
}
.fa-hand-grab-o:before,
.fa-hand-rock-o:before {
  content: "\f255";
}
.fa-hand-stop-o:before,
.fa-hand-paper-o:before {
  content: "\f256";
}
.fa-hand-scissors-o:before {
  content: "\f257";
}
.fa-hand-lizard-o:before {
  content: "\f258";
}
.fa-hand-spock-o:before {
  content: "\f259";
}
.fa-hand-pointer-o:before {
  content: "\f25a";
}
.fa-hand-peace-o:before {
  content: "\f25b";
}
.fa-trademark:before {
  content: "\f25c";
}
.fa-registered:before {
  content: "\f25d";
}
.fa-creative-commons:before {
  content: "\f25e";
}
.fa-gg:before {
  content: "\f260";
}
.fa-gg-circle:before {
  content: "\f261";
}
.fa-tripadvisor:before {
  content: "\f262";
}
.fa-odnoklassniki:before {
  content: "\f263";
}
.fa-odnoklassniki-square:before {
  content: "\f264";
}
.fa-get-pocket:before {
  content: "\f265";
}
.fa-wikipedia-w:before {
  content: "\f266";
}
.fa-safari:before {
  content: "\f267";
}
.fa-chrome:before {
  content: "\f268";
}
.fa-firefox:before {
  content: "\f269";
}
.fa-opera:before {
  content: "\f26a";
}
.fa-internet-explorer:before {
  content: "\f26b";
}
.fa-tv:before,
.fa-television:before {
  content: "\f26c";
}
.fa-contao:before {
  content: "\f26d";
}
.fa-500px:before {
  content: "\f26e";
}
.fa-amazon:before {
  content: "\f270";
}
.fa-calendar-plus-o:before {
  content: "\f271";
}
.fa-calendar-minus-o:before {
  content: "\f272";
}
.fa-calendar-times-o:before {
  content: "\f273";
}
.fa-calendar-check-o:before {
  content: "\f274";
}
.fa-industry:before {
  content: "\f275";
}
.fa-map-pin:before {
  content: "\f276";
}
.fa-map-signs:before {
  content: "\f277";
}
.fa-map-o:before {
  content: "\f278";
}
.fa-map:before {
  content: "\f279";
}
.fa-commenting:before {
  content: "\f27a";
}
.fa-commenting-o:before {
  content: "\f27b";
}
.fa-houzz:before {
  content: "\f27c";
}
.fa-vimeo:before {
  content: "\f27d";
}
.fa-black-tie:before {
  content: "\f27e";
}
.fa-fonticons:before {
  content: "\f280";
}
.fa-reddit-alien:before {
  content: "\f281";
}
.fa-edge:before {
  content: "\f282";
}
.fa-credit-card-alt:before {
  content: "\f283";
}
.fa-codiepie:before {
  content: "\f284";
}
.fa-modx:before {
  content: "\f285";
}
.fa-fort-awesome:before {
  content: "\f286";
}
.fa-usb:before {
  content: "\f287";
}
.fa-product-hunt:before {
  content: "\f288";
}
.fa-mixcloud:before {
  content: "\f289";
}
.fa-scribd:before {
  content: "\f28a";
}
.fa-pause-circle:before {
  content: "\f28b";
}
.fa-pause-circle-o:before {
  content: "\f28c";
}
.fa-stop-circle:before {
  content: "\f28d";
}
.fa-stop-circle-o:before {
  content: "\f28e";
}
.fa-shopping-bag:before {
  content: "\f290";
}
.fa-shopping-basket:before {
  content: "\f291";
}
.fa-hashtag:before {
  content: "\f292";
}
.fa-bluetooth:before {
  content: "\f293";
}
.fa-bluetooth-b:before {
  content: "\f294";
}
.fa-percent:before {
  content: "\f295";
}
.fa-gitlab:before {
  content: "\f296";
}
.fa-wpbeginner:before {
  content: "\f297";
}
.fa-wpforms:before {
  content: "\f298";
}
.fa-envira:before {
  content: "\f299";
}
.fa-universal-access:before {
  content: "\f29a";
}
.fa-wheelchair-alt:before {
  content: "\f29b";
}
.fa-question-circle-o:before {
  content: "\f29c";
}
.fa-blind:before {
  content: "\f29d";
}
.fa-audio-description:before {
  content: "\f29e";
}
.fa-volume-control-phone:before {
  content: "\f2a0";
}
.fa-braille:before {
  content: "\f2a1";
}
.fa-assistive-listening-systems:before {
  content: "\f2a2";
}
.fa-asl-interpreting:before,
.fa-american-sign-language-interpreting:before {
  content: "\f2a3";
}
.fa-deafness:before,
.fa-hard-of-hearing:before,
.fa-deaf:before {
  content: "\f2a4";
}
.fa-glide:before {
  content: "\f2a5";
}
.fa-glide-g:before {
  content: "\f2a6";
}
.fa-signing:before,
.fa-sign-language:before {
  content: "\f2a7";
}
.fa-low-vision:before {
  content: "\f2a8";
}
.fa-viadeo:before {
  content: "\f2a9";
}
.fa-viadeo-square:before {
  content: "\f2aa";
}
.fa-snapchat:before {
  content: "\f2ab";
}
.fa-snapchat-ghost:before {
  content: "\f2ac";
}
.fa-snapchat-square:before {
  content: "\f2ad";
}
.fa-pied-piper:before {
  content: "\f2ae";
}
.fa-first-order:before {
  content: "\f2b0";
}
.fa-yoast:before {
  content: "\f2b1";
}
.fa-themeisle:before {
  content: "\f2b2";
}
.fa-google-plus-circle:before,
.fa-google-plus-official:before {
  content: "\f2b3";
}
.fa-fa:before,
.fa-font-awesome:before {
  content: "\f2b4";
}
.fa-handshake-o:before {
  content: "\f2b5";
}
.fa-envelope-open:before {
  content: "\f2b6";
}
.fa-envelope-open-o:before {
  content: "\f2b7";
}
.fa-linode:before {
  content: "\f2b8";
}
.fa-address-book:before {
  content: "\f2b9";
}
.fa-address-book-o:before {
  content: "\f2ba";
}
.fa-vcard:before,
.fa-address-card:before {
  content: "\f2bb";
}
.fa-vcard-o:before,
.fa-address-card-o:before {
  content: "\f2bc";
}
.fa-user-circle:before {
  content: "\f2bd";
}
.fa-user-circle-o:before {
  content: "\f2be";
}
.fa-user-o:before {
  content: "\f2c0";
}
.fa-id-badge:before {
  content: "\f2c1";
}
.fa-drivers-license:before,
.fa-id-card:before {
  content: "\f2c2";
}
.fa-drivers-license-o:before,
.fa-id-card-o:before {
  content: "\f2c3";
}
.fa-quora:before {
  content: "\f2c4";
}
.fa-free-code-camp:before {
  content: "\f2c5";
}
.fa-telegram:before {
  content: "\f2c6";
}
.fa-thermometer-4:before,
.fa-thermometer:before,
.fa-thermometer-full:before {
  content: "\f2c7";
}
.fa-thermometer-3:before,
.fa-thermometer-three-quarters:before {
  content: "\f2c8";
}
.fa-thermometer-2:before,
.fa-thermometer-half:before {
  content: "\f2c9";
}
.fa-thermometer-1:before,
.fa-thermometer-quarter:before {
  content: "\f2ca";
}
.fa-thermometer-0:before,
.fa-thermometer-empty:before {
  content: "\f2cb";
}
.fa-shower:before {
  content: "\f2cc";
}
.fa-bathtub:before,
.fa-s15:before,
.fa-bath:before {
  content: "\f2cd";
}
.fa-podcast:before {
  content: "\f2ce";
}
.fa-window-maximize:before {
  content: "\f2d0";
}
.fa-window-minimize:before {
  content: "\f2d1";
}
.fa-window-restore:before {
  content: "\f2d2";
}
.fa-times-rectangle:before,
.fa-window-close:before {
  content: "\f2d3";
}
.fa-times-rectangle-o:before,
.fa-window-close-o:before {
  content: "\f2d4";
}
.fa-bandcamp:before {
  content: "\f2d5";
}
.fa-grav:before {
  content: "\f2d6";
}
.fa-etsy:before {
  content: "\f2d7";
}
.fa-imdb:before {
  content: "\f2d8";
}
.fa-ravelry:before {
  content: "\f2d9";
}
.fa-eercast:before {
  content: "\f2da";
}
.fa-microchip:before {
  content: "\f2db";
}
.fa-snowflake-o:before {
  content: "\f2dc";
}
.fa-superpowers:before {
  content: "\f2dd";
}
.fa-wpexplorer:before {
  content: "\f2de";
}
.fa-meetup:before {
  content: "\f2e0";
}
.sr-only {
  position: absolute;
  width: 1px;
  height: 1px;
  padding: 0;
  margin: -1px;
  overflow: hidden;
  clip: rect(0, 0, 0, 0);
  border: 0;
}
.sr-only-focusable:active,
.sr-only-focusable:focus {
  position: static;
  width: auto;
  height: auto;
  margin: 0;
  overflow: visible;
  clip: auto;
}
.sr-only-focusable:active,
.sr-only-focusable:focus {
  position: static;
  width: auto;
  height: auto;
  margin: 0;
  overflow: visible;
  clip: auto;
}
/*!
*
* IPython base
*
*/
.modal.fade .modal-dialog {
  -webkit-transform: translate(0, 0);
  -ms-transform: translate(0, 0);
  -o-transform: translate(0, 0);
  transform: translate(0, 0);
}
code {
  color: #000;
}
pre {
  font-size: inherit;
  line-height: inherit;
}
label {
  font-weight: normal;
}
/* Make the page background atleast 100% the height of the view port */
/* Make the page itself atleast 70% the height of the view port */
.border-box-sizing {
  box-sizing: border-box;
  -moz-box-sizing: border-box;
  -webkit-box-sizing: border-box;
}
.corner-all {
  border-radius: 2px;
}
.no-padding {
  padding: 0px;
}
/* Flexible box model classes */
/* Taken from Alex Russell http://infrequently.org/2009/08/css-3-progress/ */
/* This file is a compatability layer.  It allows the usage of flexible box 
model layouts accross multiple browsers, including older browsers.  The newest,
universal implementation of the flexible box model is used when available (see
`Modern browsers` comments below).  Browsers that are known to implement this 
new spec completely include:

    Firefox 28.0+
    Chrome 29.0+
    Internet Explorer 11+ 
    Opera 17.0+

Browsers not listed, including Safari, are supported via the styling under the
`Old browsers` comments below.
*/
.hbox {
  /* Old browsers */
  display: -webkit-box;
  -webkit-box-orient: horizontal;
  -webkit-box-align: stretch;
  display: -moz-box;
  -moz-box-orient: horizontal;
  -moz-box-align: stretch;
  display: box;
  box-orient: horizontal;
  box-align: stretch;
  /* Modern browsers */
  display: flex;
  flex-direction: row;
  align-items: stretch;
}
.hbox > * {
  /* Old browsers */
  -webkit-box-flex: 0;
  -moz-box-flex: 0;
  box-flex: 0;
  /* Modern browsers */
  flex: none;
}
.vbox {
  /* Old browsers */
  display: -webkit-box;
  -webkit-box-orient: vertical;
  -webkit-box-align: stretch;
  display: -moz-box;
  -moz-box-orient: vertical;
  -moz-box-align: stretch;
  display: box;
  box-orient: vertical;
  box-align: stretch;
  /* Modern browsers */
  display: flex;
  flex-direction: column;
  align-items: stretch;
}
.vbox > * {
  /* Old browsers */
  -webkit-box-flex: 0;
  -moz-box-flex: 0;
  box-flex: 0;
  /* Modern browsers */
  flex: none;
}
.hbox.reverse,
.vbox.reverse,
.reverse {
  /* Old browsers */
  -webkit-box-direction: reverse;
  -moz-box-direction: reverse;
  box-direction: reverse;
  /* Modern browsers */
  flex-direction: row-reverse;
}
.hbox.box-flex0,
.vbox.box-flex0,
.box-flex0 {
  /* Old browsers */
  -webkit-box-flex: 0;
  -moz-box-flex: 0;
  box-flex: 0;
  /* Modern browsers */
  flex: none;
  width: auto;
}
.hbox.box-flex1,
.vbox.box-flex1,
.box-flex1 {
  /* Old browsers */
  -webkit-box-flex: 1;
  -moz-box-flex: 1;
  box-flex: 1;
  /* Modern browsers */
  flex: 1;
}
.hbox.box-flex,
.vbox.box-flex,
.box-flex {
  /* Old browsers */
  /* Old browsers */
  -webkit-box-flex: 1;
  -moz-box-flex: 1;
  box-flex: 1;
  /* Modern browsers */
  flex: 1;
}
.hbox.box-flex2,
.vbox.box-flex2,
.box-flex2 {
  /* Old browsers */
  -webkit-box-flex: 2;
  -moz-box-flex: 2;
  box-flex: 2;
  /* Modern browsers */
  flex: 2;
}
.box-group1 {
  /*  Deprecated */
  -webkit-box-flex-group: 1;
  -moz-box-flex-group: 1;
  box-flex-group: 1;
}
.box-group2 {
  /* Deprecated */
  -webkit-box-flex-group: 2;
  -moz-box-flex-group: 2;
  box-flex-group: 2;
}
.hbox.start,
.vbox.start,
.start {
  /* Old browsers */
  -webkit-box-pack: start;
  -moz-box-pack: start;
  box-pack: start;
  /* Modern browsers */
  justify-content: flex-start;
}
.hbox.end,
.vbox.end,
.end {
  /* Old browsers */
  -webkit-box-pack: end;
  -moz-box-pack: end;
  box-pack: end;
  /* Modern browsers */
  justify-content: flex-end;
}
.hbox.center,
.vbox.center,
.center {
  /* Old browsers */
  -webkit-box-pack: center;
  -moz-box-pack: center;
  box-pack: center;
  /* Modern browsers */
  justify-content: center;
}
.hbox.baseline,
.vbox.baseline,
.baseline {
  /* Old browsers */
  -webkit-box-pack: baseline;
  -moz-box-pack: baseline;
  box-pack: baseline;
  /* Modern browsers */
  justify-content: baseline;
}
.hbox.stretch,
.vbox.stretch,
.stretch {
  /* Old browsers */
  -webkit-box-pack: stretch;
  -moz-box-pack: stretch;
  box-pack: stretch;
  /* Modern browsers */
  justify-content: stretch;
}
.hbox.align-start,
.vbox.align-start,
.align-start {
  /* Old browsers */
  -webkit-box-align: start;
  -moz-box-align: start;
  box-align: start;
  /* Modern browsers */
  align-items: flex-start;
}
.hbox.align-end,
.vbox.align-end,
.align-end {
  /* Old browsers */
  -webkit-box-align: end;
  -moz-box-align: end;
  box-align: end;
  /* Modern browsers */
  align-items: flex-end;
}
.hbox.align-center,
.vbox.align-center,
.align-center {
  /* Old browsers */
  -webkit-box-align: center;
  -moz-box-align: center;
  box-align: center;
  /* Modern browsers */
  align-items: center;
}
.hbox.align-baseline,
.vbox.align-baseline,
.align-baseline {
  /* Old browsers */
  -webkit-box-align: baseline;
  -moz-box-align: baseline;
  box-align: baseline;
  /* Modern browsers */
  align-items: baseline;
}
.hbox.align-stretch,
.vbox.align-stretch,
.align-stretch {
  /* Old browsers */
  -webkit-box-align: stretch;
  -moz-box-align: stretch;
  box-align: stretch;
  /* Modern browsers */
  align-items: stretch;
}
div.error {
  margin: 2em;
  text-align: center;
}
div.error > h1 {
  font-size: 500%;
  line-height: normal;
}
div.error > p {
  font-size: 200%;
  line-height: normal;
}
div.traceback-wrapper {
  text-align: left;
  max-width: 800px;
  margin: auto;
}
div.traceback-wrapper pre.traceback {
  max-height: 600px;
  overflow: auto;
}
/**
 * Primary styles
 *
 * Author: Jupyter Development Team
 */
body {
  background-color: #fff;
  /* This makes sure that the body covers the entire window and needs to
       be in a different element than the display: box in wrapper below */
  position: absolute;
  left: 0px;
  right: 0px;
  top: 0px;
  bottom: 0px;
  overflow: visible;
}
body > #header {
  /* Initially hidden to prevent FLOUC */
  display: none;
  background-color: #fff;
  /* Display over codemirror */
  position: relative;
  z-index: 100;
}
body > #header #header-container {
  display: flex;
  flex-direction: row;
  justify-content: space-between;
  padding: 5px;
  padding-bottom: 5px;
  padding-top: 5px;
  box-sizing: border-box;
  -moz-box-sizing: border-box;
  -webkit-box-sizing: border-box;
}
body > #header .header-bar {
  width: 100%;
  height: 1px;
  background: #e7e7e7;
  margin-bottom: -1px;
}
@media print {
  body > #header {
    display: none !important;
  }
}
#header-spacer {
  width: 100%;
  visibility: hidden;
}
@media print {
  #header-spacer {
    display: none;
  }
}
#ipython_notebook {
  padding-left: 0px;
  padding-top: 1px;
  padding-bottom: 1px;
}
[dir="rtl"] #ipython_notebook {
  margin-right: 10px;
  margin-left: 0;
}
[dir="rtl"] #ipython_notebook.pull-left {
  float: right !important;
  float: right;
}
.flex-spacer {
  flex: 1;
}
#noscript {
  width: auto;
  padding-top: 16px;
  padding-bottom: 16px;
  text-align: center;
  font-size: 22px;
  color: red;
  font-weight: bold;
}
#ipython_notebook img {
  height: 28px;
}
#site {
  width: 100%;
  display: none;
  box-sizing: border-box;
  -moz-box-sizing: border-box;
  -webkit-box-sizing: border-box;
  overflow: auto;
}
@media print {
  #site {
    height: auto !important;
  }
}
/* Smaller buttons */
.ui-button .ui-button-text {
  padding: 0.2em 0.8em;
  font-size: 77%;
}
input.ui-button {
  padding: 0.3em 0.9em;
}
span#kernel_logo_widget {
  margin: 0 10px;
}
span#login_widget {
  float: right;
}
[dir="rtl"] span#login_widget {
  float: left;
}
span#login_widget > .button,
#logout {
  color: #333;
  background-color: #fff;
  border-color: #ccc;
}
span#login_widget > .button:focus,
#logout:focus,
span#login_widget > .button.focus,
#logout.focus {
  color: #333;
  background-color: #e6e6e6;
  border-color: #8c8c8c;
}
span#login_widget > .button:hover,
#logout:hover {
  color: #333;
  background-color: #e6e6e6;
  border-color: #adadad;
}
span#login_widget > .button:active,
#logout:active,
span#login_widget > .button.active,
#logout.active,
.open > .dropdown-togglespan#login_widget > .button,
.open > .dropdown-toggle#logout {
  color: #333;
  background-color: #e6e6e6;
  border-color: #adadad;
}
span#login_widget > .button:active:hover,
#logout:active:hover,
span#login_widget > .button.active:hover,
#logout.active:hover,
.open > .dropdown-togglespan#login_widget > .button:hover,
.open > .dropdown-toggle#logout:hover,
span#login_widget > .button:active:focus,
#logout:active:focus,
span#login_widget > .button.active:focus,
#logout.active:focus,
.open > .dropdown-togglespan#login_widget > .button:focus,
.open > .dropdown-toggle#logout:focus,
span#login_widget > .button:active.focus,
#logout:active.focus,
span#login_widget > .button.active.focus,
#logout.active.focus,
.open > .dropdown-togglespan#login_widget > .button.focus,
.open > .dropdown-toggle#logout.focus {
  color: #333;
  background-color: #d4d4d4;
  border-color: #8c8c8c;
}
span#login_widget > .button:active,
#logout:active,
span#login_widget > .button.active,
#logout.active,
.open > .dropdown-togglespan#login_widget > .button,
.open > .dropdown-toggle#logout {
  background-image: none;
}
span#login_widget > .button.disabled:hover,
#logout.disabled:hover,
span#login_widget > .button[disabled]:hover,
#logout[disabled]:hover,
fieldset[disabled] span#login_widget > .button:hover,
fieldset[disabled] #logout:hover,
span#login_widget > .button.disabled:focus,
#logout.disabled:focus,
span#login_widget > .button[disabled]:focus,
#logout[disabled]:focus,
fieldset[disabled] span#login_widget > .button:focus,
fieldset[disabled] #logout:focus,
span#login_widget > .button.disabled.focus,
#logout.disabled.focus,
span#login_widget > .button[disabled].focus,
#logout[disabled].focus,
fieldset[disabled] span#login_widget > .button.focus,
fieldset[disabled] #logout.focus {
  background-color: #fff;
  border-color: #ccc;
}
span#login_widget > .button .badge,
#logout .badge {
  color: #fff;
  background-color: #333;
}
.nav-header {
  text-transform: none;
}
#header > span {
  margin-top: 10px;
}
.modal_stretch .modal-dialog {
  /* Old browsers */
  display: -webkit-box;
  -webkit-box-orient: vertical;
  -webkit-box-align: stretch;
  display: -moz-box;
  -moz-box-orient: vertical;
  -moz-box-align: stretch;
  display: box;
  box-orient: vertical;
  box-align: stretch;
  /* Modern browsers */
  display: flex;
  flex-direction: column;
  align-items: stretch;
  min-height: 80vh;
}
.modal_stretch .modal-dialog .modal-body {
  max-height: calc(100vh - 200px);
  overflow: auto;
  flex: 1;
}
.modal-header {
  cursor: move;
}
@media (min-width: 768px) {
  .modal .modal-dialog {
    width: 700px;
  }
}
@media (min-width: 768px) {
  select.form-control {
    margin-left: 12px;
    margin-right: 12px;
  }
}
/*!
*
* IPython auth
*
*/
.center-nav {
  display: inline-block;
  margin-bottom: -4px;
}
[dir="rtl"] .center-nav form.pull-left {
  float: right !important;
  float: right;
}
[dir="rtl"] .center-nav .navbar-text {
  float: right;
}
[dir="rtl"] .navbar-inner {
  text-align: right;
}
[dir="rtl"] div.text-left {
  text-align: right;
}
/*!
*
* IPython tree view
*
*/
/* We need an invisible input field on top of the sentense*/
/* "Drag file onto the list ..." */
.alternate_upload {
  background-color: none;
  display: inline;
}
.alternate_upload.form {
  padding: 0;
  margin: 0;
}
.alternate_upload input.fileinput {
  position: absolute;
  display: block;
  width: 100%;
  height: 100%;
  overflow: hidden;
  cursor: pointer;
  opacity: 0;
  z-index: 2;
}
.alternate_upload .btn-xs > input.fileinput {
  margin: -1px -5px;
}
.alternate_upload .btn-upload {
  position: relative;
  height: 22px;
}
::-webkit-file-upload-button {
  cursor: pointer;
}
/**
 * Primary styles
 *
 * Author: Jupyter Development Team
 */
ul#tabs {
  margin-bottom: 4px;
}
ul#tabs a {
  padding-top: 6px;
  padding-bottom: 4px;
}
[dir="rtl"] ul#tabs.nav-tabs > li {
  float: right;
}
[dir="rtl"] ul#tabs.nav.nav-tabs {
  padding-right: 0;
}
ul.breadcrumb a:focus,
ul.breadcrumb a:hover {
  text-decoration: none;
}
ul.breadcrumb i.icon-home {
  font-size: 16px;
  margin-right: 4px;
}
ul.breadcrumb span {
  color: #5e5e5e;
}
.list_toolbar {
  padding: 4px 0 4px 0;
  vertical-align: middle;
}
.list_toolbar .tree-buttons {
  padding-top: 1px;
}
[dir="rtl"] .list_toolbar .tree-buttons .pull-right {
  float: left !important;
  float: left;
}
[dir="rtl"] .list_toolbar .col-sm-4,
[dir="rtl"] .list_toolbar .col-sm-8 {
  float: right;
}
.dynamic-buttons {
  padding-top: 3px;
  display: inline-block;
}
.list_toolbar [class*="span"] {
  min-height: 24px;
}
.list_header {
  font-weight: bold;
  background-color: #EEE;
}
.list_placeholder {
  font-weight: bold;
  padding-top: 4px;
  padding-bottom: 4px;
  padding-left: 7px;
  padding-right: 7px;
}
.list_container {
  margin-top: 4px;
  margin-bottom: 20px;
  border: 1px solid #ddd;
  border-radius: 2px;
}
.list_container > div {
  border-bottom: 1px solid #ddd;
}
.list_container > div:hover .list-item {
  background-color: red;
}
.list_container > div:last-child {
  border: none;
}
.list_item:hover .list_item {
  background-color: #ddd;
}
.list_item a {
  text-decoration: none;
}
.list_item:hover {
  background-color: #fafafa;
}
.list_header > div,
.list_item > div {
  padding-top: 4px;
  padding-bottom: 4px;
  padding-left: 7px;
  padding-right: 7px;
  line-height: 22px;
}
.list_header > div input,
.list_item > div input {
  margin-right: 7px;
  margin-left: 14px;
  vertical-align: text-bottom;
  line-height: 22px;
  position: relative;
  top: -1px;
}
.list_header > div .item_link,
.list_item > div .item_link {
  margin-left: -1px;
  vertical-align: baseline;
  line-height: 22px;
}
[dir="rtl"] .list_item > div input {
  margin-right: 0;
}
.new-file input[type=checkbox] {
  visibility: hidden;
}
.item_name {
  line-height: 22px;
  height: 24px;
}
.item_icon {
  font-size: 14px;
  color: #5e5e5e;
  margin-right: 7px;
  margin-left: 7px;
  line-height: 22px;
  vertical-align: baseline;
}
.item_modified {
  margin-right: 7px;
  margin-left: 7px;
}
[dir="rtl"] .item_modified.pull-right {
  float: left !important;
  float: left;
}
.item_buttons {
  line-height: 1em;
  margin-left: -5px;
}
.item_buttons .btn,
.item_buttons .btn-group,
.item_buttons .input-group {
  float: left;
}
.item_buttons > .btn,
.item_buttons > .btn-group,
.item_buttons > .input-group {
  margin-left: 5px;
}
.item_buttons .btn {
  min-width: 13ex;
}
.item_buttons .running-indicator {
  padding-top: 4px;
  color: #5cb85c;
}
.item_buttons .kernel-name {
  padding-top: 4px;
  color: #5bc0de;
  margin-right: 7px;
  float: left;
}
[dir="rtl"] .item_buttons.pull-right {
  float: left !important;
  float: left;
}
[dir="rtl"] .item_buttons .kernel-name {
  margin-left: 7px;
  float: right;
}
.toolbar_info {
  height: 24px;
  line-height: 24px;
}
.list_item input:not([type=checkbox]) {
  padding-top: 3px;
  padding-bottom: 3px;
  height: 22px;
  line-height: 14px;
  margin: 0px;
}
.highlight_text {
  color: blue;
}
#project_name {
  display: inline-block;
  padding-left: 7px;
  margin-left: -2px;
}
#project_name > .breadcrumb {
  padding: 0px;
  margin-bottom: 0px;
  background-color: transparent;
  font-weight: bold;
}
.sort_button {
  display: inline-block;
  padding-left: 7px;
}
[dir="rtl"] .sort_button.pull-right {
  float: left !important;
  float: left;
}
#tree-selector {
  padding-right: 0px;
}
#button-select-all {
  min-width: 50px;
}
[dir="rtl"] #button-select-all.btn {
  float: right ;
}
#select-all {
  margin-left: 7px;
  margin-right: 2px;
  margin-top: 2px;
  height: 16px;
}
[dir="rtl"] #select-all.pull-left {
  float: right !important;
  float: right;
}
.menu_icon {
  margin-right: 2px;
}
.tab-content .row {
  margin-left: 0px;
  margin-right: 0px;
}
.folder_icon:before {
  display: inline-block;
  font: normal normal normal 14px/1 FontAwesome;
  font-size: inherit;
  text-rendering: auto;
  -webkit-font-smoothing: antialiased;
  -moz-osx-font-smoothing: grayscale;
  content: "\f114";
}
.folder_icon:before.fa-pull-left {
  margin-right: .3em;
}
.folder_icon:before.fa-pull-right {
  margin-left: .3em;
}
.folder_icon:before.pull-left {
  margin-right: .3em;
}
.folder_icon:before.pull-right {
  margin-left: .3em;
}
.notebook_icon:before {
  display: inline-block;
  font: normal normal normal 14px/1 FontAwesome;
  font-size: inherit;
  text-rendering: auto;
  -webkit-font-smoothing: antialiased;
  -moz-osx-font-smoothing: grayscale;
  content: "\f02d";
  position: relative;
  top: -1px;
}
.notebook_icon:before.fa-pull-left {
  margin-right: .3em;
}
.notebook_icon:before.fa-pull-right {
  margin-left: .3em;
}
.notebook_icon:before.pull-left {
  margin-right: .3em;
}
.notebook_icon:before.pull-right {
  margin-left: .3em;
}
.running_notebook_icon:before {
  display: inline-block;
  font: normal normal normal 14px/1 FontAwesome;
  font-size: inherit;
  text-rendering: auto;
  -webkit-font-smoothing: antialiased;
  -moz-osx-font-smoothing: grayscale;
  content: "\f02d";
  position: relative;
  top: -1px;
  color: #5cb85c;
}
.running_notebook_icon:before.fa-pull-left {
  margin-right: .3em;
}
.running_notebook_icon:before.fa-pull-right {
  margin-left: .3em;
}
.running_notebook_icon:before.pull-left {
  margin-right: .3em;
}
.running_notebook_icon:before.pull-right {
  margin-left: .3em;
}
.file_icon:before {
  display: inline-block;
  font: normal normal normal 14px/1 FontAwesome;
  font-size: inherit;
  text-rendering: auto;
  -webkit-font-smoothing: antialiased;
  -moz-osx-font-smoothing: grayscale;
  content: "\f016";
  position: relative;
  top: -2px;
}
.file_icon:before.fa-pull-left {
  margin-right: .3em;
}
.file_icon:before.fa-pull-right {
  margin-left: .3em;
}
.file_icon:before.pull-left {
  margin-right: .3em;
}
.file_icon:before.pull-right {
  margin-left: .3em;
}
#notebook_toolbar .pull-right {
  padding-top: 0px;
  margin-right: -1px;
}
ul#new-menu {
  left: auto;
  right: 0;
}
#new-menu .dropdown-header {
  font-size: 10px;
  border-bottom: 1px solid #e5e5e5;
  padding: 0 0 3px;
  margin: -3px 20px 0;
}
.kernel-menu-icon {
  padding-right: 12px;
  width: 24px;
  content: "\f096";
}
.kernel-menu-icon:before {
  content: "\f096";
}
.kernel-menu-icon-current:before {
  content: "\f00c";
}
#tab_content {
  padding-top: 20px;
}
#running .panel-group .panel {
  margin-top: 3px;
  margin-bottom: 1em;
}
#running .panel-group .panel .panel-heading {
  background-color: #EEE;
  padding-top: 4px;
  padding-bottom: 4px;
  padding-left: 7px;
  padding-right: 7px;
  line-height: 22px;
}
#running .panel-group .panel .panel-heading a:focus,
#running .panel-group .panel .panel-heading a:hover {
  text-decoration: none;
}
#running .panel-group .panel .panel-body {
  padding: 0px;
}
#running .panel-group .panel .panel-body .list_container {
  margin-top: 0px;
  margin-bottom: 0px;
  border: 0px;
  border-radius: 0px;
}
#running .panel-group .panel .panel-body .list_container .list_item {
  border-bottom: 1px solid #ddd;
}
#running .panel-group .panel .panel-body .list_container .list_item:last-child {
  border-bottom: 0px;
}
.delete-button {
  display: none;
}
.duplicate-button {
  display: none;
}
.rename-button {
  display: none;
}
.move-button {
  display: none;
}
.download-button {
  display: none;
}
.shutdown-button {
  display: none;
}
.dynamic-instructions {
  display: inline-block;
  padding-top: 4px;
}
/*!
*
* IPython text editor webapp
*
*/
.selected-keymap i.fa {
  padding: 0px 5px;
}
.selected-keymap i.fa:before {
  content: "\f00c";
}
#mode-menu {
  overflow: auto;
  max-height: 20em;
}
.edit_app #header {
  -webkit-box-shadow: 0px 0px 12px 1px rgba(87, 87, 87, 0.2);
  box-shadow: 0px 0px 12px 1px rgba(87, 87, 87, 0.2);
}
.edit_app #menubar .navbar {
  /* Use a negative 1 bottom margin, so the border overlaps the border of the
    header */
  margin-bottom: -1px;
}
.dirty-indicator {
  display: inline-block;
  font: normal normal normal 14px/1 FontAwesome;
  font-size: inherit;
  text-rendering: auto;
  -webkit-font-smoothing: antialiased;
  -moz-osx-font-smoothing: grayscale;
  width: 20px;
}
.dirty-indicator.fa-pull-left {
  margin-right: .3em;
}
.dirty-indicator.fa-pull-right {
  margin-left: .3em;
}
.dirty-indicator.pull-left {
  margin-right: .3em;
}
.dirty-indicator.pull-right {
  margin-left: .3em;
}
.dirty-indicator-dirty {
  display: inline-block;
  font: normal normal normal 14px/1 FontAwesome;
  font-size: inherit;
  text-rendering: auto;
  -webkit-font-smoothing: antialiased;
  -moz-osx-font-smoothing: grayscale;
  width: 20px;
}
.dirty-indicator-dirty.fa-pull-left {
  margin-right: .3em;
}
.dirty-indicator-dirty.fa-pull-right {
  margin-left: .3em;
}
.dirty-indicator-dirty.pull-left {
  margin-right: .3em;
}
.dirty-indicator-dirty.pull-right {
  margin-left: .3em;
}
.dirty-indicator-clean {
  display: inline-block;
  font: normal normal normal 14px/1 FontAwesome;
  font-size: inherit;
  text-rendering: auto;
  -webkit-font-smoothing: antialiased;
  -moz-osx-font-smoothing: grayscale;
  width: 20px;
}
.dirty-indicator-clean.fa-pull-left {
  margin-right: .3em;
}
.dirty-indicator-clean.fa-pull-right {
  margin-left: .3em;
}
.dirty-indicator-clean.pull-left {
  margin-right: .3em;
}
.dirty-indicator-clean.pull-right {
  margin-left: .3em;
}
.dirty-indicator-clean:before {
  display: inline-block;
  font: normal normal normal 14px/1 FontAwesome;
  font-size: inherit;
  text-rendering: auto;
  -webkit-font-smoothing: antialiased;
  -moz-osx-font-smoothing: grayscale;
  content: "\f00c";
}
.dirty-indicator-clean:before.fa-pull-left {
  margin-right: .3em;
}
.dirty-indicator-clean:before.fa-pull-right {
  margin-left: .3em;
}
.dirty-indicator-clean:before.pull-left {
  margin-right: .3em;
}
.dirty-indicator-clean:before.pull-right {
  margin-left: .3em;
}
#filename {
  font-size: 16pt;
  display: table;
  padding: 0px 5px;
}
#current-mode {
  padding-left: 5px;
  padding-right: 5px;
}
#texteditor-backdrop {
  padding-top: 20px;
  padding-bottom: 20px;
}
@media not print {
  #texteditor-backdrop {
    background-color: #EEE;
  }
}
@media print {
  #texteditor-backdrop #texteditor-container .CodeMirror-gutter,
  #texteditor-backdrop #texteditor-container .CodeMirror-gutters {
    background-color: #fff;
  }
}
@media not print {
  #texteditor-backdrop #texteditor-container .CodeMirror-gutter,
  #texteditor-backdrop #texteditor-container .CodeMirror-gutters {
    background-color: #fff;
  }
}
@media not print {
  #texteditor-backdrop #texteditor-container {
    padding: 0px;
    background-color: #fff;
    -webkit-box-shadow: 0px 0px 12px 1px rgba(87, 87, 87, 0.2);
    box-shadow: 0px 0px 12px 1px rgba(87, 87, 87, 0.2);
  }
}
.CodeMirror-dialog {
  background-color: #fff;
}
/*!
*
* IPython notebook
*
*/
/* CSS font colors for translated ANSI escape sequences */
/* The color values are a mix of
   http://www.xcolors.net/dl/baskerville-ivorylight and
   http://www.xcolors.net/dl/euphrasia */
.ansi-black-fg {
  color: #3E424D;
}
.ansi-black-bg {
  background-color: #3E424D;
}
.ansi-black-intense-fg {
  color: #282C36;
}
.ansi-black-intense-bg {
  background-color: #282C36;
}
.ansi-red-fg {
  color: #E75C58;
}
.ansi-red-bg {
  background-color: #E75C58;
}
.ansi-red-intense-fg {
  color: #B22B31;
}
.ansi-red-intense-bg {
  background-color: #B22B31;
}
.ansi-green-fg {
  color: #00A250;
}
.ansi-green-bg {
  background-color: #00A250;
}
.ansi-green-intense-fg {
  color: #007427;
}
.ansi-green-intense-bg {
  background-color: #007427;
}
.ansi-yellow-fg {
  color: #DDB62B;
}
.ansi-yellow-bg {
  background-color: #DDB62B;
}
.ansi-yellow-intense-fg {
  color: #B27D12;
}
.ansi-yellow-intense-bg {
  background-color: #B27D12;
}
.ansi-blue-fg {
  color: #208FFB;
}
.ansi-blue-bg {
  background-color: #208FFB;
}
.ansi-blue-intense-fg {
  color: #0065CA;
}
.ansi-blue-intense-bg {
  background-color: #0065CA;
}
.ansi-magenta-fg {
  color: #D160C4;
}
.ansi-magenta-bg {
  background-color: #D160C4;
}
.ansi-magenta-intense-fg {
  color: #A03196;
}
.ansi-magenta-intense-bg {
  background-color: #A03196;
}
.ansi-cyan-fg {
  color: #60C6C8;
}
.ansi-cyan-bg {
  background-color: #60C6C8;
}
.ansi-cyan-intense-fg {
  color: #258F8F;
}
.ansi-cyan-intense-bg {
  background-color: #258F8F;
}
.ansi-white-fg {
  color: #C5C1B4;
}
.ansi-white-bg {
  background-color: #C5C1B4;
}
.ansi-white-intense-fg {
  color: #A1A6B2;
}
.ansi-white-intense-bg {
  background-color: #A1A6B2;
}
.ansi-default-inverse-fg {
  color: #FFFFFF;
}
.ansi-default-inverse-bg {
  background-color: #000000;
}
.ansi-bold {
  font-weight: bold;
}
.ansi-underline {
  text-decoration: underline;
}
/* The following styles are deprecated an will be removed in a future version */
.ansibold {
  font-weight: bold;
}
.ansi-inverse {
  outline: 0.5px dotted;
}
/* use dark versions for foreground, to improve visibility */
.ansiblack {
  color: black;
}
.ansired {
  color: darkred;
}
.ansigreen {
  color: darkgreen;
}
.ansiyellow {
  color: #c4a000;
}
.ansiblue {
  color: darkblue;
}
.ansipurple {
  color: darkviolet;
}
.ansicyan {
  color: steelblue;
}
.ansigray {
  color: gray;
}
/* and light for background, for the same reason */
.ansibgblack {
  background-color: black;
}
.ansibgred {
  background-color: red;
}
.ansibggreen {
  background-color: green;
}
.ansibgyellow {
  background-color: yellow;
}
.ansibgblue {
  background-color: blue;
}
.ansibgpurple {
  background-color: magenta;
}
.ansibgcyan {
  background-color: cyan;
}
.ansibggray {
  background-color: gray;
}
div.cell {
  /* Old browsers */
  display: -webkit-box;
  -webkit-box-orient: vertical;
  -webkit-box-align: stretch;
  display: -moz-box;
  -moz-box-orient: vertical;
  -moz-box-align: stretch;
  display: box;
  box-orient: vertical;
  box-align: stretch;
  /* Modern browsers */
  display: flex;
  flex-direction: column;
  align-items: stretch;
  border-radius: 2px;
  box-sizing: border-box;
  -moz-box-sizing: border-box;
  -webkit-box-sizing: border-box;
  border-width: 1px;
  border-style: solid;
  border-color: transparent;
  width: 100%;
  padding: 5px;
  /* This acts as a spacer between cells, that is outside the border */
  margin: 0px;
  outline: none;
  position: relative;
  overflow: visible;
}
div.cell:before {
  position: absolute;
  display: block;
  top: -1px;
  left: -1px;
  width: 5px;
  height: calc(100% +  2px);
  content: '';
  background: transparent;
}
div.cell.jupyter-soft-selected {
  border-left-color: #E3F2FD;
  border-left-width: 1px;
  padding-left: 5px;
  border-right-color: #E3F2FD;
  border-right-width: 1px;
  background: #E3F2FD;
}
@media print {
  div.cell.jupyter-soft-selected {
    border-color: transparent;
  }
}
div.cell.selected,
div.cell.selected.jupyter-soft-selected {
  border-color: #ababab;
}
div.cell.selected:before,
div.cell.selected.jupyter-soft-selected:before {
  position: absolute;
  display: block;
  top: -1px;
  left: -1px;
  width: 5px;
  height: calc(100% +  2px);
  content: '';
  background: #42A5F5;
}
@media print {
  div.cell.selected,
  div.cell.selected.jupyter-soft-selected {
    border-color: transparent;
  }
}
.edit_mode div.cell.selected {
  border-color: #66BB6A;
}
.edit_mode div.cell.selected:before {
  position: absolute;
  display: block;
  top: -1px;
  left: -1px;
  width: 5px;
  height: calc(100% +  2px);
  content: '';
  background: #66BB6A;
}
@media print {
  .edit_mode div.cell.selected {
    border-color: transparent;
  }
}
.prompt {
  /* This needs to be wide enough for 3 digit prompt numbers: In[100]: */
  min-width: 14ex;
  /* This padding is tuned to match the padding on the CodeMirror editor. */
  padding: 0.4em;
  margin: 0px;
  font-family: monospace;
  text-align: right;
  /* This has to match that of the the CodeMirror class line-height below */
  line-height: 1.21429em;
  /* Don't highlight prompt number selection */
  -webkit-touch-callout: none;
  -webkit-user-select: none;
  -khtml-user-select: none;
  -moz-user-select: none;
  -ms-user-select: none;
  user-select: none;
  /* Use default cursor */
  cursor: default;
}
@media (max-width: 540px) {
  .prompt {
    text-align: left;
  }
}
div.inner_cell {
  min-width: 0;
  /* Old browsers */
  display: -webkit-box;
  -webkit-box-orient: vertical;
  -webkit-box-align: stretch;
  display: -moz-box;
  -moz-box-orient: vertical;
  -moz-box-align: stretch;
  display: box;
  box-orient: vertical;
  box-align: stretch;
  /* Modern browsers */
  display: flex;
  flex-direction: column;
  align-items: stretch;
  /* Old browsers */
  -webkit-box-flex: 1;
  -moz-box-flex: 1;
  box-flex: 1;
  /* Modern browsers */
  flex: 1;
}
/* input_area and input_prompt must match in top border and margin for alignment */
div.input_area {
  border: 1px solid #cfcfcf;
  border-radius: 2px;
  background: #f7f7f7;
  line-height: 1.21429em;
}
/* This is needed so that empty prompt areas can collapse to zero height when there
   is no content in the output_subarea and the prompt. The main purpose of this is
   to make sure that empty JavaScript output_subareas have no height. */
div.prompt:empty {
  padding-top: 0;
  padding-bottom: 0;
}
div.unrecognized_cell {
  padding: 5px 5px 5px 0px;
  /* Old browsers */
  display: -webkit-box;
  -webkit-box-orient: horizontal;
  -webkit-box-align: stretch;
  display: -moz-box;
  -moz-box-orient: horizontal;
  -moz-box-align: stretch;
  display: box;
  box-orient: horizontal;
  box-align: stretch;
  /* Modern browsers */
  display: flex;
  flex-direction: row;
  align-items: stretch;
}
div.unrecognized_cell .inner_cell {
  border-radius: 2px;
  padding: 5px;
  font-weight: bold;
  color: red;
  border: 1px solid #cfcfcf;
  background: #eaeaea;
}
div.unrecognized_cell .inner_cell a {
  color: inherit;
  text-decoration: none;
}
div.unrecognized_cell .inner_cell a:hover {
  color: inherit;
  text-decoration: none;
}
@media (max-width: 540px) {
  div.unrecognized_cell > div.prompt {
    display: none;
  }
}
div.code_cell {
  /* avoid page breaking on code cells when printing */
}
@media print {
  div.code_cell {
    page-break-inside: avoid;
  }
}
/* any special styling for code cells that are currently running goes here */
div.input {
  page-break-inside: avoid;
  /* Old browsers */
  display: -webkit-box;
  -webkit-box-orient: horizontal;
  -webkit-box-align: stretch;
  display: -moz-box;
  -moz-box-orient: horizontal;
  -moz-box-align: stretch;
  display: box;
  box-orient: horizontal;
  box-align: stretch;
  /* Modern browsers */
  display: flex;
  flex-direction: row;
  align-items: stretch;
}
@media (max-width: 540px) {
  div.input {
    /* Old browsers */
    display: -webkit-box;
    -webkit-box-orient: vertical;
    -webkit-box-align: stretch;
    display: -moz-box;
    -moz-box-orient: vertical;
    -moz-box-align: stretch;
    display: box;
    box-orient: vertical;
    box-align: stretch;
    /* Modern browsers */
    display: flex;
    flex-direction: column;
    align-items: stretch;
  }
}
/* input_area and input_prompt must match in top border and margin for alignment */
div.input_prompt {
  color: #303F9F;
  border-top: 1px solid transparent;
}
div.input_area > div.highlight {
  margin: 0.4em;
  border: none;
  padding: 0px;
  background-color: transparent;
}
div.input_area > div.highlight > pre {
  margin: 0px;
  border: none;
  padding: 0px;
  background-color: transparent;
}
/* The following gets added to the <head> if it is detected that the user has a
 * monospace font with inconsistent normal/bold/italic height.  See
 * notebookmain.js.  Such fonts will have keywords vertically offset with
 * respect to the rest of the text.  The user should select a better font.
 * See: https://github.com/ipython/ipython/issues/1503
 *
 * .CodeMirror span {
 *      vertical-align: bottom;
 * }
 */
.CodeMirror {
  line-height: 1.21429em;
  /* Changed from 1em to our global default */
  font-size: 14px;
  height: auto;
  /* Changed to auto to autogrow */
  background: none;
  /* Changed from white to allow our bg to show through */
}
.CodeMirror-scroll {
  /*  The CodeMirror docs are a bit fuzzy on if overflow-y should be hidden or visible.*/
  /*  We have found that if it is visible, vertical scrollbars appear with font size changes.*/
  overflow-y: hidden;
  overflow-x: auto;
}
.CodeMirror-lines {
  /* In CM2, this used to be 0.4em, but in CM3 it went to 4px. We need the em value because */
  /* we have set a different line-height and want this to scale with that. */
  /* Note that this should set vertical padding only, since CodeMirror assumes
       that horizontal padding will be set on CodeMirror pre */
  padding: 0.4em 0;
}
.CodeMirror-linenumber {
  padding: 0 8px 0 4px;
}
.CodeMirror-gutters {
  border-bottom-left-radius: 2px;
  border-top-left-radius: 2px;
}
.CodeMirror pre {
  /* In CM3 this went to 4px from 0 in CM2. This sets horizontal padding only,
    use .CodeMirror-lines for vertical */
  padding: 0 0.4em;
  border: 0;
  border-radius: 0;
}
.CodeMirror-cursor {
  border-left: 1.4px solid black;
}
@media screen and (min-width: 2138px) and (max-width: 4319px) {
  .CodeMirror-cursor {
    border-left: 2px solid black;
  }
}
@media screen and (min-width: 4320px) {
  .CodeMirror-cursor {
    border-left: 4px solid black;
  }
}
/*

Original style from softwaremaniacs.org (c) Ivan Sagalaev <Maniac@SoftwareManiacs.Org>
Adapted from GitHub theme

*/
.highlight-base {
  color: #000;
}
.highlight-variable {
  color: #000;
}
.highlight-variable-2 {
  color: #1a1a1a;
}
.highlight-variable-3 {
  color: #333333;
}
.highlight-string {
  color: #BA2121;
}
.highlight-comment {
  color: #408080;
  font-style: italic;
}
.highlight-number {
  color: #080;
}
.highlight-atom {
  color: #88F;
}
.highlight-keyword {
  color: #008000;
  font-weight: bold;
}
.highlight-builtin {
  color: #008000;
}
.highlight-error {
  color: #f00;
}
.highlight-operator {
  color: #AA22FF;
  font-weight: bold;
}
.highlight-meta {
  color: #AA22FF;
}
/* previously not defined, copying from default codemirror */
.highlight-def {
  color: #00f;
}
.highlight-string-2 {
  color: #f50;
}
.highlight-qualifier {
  color: #555;
}
.highlight-bracket {
  color: #997;
}
.highlight-tag {
  color: #170;
}
.highlight-attribute {
  color: #00c;
}
.highlight-header {
  color: blue;
}
.highlight-quote {
  color: #090;
}
.highlight-link {
  color: #00c;
}
/* apply the same style to codemirror */
.cm-s-ipython span.cm-keyword {
  color: #008000;
  font-weight: bold;
}
.cm-s-ipython span.cm-atom {
  color: #88F;
}
.cm-s-ipython span.cm-number {
  color: #080;
}
.cm-s-ipython span.cm-def {
  color: #00f;
}
.cm-s-ipython span.cm-variable {
  color: #000;
}
.cm-s-ipython span.cm-operator {
  color: #AA22FF;
  font-weight: bold;
}
.cm-s-ipython span.cm-variable-2 {
  color: #1a1a1a;
}
.cm-s-ipython span.cm-variable-3 {
  color: #333333;
}
.cm-s-ipython span.cm-comment {
  color: #408080;
  font-style: italic;
}
.cm-s-ipython span.cm-string {
  color: #BA2121;
}
.cm-s-ipython span.cm-string-2 {
  color: #f50;
}
.cm-s-ipython span.cm-meta {
  color: #AA22FF;
}
.cm-s-ipython span.cm-qualifier {
  color: #555;
}
.cm-s-ipython span.cm-builtin {
  color: #008000;
}
.cm-s-ipython span.cm-bracket {
  color: #997;
}
.cm-s-ipython span.cm-tag {
  color: #170;
}
.cm-s-ipython span.cm-attribute {
  color: #00c;
}
.cm-s-ipython span.cm-header {
  color: blue;
}
.cm-s-ipython span.cm-quote {
  color: #090;
}
.cm-s-ipython span.cm-link {
  color: #00c;
}
.cm-s-ipython span.cm-error {
  color: #f00;
}
.cm-s-ipython span.cm-tab {
  background: url(data:image/png;base64,iVBORw0KGgoAAAANSUhEUgAAADAAAAAMCAYAAAAkuj5RAAAAAXNSR0IArs4c6QAAAGFJREFUSMft1LsRQFAQheHPowAKoACx3IgEKtaEHujDjORSgWTH/ZOdnZOcM/sgk/kFFWY0qV8foQwS4MKBCS3qR6ixBJvElOobYAtivseIE120FaowJPN75GMu8j/LfMwNjh4HUpwg4LUAAAAASUVORK5CYII=);
  background-position: right;
  background-repeat: no-repeat;
}
div.output_wrapper {
  /* this position must be relative to enable descendents to be absolute within it */
  position: relative;
  /* Old browsers */
  display: -webkit-box;
  -webkit-box-orient: vertical;
  -webkit-box-align: stretch;
  display: -moz-box;
  -moz-box-orient: vertical;
  -moz-box-align: stretch;
  display: box;
  box-orient: vertical;
  box-align: stretch;
  /* Modern browsers */
  display: flex;
  flex-direction: column;
  align-items: stretch;
  z-index: 1;
}
/* class for the output area when it should be height-limited */
div.output_scroll {
  /* ideally, this would be max-height, but FF barfs all over that */
  height: 24em;
  /* FF needs this *and the wrapper* to specify full width, or it will shrinkwrap */
  width: 100%;
  overflow: auto;
  border-radius: 2px;
  -webkit-box-shadow: inset 0 2px 8px rgba(0, 0, 0, 0.8);
  box-shadow: inset 0 2px 8px rgba(0, 0, 0, 0.8);
  display: block;
}
/* output div while it is collapsed */
div.output_collapsed {
  margin: 0px;
  padding: 0px;
  /* Old browsers */
  display: -webkit-box;
  -webkit-box-orient: vertical;
  -webkit-box-align: stretch;
  display: -moz-box;
  -moz-box-orient: vertical;
  -moz-box-align: stretch;
  display: box;
  box-orient: vertical;
  box-align: stretch;
  /* Modern browsers */
  display: flex;
  flex-direction: column;
  align-items: stretch;
}
div.out_prompt_overlay {
  height: 100%;
  padding: 0px 0.4em;
  position: absolute;
  border-radius: 2px;
}
div.out_prompt_overlay:hover {
  /* use inner shadow to get border that is computed the same on WebKit/FF */
  -webkit-box-shadow: inset 0 0 1px #000;
  box-shadow: inset 0 0 1px #000;
  background: rgba(240, 240, 240, 0.5);
}
div.output_prompt {
  color: #D84315;
}
/* This class is the outer container of all output sections. */
div.output_area {
  padding: 0px;
  page-break-inside: avoid;
  /* Old browsers */
  display: -webkit-box;
  -webkit-box-orient: horizontal;
  -webkit-box-align: stretch;
  display: -moz-box;
  -moz-box-orient: horizontal;
  -moz-box-align: stretch;
  display: box;
  box-orient: horizontal;
  box-align: stretch;
  /* Modern browsers */
  display: flex;
  flex-direction: row;
  align-items: stretch;
}
div.output_area .MathJax_Display {
  text-align: left !important;
}
div.output_area .rendered_html table {
  margin-left: 0;
  margin-right: 0;
}
div.output_area .rendered_html img {
  margin-left: 0;
  margin-right: 0;
}
div.output_area img,
div.output_area svg {
  max-width: 100%;
  height: auto;
}
div.output_area img.unconfined,
div.output_area svg.unconfined {
  max-width: none;
}
div.output_area .mglyph > img {
  max-width: none;
}
/* This is needed to protect the pre formating from global settings such
   as that of bootstrap */
.output {
  /* Old browsers */
  display: -webkit-box;
  -webkit-box-orient: vertical;
  -webkit-box-align: stretch;
  display: -moz-box;
  -moz-box-orient: vertical;
  -moz-box-align: stretch;
  display: box;
  box-orient: vertical;
  box-align: stretch;
  /* Modern browsers */
  display: flex;
  flex-direction: column;
  align-items: stretch;
}
@media (max-width: 540px) {
  div.output_area {
    /* Old browsers */
    display: -webkit-box;
    -webkit-box-orient: vertical;
    -webkit-box-align: stretch;
    display: -moz-box;
    -moz-box-orient: vertical;
    -moz-box-align: stretch;
    display: box;
    box-orient: vertical;
    box-align: stretch;
    /* Modern browsers */
    display: flex;
    flex-direction: column;
    align-items: stretch;
  }
}
div.output_area pre {
  margin: 0;
  padding: 1px 0 1px 0;
  border: 0;
  vertical-align: baseline;
  color: black;
  background-color: transparent;
  border-radius: 0;
}
/* This class is for the output subarea inside the output_area and after
   the prompt div. */
div.output_subarea {
  overflow-x: auto;
  padding: 0.4em;
  /* Old browsers */
  -webkit-box-flex: 1;
  -moz-box-flex: 1;
  box-flex: 1;
  /* Modern browsers */
  flex: 1;
  max-width: calc(100% - 14ex);
}
div.output_scroll div.output_subarea {
  overflow-x: visible;
}
/* The rest of the output_* classes are for special styling of the different
   output types */
/* all text output has this class: */
div.output_text {
  text-align: left;
  color: #000;
  /* This has to match that of the the CodeMirror class line-height below */
  line-height: 1.21429em;
}
/* stdout/stderr are 'text' as well as 'stream', but execute_result/error are *not* streams */
div.output_stderr {
  background: #fdd;
  /* very light red background for stderr */
}
div.output_latex {
  text-align: left;
}
/* Empty output_javascript divs should have no height */
div.output_javascript:empty {
  padding: 0;
}
.js-error {
  color: darkred;
}
/* raw_input styles */
div.raw_input_container {
  line-height: 1.21429em;
  padding-top: 5px;
}
pre.raw_input_prompt {
  /* nothing needed here. */
}
input.raw_input {
  font-family: monospace;
  font-size: inherit;
  color: inherit;
  width: auto;
  /* make sure input baseline aligns with prompt */
  vertical-align: baseline;
  /* padding + margin = 0.5em between prompt and cursor */
  padding: 0em 0.25em;
  margin: 0em 0.25em;
}
input.raw_input:focus {
  box-shadow: none;
}
p.p-space {
  margin-bottom: 10px;
}
div.output_unrecognized {
  padding: 5px;
  font-weight: bold;
  color: red;
}
div.output_unrecognized a {
  color: inherit;
  text-decoration: none;
}
div.output_unrecognized a:hover {
  color: inherit;
  text-decoration: none;
}
.rendered_html {
  color: #000;
  /* any extras will just be numbers: */
}
.rendered_html em {
  font-style: italic;
}
.rendered_html strong {
  font-weight: bold;
}
.rendered_html u {
  text-decoration: underline;
}
.rendered_html :link {
  text-decoration: underline;
}
.rendered_html :visited {
  text-decoration: underline;
}
.rendered_html h1 {
  font-size: 185.7%;
  margin: 1.08em 0 0 0;
  font-weight: bold;
  line-height: 1.0;
}
.rendered_html h2 {
  font-size: 157.1%;
  margin: 1.27em 0 0 0;
  font-weight: bold;
  line-height: 1.0;
}
.rendered_html h3 {
  font-size: 128.6%;
  margin: 1.55em 0 0 0;
  font-weight: bold;
  line-height: 1.0;
}
.rendered_html h4 {
  font-size: 100%;
  margin: 2em 0 0 0;
  font-weight: bold;
  line-height: 1.0;
}
.rendered_html h5 {
  font-size: 100%;
  margin: 2em 0 0 0;
  font-weight: bold;
  line-height: 1.0;
  font-style: italic;
}
.rendered_html h6 {
  font-size: 100%;
  margin: 2em 0 0 0;
  font-weight: bold;
  line-height: 1.0;
  font-style: italic;
}
.rendered_html h1:first-child {
  margin-top: 0.538em;
}
.rendered_html h2:first-child {
  margin-top: 0.636em;
}
.rendered_html h3:first-child {
  margin-top: 0.777em;
}
.rendered_html h4:first-child {
  margin-top: 1em;
}
.rendered_html h5:first-child {
  margin-top: 1em;
}
.rendered_html h6:first-child {
  margin-top: 1em;
}
.rendered_html ul:not(.list-inline),
.rendered_html ol:not(.list-inline) {
  padding-left: 2em;
}
.rendered_html ul {
  list-style: disc;
}
.rendered_html ul ul {
  list-style: square;
  margin-top: 0;
}
.rendered_html ul ul ul {
  list-style: circle;
}
.rendered_html ol {
  list-style: decimal;
}
.rendered_html ol ol {
  list-style: upper-alpha;
  margin-top: 0;
}
.rendered_html ol ol ol {
  list-style: lower-alpha;
}
.rendered_html ol ol ol ol {
  list-style: lower-roman;
}
.rendered_html ol ol ol ol ol {
  list-style: decimal;
}
.rendered_html * + ul {
  margin-top: 1em;
}
.rendered_html * + ol {
  margin-top: 1em;
}
.rendered_html hr {
  color: black;
  background-color: black;
}
.rendered_html pre {
  margin: 1em 2em;
  padding: 0px;
  background-color: #fff;
}
.rendered_html code {
  background-color: #eff0f1;
}
.rendered_html p code {
  padding: 1px 5px;
}
.rendered_html pre code {
  background-color: #fff;
}
.rendered_html pre,
.rendered_html code {
  border: 0;
  color: #000;
  font-size: 100%;
}
.rendered_html blockquote {
  margin: 1em 2em;
}
.rendered_html table {
  margin-left: auto;
  margin-right: auto;
  border: none;
  border-collapse: collapse;
  border-spacing: 0;
  color: black;
  font-size: 12px;
  table-layout: fixed;
}
.rendered_html thead {
  border-bottom: 1px solid black;
  vertical-align: bottom;
}
.rendered_html tr,
.rendered_html th,
.rendered_html td {
  text-align: right;
  vertical-align: middle;
  padding: 0.5em 0.5em;
  line-height: normal;
  white-space: normal;
  max-width: none;
  border: none;
}
.rendered_html th {
  font-weight: bold;
}
.rendered_html tbody tr:nth-child(odd) {
  background: #f5f5f5;
}
.rendered_html tbody tr:hover {
  background: rgba(66, 165, 245, 0.2);
}
.rendered_html * + table {
  margin-top: 1em;
}
.rendered_html p {
  text-align: left;
}
.rendered_html * + p {
  margin-top: 1em;
}
.rendered_html img {
  display: block;
  margin-left: auto;
  margin-right: auto;
}
.rendered_html * + img {
  margin-top: 1em;
}
.rendered_html img,
.rendered_html svg {
  max-width: 100%;
  height: auto;
}
.rendered_html img.unconfined,
.rendered_html svg.unconfined {
  max-width: none;
}
.rendered_html .alert {
  margin-bottom: initial;
}
.rendered_html * + .alert {
  margin-top: 1em;
}
[dir="rtl"] .rendered_html p {
  text-align: right;
}
div.text_cell {
  /* Old browsers */
  display: -webkit-box;
  -webkit-box-orient: horizontal;
  -webkit-box-align: stretch;
  display: -moz-box;
  -moz-box-orient: horizontal;
  -moz-box-align: stretch;
  display: box;
  box-orient: horizontal;
  box-align: stretch;
  /* Modern browsers */
  display: flex;
  flex-direction: row;
  align-items: stretch;
}
@media (max-width: 540px) {
  div.text_cell > div.prompt {
    display: none;
  }
}
div.text_cell_render {
  /*font-family: "Helvetica Neue", Arial, Helvetica, Geneva, sans-serif;*/
  outline: none;
  resize: none;
  width: inherit;
  border-style: none;
  padding: 0.5em 0.5em 0.5em 0.4em;
  color: #000;
  box-sizing: border-box;
  -moz-box-sizing: border-box;
  -webkit-box-sizing: border-box;
}
a.anchor-link:link {
  text-decoration: none;
  padding: 0px 20px;
  visibility: hidden;
}
h1:hover .anchor-link,
h2:hover .anchor-link,
h3:hover .anchor-link,
h4:hover .anchor-link,
h5:hover .anchor-link,
h6:hover .anchor-link {
  visibility: visible;
}
.text_cell.rendered .input_area {
  display: none;
}
.text_cell.rendered .rendered_html {
  overflow-x: auto;
  overflow-y: hidden;
}
.text_cell.rendered .rendered_html tr,
.text_cell.rendered .rendered_html th,
.text_cell.rendered .rendered_html td {
  max-width: none;
}
.text_cell.unrendered .text_cell_render {
  display: none;
}
.text_cell .dropzone .input_area {
  border: 2px dashed #bababa;
  margin: -1px;
}
.cm-header-1,
.cm-header-2,
.cm-header-3,
.cm-header-4,
.cm-header-5,
.cm-header-6 {
  font-weight: bold;
  font-family: "Helvetica Neue", Helvetica, Arial, sans-serif;
}
.cm-header-1 {
  font-size: 185.7%;
}
.cm-header-2 {
  font-size: 157.1%;
}
.cm-header-3 {
  font-size: 128.6%;
}
.cm-header-4 {
  font-size: 110%;
}
.cm-header-5 {
  font-size: 100%;
  font-style: italic;
}
.cm-header-6 {
  font-size: 100%;
  font-style: italic;
}
/*!
*
* IPython notebook webapp
*
*/
@media (max-width: 767px) {
  .notebook_app {
    padding-left: 0px;
    padding-right: 0px;
  }
}
#ipython-main-app {
  box-sizing: border-box;
  -moz-box-sizing: border-box;
  -webkit-box-sizing: border-box;
  height: 100%;
}
div#notebook_panel {
  margin: 0px;
  padding: 0px;
  box-sizing: border-box;
  -moz-box-sizing: border-box;
  -webkit-box-sizing: border-box;
  height: 100%;
}
div#notebook {
  font-size: 14px;
  line-height: 20px;
  overflow-y: hidden;
  overflow-x: auto;
  width: 100%;
  /* This spaces the page away from the edge of the notebook area */
  padding-top: 20px;
  margin: 0px;
  outline: none;
  box-sizing: border-box;
  -moz-box-sizing: border-box;
  -webkit-box-sizing: border-box;
  min-height: 100%;
}
@media not print {
  #notebook-container {
    padding: 15px;
    background-color: #fff;
    min-height: 0;
    -webkit-box-shadow: 0px 0px 12px 1px rgba(87, 87, 87, 0.2);
    box-shadow: 0px 0px 12px 1px rgba(87, 87, 87, 0.2);
  }
}
@media print {
  #notebook-container {
    width: 100%;
  }
}
div.ui-widget-content {
  border: 1px solid #ababab;
  outline: none;
}
pre.dialog {
  background-color: #f7f7f7;
  border: 1px solid #ddd;
  border-radius: 2px;
  padding: 0.4em;
  padding-left: 2em;
}
p.dialog {
  padding: 0.2em;
}
/* Word-wrap output correctly.  This is the CSS3 spelling, though Firefox seems
   to not honor it correctly.  Webkit browsers (Chrome, rekonq, Safari) do.
 */
pre,
code,
kbd,
samp {
  white-space: pre-wrap;
}
#fonttest {
  font-family: monospace;
}
p {
  margin-bottom: 0;
}
.end_space {
  min-height: 100px;
  transition: height .2s ease;
}
.notebook_app > #header {
  -webkit-box-shadow: 0px 0px 12px 1px rgba(87, 87, 87, 0.2);
  box-shadow: 0px 0px 12px 1px rgba(87, 87, 87, 0.2);
}
@media not print {
  .notebook_app {
    background-color: #EEE;
  }
}
kbd {
  border-style: solid;
  border-width: 1px;
  box-shadow: none;
  margin: 2px;
  padding-left: 2px;
  padding-right: 2px;
  padding-top: 1px;
  padding-bottom: 1px;
}
.jupyter-keybindings {
  padding: 1px;
  line-height: 24px;
  border-bottom: 1px solid gray;
}
.jupyter-keybindings input {
  margin: 0;
  padding: 0;
  border: none;
}
.jupyter-keybindings i {
  padding: 6px;
}
.well code {
  background-color: #ffffff;
  border-color: #ababab;
  border-width: 1px;
  border-style: solid;
  padding: 2px;
  padding-top: 1px;
  padding-bottom: 1px;
}
/* CSS for the cell toolbar */
.celltoolbar {
  border: thin solid #CFCFCF;
  border-bottom: none;
  background: #EEE;
  border-radius: 2px 2px 0px 0px;
  width: 100%;
  height: 29px;
  padding-right: 4px;
  /* Old browsers */
  display: -webkit-box;
  -webkit-box-orient: horizontal;
  -webkit-box-align: stretch;
  display: -moz-box;
  -moz-box-orient: horizontal;
  -moz-box-align: stretch;
  display: box;
  box-orient: horizontal;
  box-align: stretch;
  /* Modern browsers */
  display: flex;
  flex-direction: row;
  align-items: stretch;
  /* Old browsers */
  -webkit-box-pack: end;
  -moz-box-pack: end;
  box-pack: end;
  /* Modern browsers */
  justify-content: flex-end;
  display: -webkit-flex;
}
@media print {
  .celltoolbar {
    display: none;
  }
}
.ctb_hideshow {
  display: none;
  vertical-align: bottom;
}
/* ctb_show is added to the ctb_hideshow div to show the cell toolbar.
   Cell toolbars are only shown when the ctb_global_show class is also set.
*/
.ctb_global_show .ctb_show.ctb_hideshow {
  display: block;
}
.ctb_global_show .ctb_show + .input_area,
.ctb_global_show .ctb_show + div.text_cell_input,
.ctb_global_show .ctb_show ~ div.text_cell_render {
  border-top-right-radius: 0px;
  border-top-left-radius: 0px;
}
.ctb_global_show .ctb_show ~ div.text_cell_render {
  border: 1px solid #cfcfcf;
}
.celltoolbar {
  font-size: 87%;
  padding-top: 3px;
}
.celltoolbar select {
  display: block;
  width: 100%;
  height: 32px;
  padding: 6px 12px;
  font-size: 13px;
  line-height: 1.42857143;
  color: #555555;
  background-color: #fff;
  background-image: none;
  border: 1px solid #ccc;
  border-radius: 2px;
  -webkit-box-shadow: inset 0 1px 1px rgba(0, 0, 0, 0.075);
  box-shadow: inset 0 1px 1px rgba(0, 0, 0, 0.075);
  -webkit-transition: border-color ease-in-out .15s, box-shadow ease-in-out .15s;
  -o-transition: border-color ease-in-out .15s, box-shadow ease-in-out .15s;
  transition: border-color ease-in-out .15s, box-shadow ease-in-out .15s;
  height: 30px;
  padding: 5px 10px;
  font-size: 12px;
  line-height: 1.5;
  border-radius: 1px;
  width: inherit;
  font-size: inherit;
  height: 22px;
  padding: 0px;
  display: inline-block;
}
.celltoolbar select:focus {
  border-color: #66afe9;
  outline: 0;
  -webkit-box-shadow: inset 0 1px 1px rgba(0,0,0,.075), 0 0 8px rgba(102, 175, 233, 0.6);
  box-shadow: inset 0 1px 1px rgba(0,0,0,.075), 0 0 8px rgba(102, 175, 233, 0.6);
}
.celltoolbar select::-moz-placeholder {
  color: #999;
  opacity: 1;
}
.celltoolbar select:-ms-input-placeholder {
  color: #999;
}
.celltoolbar select::-webkit-input-placeholder {
  color: #999;
}
.celltoolbar select::-ms-expand {
  border: 0;
  background-color: transparent;
}
.celltoolbar select[disabled],
.celltoolbar select[readonly],
fieldset[disabled] .celltoolbar select {
  background-color: #eeeeee;
  opacity: 1;
}
.celltoolbar select[disabled],
fieldset[disabled] .celltoolbar select {
  cursor: not-allowed;
}
textarea.celltoolbar select {
  height: auto;
}
select.celltoolbar select {
  height: 30px;
  line-height: 30px;
}
textarea.celltoolbar select,
select[multiple].celltoolbar select {
  height: auto;
}
.celltoolbar label {
  margin-left: 5px;
  margin-right: 5px;
}
.tags_button_container {
  width: 100%;
  display: flex;
}
.tag-container {
  display: flex;
  flex-direction: row;
  flex-grow: 1;
  overflow: hidden;
  position: relative;
}
.tag-container > * {
  margin: 0 4px;
}
.remove-tag-btn {
  margin-left: 4px;
}
.tags-input {
  display: flex;
}
.cell-tag:last-child:after {
  content: "";
  position: absolute;
  right: 0;
  width: 40px;
  height: 100%;
  /* Fade to background color of cell toolbar */
  background: linear-gradient(to right, rgba(0, 0, 0, 0), #EEE);
}
.tags-input > * {
  margin-left: 4px;
}
.cell-tag,
.tags-input input,
.tags-input button {
  display: block;
  width: 100%;
  height: 32px;
  padding: 6px 12px;
  font-size: 13px;
  line-height: 1.42857143;
  color: #555555;
  background-color: #fff;
  background-image: none;
  border: 1px solid #ccc;
  border-radius: 2px;
  -webkit-box-shadow: inset 0 1px 1px rgba(0, 0, 0, 0.075);
  box-shadow: inset 0 1px 1px rgba(0, 0, 0, 0.075);
  -webkit-transition: border-color ease-in-out .15s, box-shadow ease-in-out .15s;
  -o-transition: border-color ease-in-out .15s, box-shadow ease-in-out .15s;
  transition: border-color ease-in-out .15s, box-shadow ease-in-out .15s;
  height: 30px;
  padding: 5px 10px;
  font-size: 12px;
  line-height: 1.5;
  border-radius: 1px;
  box-shadow: none;
  width: inherit;
  font-size: inherit;
  height: 22px;
  line-height: 22px;
  padding: 0px 4px;
  display: inline-block;
}
.cell-tag:focus,
.tags-input input:focus,
.tags-input button:focus {
  border-color: #66afe9;
  outline: 0;
  -webkit-box-shadow: inset 0 1px 1px rgba(0,0,0,.075), 0 0 8px rgba(102, 175, 233, 0.6);
  box-shadow: inset 0 1px 1px rgba(0,0,0,.075), 0 0 8px rgba(102, 175, 233, 0.6);
}
.cell-tag::-moz-placeholder,
.tags-input input::-moz-placeholder,
.tags-input button::-moz-placeholder {
  color: #999;
  opacity: 1;
}
.cell-tag:-ms-input-placeholder,
.tags-input input:-ms-input-placeholder,
.tags-input button:-ms-input-placeholder {
  color: #999;
}
.cell-tag::-webkit-input-placeholder,
.tags-input input::-webkit-input-placeholder,
.tags-input button::-webkit-input-placeholder {
  color: #999;
}
.cell-tag::-ms-expand,
.tags-input input::-ms-expand,
.tags-input button::-ms-expand {
  border: 0;
  background-color: transparent;
}
.cell-tag[disabled],
.tags-input input[disabled],
.tags-input button[disabled],
.cell-tag[readonly],
.tags-input input[readonly],
.tags-input button[readonly],
fieldset[disabled] .cell-tag,
fieldset[disabled] .tags-input input,
fieldset[disabled] .tags-input button {
  background-color: #eeeeee;
  opacity: 1;
}
.cell-tag[disabled],
.tags-input input[disabled],
.tags-input button[disabled],
fieldset[disabled] .cell-tag,
fieldset[disabled] .tags-input input,
fieldset[disabled] .tags-input button {
  cursor: not-allowed;
}
textarea.cell-tag,
textarea.tags-input input,
textarea.tags-input button {
  height: auto;
}
select.cell-tag,
select.tags-input input,
select.tags-input button {
  height: 30px;
  line-height: 30px;
}
textarea.cell-tag,
textarea.tags-input input,
textarea.tags-input button,
select[multiple].cell-tag,
select[multiple].tags-input input,
select[multiple].tags-input button {
  height: auto;
}
.cell-tag,
.tags-input button {
  padding: 0px 4px;
}
.cell-tag {
  background-color: #fff;
  white-space: nowrap;
}
.tags-input input[type=text]:focus {
  outline: none;
  box-shadow: none;
  border-color: #ccc;
}
.completions {
  position: absolute;
  z-index: 110;
  overflow: hidden;
  border: 1px solid #ababab;
  border-radius: 2px;
  -webkit-box-shadow: 0px 6px 10px -1px #adadad;
  box-shadow: 0px 6px 10px -1px #adadad;
  line-height: 1;
}
.completions select {
  background: white;
  outline: none;
  border: none;
  padding: 0px;
  margin: 0px;
  overflow: auto;
  font-family: monospace;
  font-size: 110%;
  color: #000;
  width: auto;
}
.completions select option.context {
  color: #286090;
}
#kernel_logo_widget .current_kernel_logo {
  display: none;
  margin-top: -1px;
  margin-bottom: -1px;
  width: 32px;
  height: 32px;
}
[dir="rtl"] #kernel_logo_widget {
  float: left !important;
  float: left;
}
.modal .modal-body .move-path {
  display: flex;
  flex-direction: row;
  justify-content: space;
  align-items: center;
}
.modal .modal-body .move-path .server-root {
  padding-right: 20px;
}
.modal .modal-body .move-path .path-input {
  flex: 1;
}
#menubar {
  box-sizing: border-box;
  -moz-box-sizing: border-box;
  -webkit-box-sizing: border-box;
  margin-top: 1px;
}
#menubar .navbar {
  border-top: 1px;
  border-radius: 0px 0px 2px 2px;
  margin-bottom: 0px;
}
#menubar .navbar-toggle {
  float: left;
  padding-top: 7px;
  padding-bottom: 7px;
  border: none;
}
#menubar .navbar-collapse {
  clear: left;
}
[dir="rtl"] #menubar .navbar-toggle {
  float: right;
}
[dir="rtl"] #menubar .navbar-collapse {
  clear: right;
}
[dir="rtl"] #menubar .navbar-nav {
  float: right;
}
[dir="rtl"] #menubar .nav {
  padding-right: 0px;
}
[dir="rtl"] #menubar .navbar-nav > li {
  float: right;
}
[dir="rtl"] #menubar .navbar-right {
  float: left !important;
}
[dir="rtl"] ul.dropdown-menu {
  text-align: right;
  left: auto;
}
[dir="rtl"] ul#new-menu.dropdown-menu {
  right: auto;
  left: 0;
}
.nav-wrapper {
  border-bottom: 1px solid #e7e7e7;
}
i.menu-icon {
  padding-top: 4px;
}
[dir="rtl"] i.menu-icon.pull-right {
  float: left !important;
  float: left;
}
ul#help_menu li a {
  overflow: hidden;
  padding-right: 2.2em;
}
ul#help_menu li a i {
  margin-right: -1.2em;
}
[dir="rtl"] ul#help_menu li a {
  padding-left: 2.2em;
}
[dir="rtl"] ul#help_menu li a i {
  margin-right: 0;
  margin-left: -1.2em;
}
[dir="rtl"] ul#help_menu li a i.pull-right {
  float: left !important;
  float: left;
}
.dropdown-submenu {
  position: relative;
}
.dropdown-submenu > .dropdown-menu {
  top: 0;
  left: 100%;
  margin-top: -6px;
  margin-left: -1px;
}
[dir="rtl"] .dropdown-submenu > .dropdown-menu {
  right: 100%;
  margin-right: -1px;
}
.dropdown-submenu:hover > .dropdown-menu {
  display: block;
}
.dropdown-submenu > a:after {
  display: inline-block;
  font: normal normal normal 14px/1 FontAwesome;
  font-size: inherit;
  text-rendering: auto;
  -webkit-font-smoothing: antialiased;
  -moz-osx-font-smoothing: grayscale;
  display: block;
  content: "\f0da";
  float: right;
  color: #333333;
  margin-top: 2px;
  margin-right: -10px;
}
.dropdown-submenu > a:after.fa-pull-left {
  margin-right: .3em;
}
.dropdown-submenu > a:after.fa-pull-right {
  margin-left: .3em;
}
.dropdown-submenu > a:after.pull-left {
  margin-right: .3em;
}
.dropdown-submenu > a:after.pull-right {
  margin-left: .3em;
}
[dir="rtl"] .dropdown-submenu > a:after {
  float: left;
  content: "\f0d9";
  margin-right: 0;
  margin-left: -10px;
}
.dropdown-submenu:hover > a:after {
  color: #262626;
}
.dropdown-submenu.pull-left {
  float: none;
}
.dropdown-submenu.pull-left > .dropdown-menu {
  left: -100%;
  margin-left: 10px;
}
#notification_area {
  float: right !important;
  float: right;
  z-index: 10;
}
[dir="rtl"] #notification_area {
  float: left !important;
  float: left;
}
.indicator_area {
  float: right !important;
  float: right;
  color: #777;
  margin-left: 5px;
  margin-right: 5px;
  width: 11px;
  z-index: 10;
  text-align: center;
  width: auto;
}
[dir="rtl"] .indicator_area {
  float: left !important;
  float: left;
}
#kernel_indicator {
  float: right !important;
  float: right;
  color: #777;
  margin-left: 5px;
  margin-right: 5px;
  width: 11px;
  z-index: 10;
  text-align: center;
  width: auto;
  border-left: 1px solid;
}
#kernel_indicator .kernel_indicator_name {
  padding-left: 5px;
  padding-right: 5px;
}
[dir="rtl"] #kernel_indicator {
  float: left !important;
  float: left;
  border-left: 0;
  border-right: 1px solid;
}
#modal_indicator {
  float: right !important;
  float: right;
  color: #777;
  margin-left: 5px;
  margin-right: 5px;
  width: 11px;
  z-index: 10;
  text-align: center;
  width: auto;
}
[dir="rtl"] #modal_indicator {
  float: left !important;
  float: left;
}
#readonly-indicator {
  float: right !important;
  float: right;
  color: #777;
  margin-left: 5px;
  margin-right: 5px;
  width: 11px;
  z-index: 10;
  text-align: center;
  width: auto;
  margin-top: 2px;
  margin-bottom: 0px;
  margin-left: 0px;
  margin-right: 0px;
  display: none;
}
.modal_indicator:before {
  width: 1.28571429em;
  text-align: center;
}
.edit_mode .modal_indicator:before {
  display: inline-block;
  font: normal normal normal 14px/1 FontAwesome;
  font-size: inherit;
  text-rendering: auto;
  -webkit-font-smoothing: antialiased;
  -moz-osx-font-smoothing: grayscale;
  content: "\f040";
}
.edit_mode .modal_indicator:before.fa-pull-left {
  margin-right: .3em;
}
.edit_mode .modal_indicator:before.fa-pull-right {
  margin-left: .3em;
}
.edit_mode .modal_indicator:before.pull-left {
  margin-right: .3em;
}
.edit_mode .modal_indicator:before.pull-right {
  margin-left: .3em;
}
.command_mode .modal_indicator:before {
  display: inline-block;
  font: normal normal normal 14px/1 FontAwesome;
  font-size: inherit;
  text-rendering: auto;
  -webkit-font-smoothing: antialiased;
  -moz-osx-font-smoothing: grayscale;
  content: ' ';
}
.command_mode .modal_indicator:before.fa-pull-left {
  margin-right: .3em;
}
.command_mode .modal_indicator:before.fa-pull-right {
  margin-left: .3em;
}
.command_mode .modal_indicator:before.pull-left {
  margin-right: .3em;
}
.command_mode .modal_indicator:before.pull-right {
  margin-left: .3em;
}
.kernel_idle_icon:before {
  display: inline-block;
  font: normal normal normal 14px/1 FontAwesome;
  font-size: inherit;
  text-rendering: auto;
  -webkit-font-smoothing: antialiased;
  -moz-osx-font-smoothing: grayscale;
  content: "\f10c";
}
.kernel_idle_icon:before.fa-pull-left {
  margin-right: .3em;
}
.kernel_idle_icon:before.fa-pull-right {
  margin-left: .3em;
}
.kernel_idle_icon:before.pull-left {
  margin-right: .3em;
}
.kernel_idle_icon:before.pull-right {
  margin-left: .3em;
}
.kernel_busy_icon:before {
  display: inline-block;
  font: normal normal normal 14px/1 FontAwesome;
  font-size: inherit;
  text-rendering: auto;
  -webkit-font-smoothing: antialiased;
  -moz-osx-font-smoothing: grayscale;
  content: "\f111";
}
.kernel_busy_icon:before.fa-pull-left {
  margin-right: .3em;
}
.kernel_busy_icon:before.fa-pull-right {
  margin-left: .3em;
}
.kernel_busy_icon:before.pull-left {
  margin-right: .3em;
}
.kernel_busy_icon:before.pull-right {
  margin-left: .3em;
}
.kernel_dead_icon:before {
  display: inline-block;
  font: normal normal normal 14px/1 FontAwesome;
  font-size: inherit;
  text-rendering: auto;
  -webkit-font-smoothing: antialiased;
  -moz-osx-font-smoothing: grayscale;
  content: "\f1e2";
}
.kernel_dead_icon:before.fa-pull-left {
  margin-right: .3em;
}
.kernel_dead_icon:before.fa-pull-right {
  margin-left: .3em;
}
.kernel_dead_icon:before.pull-left {
  margin-right: .3em;
}
.kernel_dead_icon:before.pull-right {
  margin-left: .3em;
}
.kernel_disconnected_icon:before {
  display: inline-block;
  font: normal normal normal 14px/1 FontAwesome;
  font-size: inherit;
  text-rendering: auto;
  -webkit-font-smoothing: antialiased;
  -moz-osx-font-smoothing: grayscale;
  content: "\f127";
}
.kernel_disconnected_icon:before.fa-pull-left {
  margin-right: .3em;
}
.kernel_disconnected_icon:before.fa-pull-right {
  margin-left: .3em;
}
.kernel_disconnected_icon:before.pull-left {
  margin-right: .3em;
}
.kernel_disconnected_icon:before.pull-right {
  margin-left: .3em;
}
.notification_widget {
  color: #777;
  z-index: 10;
  background: rgba(240, 240, 240, 0.5);
  margin-right: 4px;
  color: #333;
  background-color: #fff;
  border-color: #ccc;
}
.notification_widget:focus,
.notification_widget.focus {
  color: #333;
  background-color: #e6e6e6;
  border-color: #8c8c8c;
}
.notification_widget:hover {
  color: #333;
  background-color: #e6e6e6;
  border-color: #adadad;
}
.notification_widget:active,
.notification_widget.active,
.open > .dropdown-toggle.notification_widget {
  color: #333;
  background-color: #e6e6e6;
  border-color: #adadad;
}
.notification_widget:active:hover,
.notification_widget.active:hover,
.open > .dropdown-toggle.notification_widget:hover,
.notification_widget:active:focus,
.notification_widget.active:focus,
.open > .dropdown-toggle.notification_widget:focus,
.notification_widget:active.focus,
.notification_widget.active.focus,
.open > .dropdown-toggle.notification_widget.focus {
  color: #333;
  background-color: #d4d4d4;
  border-color: #8c8c8c;
}
.notification_widget:active,
.notification_widget.active,
.open > .dropdown-toggle.notification_widget {
  background-image: none;
}
.notification_widget.disabled:hover,
.notification_widget[disabled]:hover,
fieldset[disabled] .notification_widget:hover,
.notification_widget.disabled:focus,
.notification_widget[disabled]:focus,
fieldset[disabled] .notification_widget:focus,
.notification_widget.disabled.focus,
.notification_widget[disabled].focus,
fieldset[disabled] .notification_widget.focus {
  background-color: #fff;
  border-color: #ccc;
}
.notification_widget .badge {
  color: #fff;
  background-color: #333;
}
.notification_widget.warning {
  color: #fff;
  background-color: #f0ad4e;
  border-color: #eea236;
}
.notification_widget.warning:focus,
.notification_widget.warning.focus {
  color: #fff;
  background-color: #ec971f;
  border-color: #985f0d;
}
.notification_widget.warning:hover {
  color: #fff;
  background-color: #ec971f;
  border-color: #d58512;
}
.notification_widget.warning:active,
.notification_widget.warning.active,
.open > .dropdown-toggle.notification_widget.warning {
  color: #fff;
  background-color: #ec971f;
  border-color: #d58512;
}
.notification_widget.warning:active:hover,
.notification_widget.warning.active:hover,
.open > .dropdown-toggle.notification_widget.warning:hover,
.notification_widget.warning:active:focus,
.notification_widget.warning.active:focus,
.open > .dropdown-toggle.notification_widget.warning:focus,
.notification_widget.warning:active.focus,
.notification_widget.warning.active.focus,
.open > .dropdown-toggle.notification_widget.warning.focus {
  color: #fff;
  background-color: #d58512;
  border-color: #985f0d;
}
.notification_widget.warning:active,
.notification_widget.warning.active,
.open > .dropdown-toggle.notification_widget.warning {
  background-image: none;
}
.notification_widget.warning.disabled:hover,
.notification_widget.warning[disabled]:hover,
fieldset[disabled] .notification_widget.warning:hover,
.notification_widget.warning.disabled:focus,
.notification_widget.warning[disabled]:focus,
fieldset[disabled] .notification_widget.warning:focus,
.notification_widget.warning.disabled.focus,
.notification_widget.warning[disabled].focus,
fieldset[disabled] .notification_widget.warning.focus {
  background-color: #f0ad4e;
  border-color: #eea236;
}
.notification_widget.warning .badge {
  color: #f0ad4e;
  background-color: #fff;
}
.notification_widget.success {
  color: #fff;
  background-color: #5cb85c;
  border-color: #4cae4c;
}
.notification_widget.success:focus,
.notification_widget.success.focus {
  color: #fff;
  background-color: #449d44;
  border-color: #255625;
}
.notification_widget.success:hover {
  color: #fff;
  background-color: #449d44;
  border-color: #398439;
}
.notification_widget.success:active,
.notification_widget.success.active,
.open > .dropdown-toggle.notification_widget.success {
  color: #fff;
  background-color: #449d44;
  border-color: #398439;
}
.notification_widget.success:active:hover,
.notification_widget.success.active:hover,
.open > .dropdown-toggle.notification_widget.success:hover,
.notification_widget.success:active:focus,
.notification_widget.success.active:focus,
.open > .dropdown-toggle.notification_widget.success:focus,
.notification_widget.success:active.focus,
.notification_widget.success.active.focus,
.open > .dropdown-toggle.notification_widget.success.focus {
  color: #fff;
  background-color: #398439;
  border-color: #255625;
}
.notification_widget.success:active,
.notification_widget.success.active,
.open > .dropdown-toggle.notification_widget.success {
  background-image: none;
}
.notification_widget.success.disabled:hover,
.notification_widget.success[disabled]:hover,
fieldset[disabled] .notification_widget.success:hover,
.notification_widget.success.disabled:focus,
.notification_widget.success[disabled]:focus,
fieldset[disabled] .notification_widget.success:focus,
.notification_widget.success.disabled.focus,
.notification_widget.success[disabled].focus,
fieldset[disabled] .notification_widget.success.focus {
  background-color: #5cb85c;
  border-color: #4cae4c;
}
.notification_widget.success .badge {
  color: #5cb85c;
  background-color: #fff;
}
.notification_widget.info {
  color: #fff;
  background-color: #5bc0de;
  border-color: #46b8da;
}
.notification_widget.info:focus,
.notification_widget.info.focus {
  color: #fff;
  background-color: #31b0d5;
  border-color: #1b6d85;
}
.notification_widget.info:hover {
  color: #fff;
  background-color: #31b0d5;
  border-color: #269abc;
}
.notification_widget.info:active,
.notification_widget.info.active,
.open > .dropdown-toggle.notification_widget.info {
  color: #fff;
  background-color: #31b0d5;
  border-color: #269abc;
}
.notification_widget.info:active:hover,
.notification_widget.info.active:hover,
.open > .dropdown-toggle.notification_widget.info:hover,
.notification_widget.info:active:focus,
.notification_widget.info.active:focus,
.open > .dropdown-toggle.notification_widget.info:focus,
.notification_widget.info:active.focus,
.notification_widget.info.active.focus,
.open > .dropdown-toggle.notification_widget.info.focus {
  color: #fff;
  background-color: #269abc;
  border-color: #1b6d85;
}
.notification_widget.info:active,
.notification_widget.info.active,
.open > .dropdown-toggle.notification_widget.info {
  background-image: none;
}
.notification_widget.info.disabled:hover,
.notification_widget.info[disabled]:hover,
fieldset[disabled] .notification_widget.info:hover,
.notification_widget.info.disabled:focus,
.notification_widget.info[disabled]:focus,
fieldset[disabled] .notification_widget.info:focus,
.notification_widget.info.disabled.focus,
.notification_widget.info[disabled].focus,
fieldset[disabled] .notification_widget.info.focus {
  background-color: #5bc0de;
  border-color: #46b8da;
}
.notification_widget.info .badge {
  color: #5bc0de;
  background-color: #fff;
}
.notification_widget.danger {
  color: #fff;
  background-color: #d9534f;
  border-color: #d43f3a;
}
.notification_widget.danger:focus,
.notification_widget.danger.focus {
  color: #fff;
  background-color: #c9302c;
  border-color: #761c19;
}
.notification_widget.danger:hover {
  color: #fff;
  background-color: #c9302c;
  border-color: #ac2925;
}
.notification_widget.danger:active,
.notification_widget.danger.active,
.open > .dropdown-toggle.notification_widget.danger {
  color: #fff;
  background-color: #c9302c;
  border-color: #ac2925;
}
.notification_widget.danger:active:hover,
.notification_widget.danger.active:hover,
.open > .dropdown-toggle.notification_widget.danger:hover,
.notification_widget.danger:active:focus,
.notification_widget.danger.active:focus,
.open > .dropdown-toggle.notification_widget.danger:focus,
.notification_widget.danger:active.focus,
.notification_widget.danger.active.focus,
.open > .dropdown-toggle.notification_widget.danger.focus {
  color: #fff;
  background-color: #ac2925;
  border-color: #761c19;
}
.notification_widget.danger:active,
.notification_widget.danger.active,
.open > .dropdown-toggle.notification_widget.danger {
  background-image: none;
}
.notification_widget.danger.disabled:hover,
.notification_widget.danger[disabled]:hover,
fieldset[disabled] .notification_widget.danger:hover,
.notification_widget.danger.disabled:focus,
.notification_widget.danger[disabled]:focus,
fieldset[disabled] .notification_widget.danger:focus,
.notification_widget.danger.disabled.focus,
.notification_widget.danger[disabled].focus,
fieldset[disabled] .notification_widget.danger.focus {
  background-color: #d9534f;
  border-color: #d43f3a;
}
.notification_widget.danger .badge {
  color: #d9534f;
  background-color: #fff;
}
div#pager {
  background-color: #fff;
  font-size: 14px;
  line-height: 20px;
  overflow: hidden;
  display: none;
  position: fixed;
  bottom: 0px;
  width: 100%;
  max-height: 50%;
  padding-top: 8px;
  -webkit-box-shadow: 0px 0px 12px 1px rgba(87, 87, 87, 0.2);
  box-shadow: 0px 0px 12px 1px rgba(87, 87, 87, 0.2);
  /* Display over codemirror */
  z-index: 100;
  /* Hack which prevents jquery ui resizable from changing top. */
  top: auto !important;
}
div#pager pre {
  line-height: 1.21429em;
  color: #000;
  background-color: #f7f7f7;
  padding: 0.4em;
}
div#pager #pager-button-area {
  position: absolute;
  top: 8px;
  right: 20px;
}
div#pager #pager-contents {
  position: relative;
  overflow: auto;
  width: 100%;
  height: 100%;
}
div#pager #pager-contents #pager-container {
  position: relative;
  padding: 15px 0px;
  box-sizing: border-box;
  -moz-box-sizing: border-box;
  -webkit-box-sizing: border-box;
}
div#pager .ui-resizable-handle {
  top: 0px;
  height: 8px;
  background: #f7f7f7;
  border-top: 1px solid #cfcfcf;
  border-bottom: 1px solid #cfcfcf;
  /* This injects handle bars (a short, wide = symbol) for 
        the resize handle. */
}
div#pager .ui-resizable-handle::after {
  content: '';
  top: 2px;
  left: 50%;
  height: 3px;
  width: 30px;
  margin-left: -15px;
  position: absolute;
  border-top: 1px solid #cfcfcf;
}
.quickhelp {
  /* Old browsers */
  display: -webkit-box;
  -webkit-box-orient: horizontal;
  -webkit-box-align: stretch;
  display: -moz-box;
  -moz-box-orient: horizontal;
  -moz-box-align: stretch;
  display: box;
  box-orient: horizontal;
  box-align: stretch;
  /* Modern browsers */
  display: flex;
  flex-direction: row;
  align-items: stretch;
  line-height: 1.8em;
}
.shortcut_key {
  display: inline-block;
  width: 21ex;
  text-align: right;
  font-family: monospace;
}
.shortcut_descr {
  display: inline-block;
  /* Old browsers */
  -webkit-box-flex: 1;
  -moz-box-flex: 1;
  box-flex: 1;
  /* Modern browsers */
  flex: 1;
}
span.save_widget {
  height: 30px;
  margin-top: 4px;
  display: flex;
  justify-content: flex-start;
  align-items: baseline;
  width: 50%;
  flex: 1;
}
span.save_widget span.filename {
  height: 100%;
  line-height: 1em;
  margin-left: 16px;
  border: none;
  font-size: 146.5%;
  text-overflow: ellipsis;
  overflow: hidden;
  white-space: nowrap;
  border-radius: 2px;
}
span.save_widget span.filename:hover {
  background-color: #e6e6e6;
}
[dir="rtl"] span.save_widget.pull-left {
  float: right !important;
  float: right;
}
[dir="rtl"] span.save_widget span.filename {
  margin-left: 0;
  margin-right: 16px;
}
span.checkpoint_status,
span.autosave_status {
  font-size: small;
  white-space: nowrap;
  padding: 0 5px;
}
@media (max-width: 767px) {
  span.save_widget {
    font-size: small;
    padding: 0 0 0 5px;
  }
  span.checkpoint_status,
  span.autosave_status {
    display: none;
  }
}
@media (min-width: 768px) and (max-width: 991px) {
  span.checkpoint_status {
    display: none;
  }
  span.autosave_status {
    font-size: x-small;
  }
}
.toolbar {
  padding: 0px;
  margin-left: -5px;
  margin-top: 2px;
  margin-bottom: 5px;
  box-sizing: border-box;
  -moz-box-sizing: border-box;
  -webkit-box-sizing: border-box;
}
.toolbar select,
.toolbar label {
  width: auto;
  vertical-align: middle;
  margin-right: 2px;
  margin-bottom: 0px;
  display: inline;
  font-size: 92%;
  margin-left: 0.3em;
  margin-right: 0.3em;
  padding: 0px;
  padding-top: 3px;
}
.toolbar .btn {
  padding: 2px 8px;
}
.toolbar .btn-group {
  margin-top: 0px;
  margin-left: 5px;
}
.toolbar-btn-label {
  margin-left: 6px;
}
#maintoolbar {
  margin-bottom: -3px;
  margin-top: -8px;
  border: 0px;
  min-height: 27px;
  margin-left: 0px;
  padding-top: 11px;
  padding-bottom: 3px;
}
#maintoolbar .navbar-text {
  float: none;
  vertical-align: middle;
  text-align: right;
  margin-left: 5px;
  margin-right: 0px;
  margin-top: 0px;
}
.select-xs {
  height: 24px;
}
[dir="rtl"] .btn-group > .btn,
.btn-group-vertical > .btn {
  float: right;
}
.pulse,
.dropdown-menu > li > a.pulse,
li.pulse > a.dropdown-toggle,
li.pulse.open > a.dropdown-toggle {
  background-color: #F37626;
  color: white;
}
/**
 * Primary styles
 *
 * Author: Jupyter Development Team
 */
/** WARNING IF YOU ARE EDITTING THIS FILE, if this is a .css file, It has a lot
 * of chance of beeing generated from the ../less/[samename].less file, you can
 * try to get back the less file by reverting somme commit in history
 **/
/*
 * We'll try to get something pretty, so we
 * have some strange css to have the scroll bar on
 * the left with fix button on the top right of the tooltip
 */
@-moz-keyframes fadeOut {
  from {
    opacity: 1;
  }
  to {
    opacity: 0;
  }
}
@-webkit-keyframes fadeOut {
  from {
    opacity: 1;
  }
  to {
    opacity: 0;
  }
}
@-moz-keyframes fadeIn {
  from {
    opacity: 0;
  }
  to {
    opacity: 1;
  }
}
@-webkit-keyframes fadeIn {
  from {
    opacity: 0;
  }
  to {
    opacity: 1;
  }
}
/*properties of tooltip after "expand"*/
.bigtooltip {
  overflow: auto;
  height: 200px;
  -webkit-transition-property: height;
  -webkit-transition-duration: 500ms;
  -moz-transition-property: height;
  -moz-transition-duration: 500ms;
  transition-property: height;
  transition-duration: 500ms;
}
/*properties of tooltip before "expand"*/
.smalltooltip {
  -webkit-transition-property: height;
  -webkit-transition-duration: 500ms;
  -moz-transition-property: height;
  -moz-transition-duration: 500ms;
  transition-property: height;
  transition-duration: 500ms;
  text-overflow: ellipsis;
  overflow: hidden;
  height: 80px;
}
.tooltipbuttons {
  position: absolute;
  padding-right: 15px;
  top: 0px;
  right: 0px;
}
.tooltiptext {
  /*avoid the button to overlap on some docstring*/
  padding-right: 30px;
}
.ipython_tooltip {
  max-width: 700px;
  /*fade-in animation when inserted*/
  -webkit-animation: fadeOut 400ms;
  -moz-animation: fadeOut 400ms;
  animation: fadeOut 400ms;
  -webkit-animation: fadeIn 400ms;
  -moz-animation: fadeIn 400ms;
  animation: fadeIn 400ms;
  vertical-align: middle;
  background-color: #f7f7f7;
  overflow: visible;
  border: #ababab 1px solid;
  outline: none;
  padding: 3px;
  margin: 0px;
  padding-left: 7px;
  font-family: monospace;
  min-height: 50px;
  -moz-box-shadow: 0px 6px 10px -1px #adadad;
  -webkit-box-shadow: 0px 6px 10px -1px #adadad;
  box-shadow: 0px 6px 10px -1px #adadad;
  border-radius: 2px;
  position: absolute;
  z-index: 1000;
}
.ipython_tooltip a {
  float: right;
}
.ipython_tooltip .tooltiptext pre {
  border: 0;
  border-radius: 0;
  font-size: 100%;
  background-color: #f7f7f7;
}
.pretooltiparrow {
  left: 0px;
  margin: 0px;
  top: -16px;
  width: 40px;
  height: 16px;
  overflow: hidden;
  position: absolute;
}
.pretooltiparrow:before {
  background-color: #f7f7f7;
  border: 1px #ababab solid;
  z-index: 11;
  content: "";
  position: absolute;
  left: 15px;
  top: 10px;
  width: 25px;
  height: 25px;
  -webkit-transform: rotate(45deg);
  -moz-transform: rotate(45deg);
  -ms-transform: rotate(45deg);
  -o-transform: rotate(45deg);
}
ul.typeahead-list i {
  margin-left: -10px;
  width: 18px;
}
[dir="rtl"] ul.typeahead-list i {
  margin-left: 0;
  margin-right: -10px;
}
ul.typeahead-list {
  max-height: 80vh;
  overflow: auto;
}
ul.typeahead-list > li > a {
  /** Firefox bug **/
  /* see https://github.com/jupyter/notebook/issues/559 */
  white-space: normal;
}
ul.typeahead-list  > li > a.pull-right {
  float: left !important;
  float: left;
}
[dir="rtl"] .typeahead-list {
  text-align: right;
}
.cmd-palette .modal-body {
  padding: 7px;
}
.cmd-palette form {
  background: white;
}
.cmd-palette input {
  outline: none;
}
.no-shortcut {
  min-width: 20px;
  color: transparent;
}
[dir="rtl"] .no-shortcut.pull-right {
  float: left !important;
  float: left;
}
[dir="rtl"] .command-shortcut.pull-right {
  float: left !important;
  float: left;
}
.command-shortcut:before {
  content: "(command mode)";
  padding-right: 3px;
  color: #777777;
}
.edit-shortcut:before {
  content: "(edit)";
  padding-right: 3px;
  color: #777777;
}
[dir="rtl"] .edit-shortcut.pull-right {
  float: left !important;
  float: left;
}
#find-and-replace #replace-preview .match,
#find-and-replace #replace-preview .insert {
  background-color: #BBDEFB;
  border-color: #90CAF9;
  border-style: solid;
  border-width: 1px;
  border-radius: 0px;
}
[dir="ltr"] #find-and-replace .input-group-btn + .form-control {
  border-left: none;
}
[dir="rtl"] #find-and-replace .input-group-btn + .form-control {
  border-right: none;
}
#find-and-replace #replace-preview .replace .match {
  background-color: #FFCDD2;
  border-color: #EF9A9A;
  border-radius: 0px;
}
#find-and-replace #replace-preview .replace .insert {
  background-color: #C8E6C9;
  border-color: #A5D6A7;
  border-radius: 0px;
}
#find-and-replace #replace-preview {
  max-height: 60vh;
  overflow: auto;
}
#find-and-replace #replace-preview pre {
  padding: 5px 10px;
}
.terminal-app {
  background: #EEE;
}
.terminal-app #header {
  background: #fff;
  -webkit-box-shadow: 0px 0px 12px 1px rgba(87, 87, 87, 0.2);
  box-shadow: 0px 0px 12px 1px rgba(87, 87, 87, 0.2);
}
.terminal-app .terminal {
  width: 100%;
  float: left;
  font-family: monospace;
  color: white;
  background: black;
  padding: 0.4em;
  border-radius: 2px;
  -webkit-box-shadow: 0px 0px 12px 1px rgba(87, 87, 87, 0.4);
  box-shadow: 0px 0px 12px 1px rgba(87, 87, 87, 0.4);
}
.terminal-app .terminal,
.terminal-app .terminal dummy-screen {
  line-height: 1em;
  font-size: 14px;
}
.terminal-app .terminal .xterm-rows {
  padding: 10px;
}
.terminal-app .terminal-cursor {
  color: black;
  background: white;
}
.terminal-app #terminado-container {
  margin-top: 20px;
}
/*# sourceMappingURL=style.min.css.map */
    </style>
<style type="text/css">
    .highlight .hll { background-color: #ffffcc }
.highlight  { background: #f8f8f8; }
.highlight .c { color: #408080; font-style: italic } /* Comment */
.highlight .err { border: 1px solid #FF0000 } /* Error */
.highlight .k { color: #008000; font-weight: bold } /* Keyword */
.highlight .o { color: #666666 } /* Operator */
.highlight .ch { color: #408080; font-style: italic } /* Comment.Hashbang */
.highlight .cm { color: #408080; font-style: italic } /* Comment.Multiline */
.highlight .cp { color: #BC7A00 } /* Comment.Preproc */
.highlight .cpf { color: #408080; font-style: italic } /* Comment.PreprocFile */
.highlight .c1 { color: #408080; font-style: italic } /* Comment.Single */
.highlight .cs { color: #408080; font-style: italic } /* Comment.Special */
.highlight .gd { color: #A00000 } /* Generic.Deleted */
.highlight .ge { font-style: italic } /* Generic.Emph */
.highlight .gr { color: #FF0000 } /* Generic.Error */
.highlight .gh { color: #000080; font-weight: bold } /* Generic.Heading */
.highlight .gi { color: #00A000 } /* Generic.Inserted */
.highlight .go { color: #888888 } /* Generic.Output */
.highlight .gp { color: #000080; font-weight: bold } /* Generic.Prompt */
.highlight .gs { font-weight: bold } /* Generic.Strong */
.highlight .gu { color: #800080; font-weight: bold } /* Generic.Subheading */
.highlight .gt { color: #0044DD } /* Generic.Traceback */
.highlight .kc { color: #008000; font-weight: bold } /* Keyword.Constant */
.highlight .kd { color: #008000; font-weight: bold } /* Keyword.Declaration */
.highlight .kn { color: #008000; font-weight: bold } /* Keyword.Namespace */
.highlight .kp { color: #008000 } /* Keyword.Pseudo */
.highlight .kr { color: #008000; font-weight: bold } /* Keyword.Reserved */
.highlight .kt { color: #B00040 } /* Keyword.Type */
.highlight .m { color: #666666 } /* Literal.Number */
.highlight .s { color: #BA2121 } /* Literal.String */
.highlight .na { color: #7D9029 } /* Name.Attribute */
.highlight .nb { color: #008000 } /* Name.Builtin */
.highlight .nc { color: #0000FF; font-weight: bold } /* Name.Class */
.highlight .no { color: #880000 } /* Name.Constant */
.highlight .nd { color: #AA22FF } /* Name.Decorator */
.highlight .ni { color: #999999; font-weight: bold } /* Name.Entity */
.highlight .ne { color: #D2413A; font-weight: bold } /* Name.Exception */
.highlight .nf { color: #0000FF } /* Name.Function */
.highlight .nl { color: #A0A000 } /* Name.Label */
.highlight .nn { color: #0000FF; font-weight: bold } /* Name.Namespace */
.highlight .nt { color: #008000; font-weight: bold } /* Name.Tag */
.highlight .nv { color: #19177C } /* Name.Variable */
.highlight .ow { color: #AA22FF; font-weight: bold } /* Operator.Word */
.highlight .w { color: #bbbbbb } /* Text.Whitespace */
.highlight .mb { color: #666666 } /* Literal.Number.Bin */
.highlight .mf { color: #666666 } /* Literal.Number.Float */
.highlight .mh { color: #666666 } /* Literal.Number.Hex */
.highlight .mi { color: #666666 } /* Literal.Number.Integer */
.highlight .mo { color: #666666 } /* Literal.Number.Oct */
.highlight .sa { color: #BA2121 } /* Literal.String.Affix */
.highlight .sb { color: #BA2121 } /* Literal.String.Backtick */
.highlight .sc { color: #BA2121 } /* Literal.String.Char */
.highlight .dl { color: #BA2121 } /* Literal.String.Delimiter */
.highlight .sd { color: #BA2121; font-style: italic } /* Literal.String.Doc */
.highlight .s2 { color: #BA2121 } /* Literal.String.Double */
.highlight .se { color: #BB6622; font-weight: bold } /* Literal.String.Escape */
.highlight .sh { color: #BA2121 } /* Literal.String.Heredoc */
.highlight .si { color: #BB6688; font-weight: bold } /* Literal.String.Interpol */
.highlight .sx { color: #008000 } /* Literal.String.Other */
.highlight .sr { color: #BB6688 } /* Literal.String.Regex */
.highlight .s1 { color: #BA2121 } /* Literal.String.Single */
.highlight .ss { color: #19177C } /* Literal.String.Symbol */
.highlight .bp { color: #008000 } /* Name.Builtin.Pseudo */
.highlight .fm { color: #0000FF } /* Name.Function.Magic */
.highlight .vc { color: #19177C } /* Name.Variable.Class */
.highlight .vg { color: #19177C } /* Name.Variable.Global */
.highlight .vi { color: #19177C } /* Name.Variable.Instance */
.highlight .vm { color: #19177C } /* Name.Variable.Magic */
.highlight .il { color: #666666 } /* Literal.Number.Integer.Long */
    </style>


<style type="text/css">
/* Overrides of notebook CSS for static HTML export */
body {
  overflow: visible;
  padding: 8px;
}

div#notebook {
  overflow: visible;
  border-top: none;
}@media print {
  div.cell {
    display: block;
    page-break-inside: avoid;
  } 
  div.output_wrapper { 
    display: block;
    page-break-inside: avoid; 
  }
  div.output { 
    display: block;
    page-break-inside: avoid; 
  }
}
</style>

<!-- Custom stylesheet, it must be in the same directory as the html file -->
<link rel="stylesheet" href="custom.css">

<!-- Loading mathjax macro -->
<!-- Load mathjax -->
    <script src="https://cdnjs.cloudflare.com/ajax/libs/mathjax/2.7.5/latest.js?config=TeX-AMS_HTML"></script>
    <!-- MathJax configuration -->
    <script type="text/x-mathjax-config">
    MathJax.Hub.Config({
        tex2jax: {
            inlineMath: [ ['$','$'], ["\\(","\\)"] ],
            displayMath: [ ['$$','$$'], ["\\[","\\]"] ],
            processEscapes: true,
            processEnvironments: true
        },
        // Center justify equations in code and markdown cells. Elsewhere
        // we use CSS to left justify single line equations in code cells.
        displayAlign: 'center',
        "HTML-CSS": {
            styles: {'.MathJax_Display': {"margin": 0}},
            linebreaks: { automatic: true }
        }
    });
    </script>
    <!-- End of mathjax configuration --></head>
<body>
  <div tabindex="-1" id="notebook" class="border-box-sizing">
    <div class="container" id="notebook-container">

<div class="cell border-box-sizing code_cell rendered">
<div class="input">
<div class="prompt input_prompt">In&nbsp;[1]:</div>
<div class="inner_cell">
    <div class="input_area">
<div class=" highlight hl-ipython3"><pre><span></span><span class="kn">import</span> <span class="nn">numpy</span> <span class="k">as</span> <span class="nn">np</span>
<span class="kn">import</span> <span class="nn">pandas</span> <span class="k">as</span> <span class="nn">pd</span>
<span class="kn">import</span> <span class="nn">matplotlib.pyplot</span> <span class="k">as</span> <span class="nn">plt</span>
<span class="kn">import</span> <span class="nn">math</span>
<span class="kn">import</span> <span class="nn">time</span>
<span class="kn">import</span> <span class="nn">datetime</span>
<span class="kn">from</span> <span class="nn">dateutil</span> <span class="kn">import</span> <span class="n">parser</span>
<span class="kn">import</span> <span class="nn">matplotlib.dates</span> <span class="k">as</span> <span class="nn">mdates</span>
<span class="kn">import</span> <span class="nn">matplotlib.ticker</span> <span class="k">as</span> <span class="nn">plticker</span>

<span class="kn">from</span> <span class="nn">sklearn.preprocessing</span> <span class="kn">import</span> <span class="n">MinMaxScaler</span>
<span class="kn">from</span> <span class="nn">sklearn.metrics</span> <span class="kn">import</span> <span class="n">mean_squared_error</span>

<span class="kn">from</span> <span class="nn">keras.models</span> <span class="kn">import</span> <span class="n">Sequential</span>
<span class="kn">from</span> <span class="nn">keras.layers</span> <span class="kn">import</span> <span class="n">Dense</span>
<span class="kn">from</span> <span class="nn">keras.layers</span> <span class="kn">import</span> <span class="n">LSTM</span><span class="p">,</span> <span class="n">GRU</span>

<span class="c1">#np.set_printoptions(threshold=np.inf)</span>
</pre></div>

    </div>
</div>
</div>

<div class="output_wrapper">
<div class="output">


<div class="output_area">

    <div class="prompt"></div>


<div class="output_subarea output_stream output_stderr output_text">
<pre>Using TensorFlow backend.
/home/pratik/anaconda3/envs/anaconds_python3.6_tf2.0/lib/python3.6/site-packages/requests/__init__.py:80: RequestsDependencyWarning: urllib3 (1.25.7) or chardet (3.0.4) doesn&#39;t match a supported version!
  RequestsDependencyWarning)
</pre>
</div>
</div>

</div>
</div>

</div>
<div class="cell border-box-sizing text_cell rendered"><div class="prompt input_prompt">
</div><div class="inner_cell">
<div class="text_cell_render border-box-sizing rendered_html">
<h1 id="Load-the-dataset">Load the dataset<a class="anchor-link" href="#Load-the-dataset">&#182;</a></h1>
</div>
</div>
</div>
<div class="cell border-box-sizing code_cell rendered">
<div class="input">
<div class="prompt input_prompt">In&nbsp;[2]:</div>
<div class="inner_cell">
    <div class="input_area">
<div class=" highlight hl-ipython3"><pre><span></span><span class="n">org_df</span> <span class="o">=</span> <span class="n">pd</span><span class="o">.</span><span class="n">read_csv</span><span class="p">(</span><span class="s1">&#39;crypto_data_news_reddit_final.csv&#39;</span><span class="p">,</span><span class="n">index_col</span><span class="o">=</span><span class="mi">0</span><span class="p">)</span>
</pre></div>

    </div>
</div>
</div>

</div>
<div class="cell border-box-sizing code_cell rendered">
<div class="input">
<div class="prompt input_prompt">In&nbsp;[3]:</div>
<div class="inner_cell">
    <div class="input_area">
<div class=" highlight hl-ipython3"><pre><span></span><span class="n">org_df</span>
</pre></div>

    </div>
</div>
</div>

<div class="output_wrapper">
<div class="output">


<div class="output_area">

    <div class="prompt output_prompt">Out[3]:</div>



<div class="output_html rendered_html output_subarea output_execute_result">
<div>
<style scoped>
    .dataframe tbody tr th:only-of-type {
        vertical-align: middle;
    }

    .dataframe tbody tr th {
        vertical-align: top;
    }

    .dataframe thead th {
        text-align: right;
    }
</style>
<table border="1" class="dataframe">
  <thead>
    <tr style="text-align: right;">
      <th></th>
      <th>open_BTCUSDT</th>
      <th>high_BTCUSDT</th>
      <th>low_BTCUSDT</th>
      <th>close_BTCUSDT</th>
      <th>volume_BTCUSDT</th>
      <th>close_LTCUSD</th>
      <th>volume_LTCUSD</th>
      <th>close_ETHUSD</th>
      <th>volume_ETHUSD</th>
      <th>gnews_flair</th>
      <th>...</th>
      <th>gnews_sid_neg</th>
      <th>gnews_sid_neu</th>
      <th>gnews_sid_com</th>
      <th>reddit_flair</th>
      <th>reddit_tb_polarity</th>
      <th>reddit_tb_subjectivity</th>
      <th>reddit_sid_pos</th>
      <th>reddit_sid_neg</th>
      <th>reddit_sid_neu</th>
      <th>reddit_sid_com</th>
    </tr>
    <tr>
      <th>timestamp</th>
      <th></th>
      <th></th>
      <th></th>
      <th></th>
      <th></th>
      <th></th>
      <th></th>
      <th></th>
      <th></th>
      <th></th>
      <th></th>
      <th></th>
      <th></th>
      <th></th>
      <th></th>
      <th></th>
      <th></th>
      <th></th>
      <th></th>
      <th></th>
      <th></th>
    </tr>
  </thead>
  <tbody>
    <tr>
      <th>2018-01-01 00:00:00</th>
      <td>13820.26</td>
      <td>13820.26</td>
      <td>13498.05</td>
      <td>13557.88</td>
      <td>210.213142</td>
      <td>222.24</td>
      <td>590.23000</td>
      <td>728.77</td>
      <td>625.293831</td>
      <td>0.04257</td>
      <td>...</td>
      <td>0.025222</td>
      <td>0.909556</td>
      <td>0.624667</td>
      <td>0.000000</td>
      <td>0.000000</td>
      <td>0.000000</td>
      <td>0.000000</td>
      <td>0.000000</td>
      <td>0.000000</td>
      <td>0.000000</td>
    </tr>
    <tr>
      <th>2018-01-01 01:00:00</th>
      <td>13557.88</td>
      <td>13585.66</td>
      <td>13250.50</td>
      <td>13262.85</td>
      <td>191.931776</td>
      <td>215.20</td>
      <td>698.36000</td>
      <td>724.27</td>
      <td>710.891607</td>
      <td>0.04257</td>
      <td>...</td>
      <td>0.025222</td>
      <td>0.909556</td>
      <td>0.624667</td>
      <td>-0.267228</td>
      <td>0.046199</td>
      <td>0.257910</td>
      <td>0.105625</td>
      <td>0.091875</td>
      <td>0.802500</td>
      <td>0.181325</td>
    </tr>
    <tr>
      <th>2018-01-01 02:00:00</th>
      <td>13262.85</td>
      <td>13400.00</td>
      <td>13186.02</td>
      <td>13320.00</td>
      <td>169.456410</td>
      <td>215.36</td>
      <td>464.55000</td>
      <td>722.11</td>
      <td>849.257651</td>
      <td>0.04257</td>
      <td>...</td>
      <td>0.025222</td>
      <td>0.909556</td>
      <td>0.624667</td>
      <td>-0.300781</td>
      <td>-0.077217</td>
      <td>0.273153</td>
      <td>0.032000</td>
      <td>0.019333</td>
      <td>0.948667</td>
      <td>0.330133</td>
    </tr>
    <tr>
      <th>2018-01-01 03:00:00</th>
      <td>13320.00</td>
      <td>13515.44</td>
      <td>13308.54</td>
      <td>13372.00</td>
      <td>80.455327</td>
      <td>219.30</td>
      <td>407.81000</td>
      <td>733.19</td>
      <td>556.397003</td>
      <td>0.04257</td>
      <td>...</td>
      <td>0.025222</td>
      <td>0.909556</td>
      <td>0.624667</td>
      <td>0.082537</td>
      <td>0.242468</td>
      <td>0.404416</td>
      <td>0.156286</td>
      <td>0.025000</td>
      <td>0.818714</td>
      <td>0.280143</td>
    </tr>
    <tr>
      <th>2018-01-01 04:00:00</th>
      <td>13372.00</td>
      <td>13499.83</td>
      <td>13279.50</td>
      <td>13483.06</td>
      <td>127.212610</td>
      <td>223.72</td>
      <td>965.39000</td>
      <td>738.59</td>
      <td>1247.722800</td>
      <td>0.04257</td>
      <td>...</td>
      <td>0.025222</td>
      <td>0.909556</td>
      <td>0.624667</td>
      <td>0.443654</td>
      <td>0.235317</td>
      <td>0.321429</td>
      <td>0.153143</td>
      <td>0.005143</td>
      <td>0.841714</td>
      <td>0.341757</td>
    </tr>
    <tr>
      <th>...</th>
      <td>...</td>
      <td>...</td>
      <td>...</td>
      <td>...</td>
      <td>...</td>
      <td>...</td>
      <td>...</td>
      <td>...</td>
      <td>...</td>
      <td>...</td>
      <td>...</td>
      <td>...</td>
      <td>...</td>
      <td>...</td>
      <td>...</td>
      <td>...</td>
      <td>...</td>
      <td>...</td>
      <td>...</td>
      <td>...</td>
      <td>...</td>
    </tr>
    <tr>
      <th>2019-11-20 19:00:00</th>
      <td>8099.26</td>
      <td>8109.92</td>
      <td>8077.82</td>
      <td>8086.65</td>
      <td>1.910237</td>
      <td>54.68</td>
      <td>26.89869</td>
      <td>174.40</td>
      <td>22.319940</td>
      <td>-0.07582</td>
      <td>...</td>
      <td>0.045111</td>
      <td>0.864333</td>
      <td>0.457411</td>
      <td>0.328284</td>
      <td>0.142630</td>
      <td>0.506278</td>
      <td>0.110429</td>
      <td>0.049857</td>
      <td>0.839857</td>
      <td>0.092543</td>
    </tr>
    <tr>
      <th>2019-11-20 20:00:00</th>
      <td>8083.19</td>
      <td>8111.17</td>
      <td>8081.72</td>
      <td>8102.66</td>
      <td>9.783435</td>
      <td>55.06</td>
      <td>21.18500</td>
      <td>174.45</td>
      <td>25.050680</td>
      <td>-0.07582</td>
      <td>...</td>
      <td>0.045111</td>
      <td>0.864333</td>
      <td>0.457411</td>
      <td>0.000208</td>
      <td>0.375000</td>
      <td>0.500000</td>
      <td>0.314500</td>
      <td>0.000000</td>
      <td>0.685500</td>
      <td>0.511350</td>
    </tr>
    <tr>
      <th>2019-11-20 21:00:00</th>
      <td>8096.06</td>
      <td>8111.25</td>
      <td>8078.80</td>
      <td>8098.29</td>
      <td>1.726209</td>
      <td>55.10</td>
      <td>16.47622</td>
      <td>175.48</td>
      <td>32.281160</td>
      <td>-0.07582</td>
      <td>...</td>
      <td>0.045111</td>
      <td>0.864333</td>
      <td>0.457411</td>
      <td>0.187590</td>
      <td>-0.077778</td>
      <td>0.144444</td>
      <td>0.000000</td>
      <td>0.157500</td>
      <td>0.842500</td>
      <td>-0.248400</td>
    </tr>
    <tr>
      <th>2019-11-20 22:00:00</th>
      <td>8097.40</td>
      <td>8113.96</td>
      <td>8084.94</td>
      <td>8091.13</td>
      <td>1.683230</td>
      <td>54.90</td>
      <td>35.17709</td>
      <td>174.72</td>
      <td>5.926510</td>
      <td>-0.07582</td>
      <td>...</td>
      <td>0.045111</td>
      <td>0.864333</td>
      <td>0.457411</td>
      <td>0.996935</td>
      <td>0.050000</td>
      <td>0.191667</td>
      <td>0.252000</td>
      <td>0.000000</td>
      <td>0.748000</td>
      <td>0.401900</td>
    </tr>
    <tr>
      <th>2019-11-20 23:00:00</th>
      <td>8091.13</td>
      <td>8102.08</td>
      <td>8077.09</td>
      <td>8094.38</td>
      <td>4.582621</td>
      <td>54.92</td>
      <td>12.87105</td>
      <td>174.33</td>
      <td>16.345070</td>
      <td>-0.07582</td>
      <td>...</td>
      <td>0.045111</td>
      <td>0.864333</td>
      <td>0.457411</td>
      <td>0.188940</td>
      <td>0.029896</td>
      <td>0.147014</td>
      <td>0.042000</td>
      <td>0.035333</td>
      <td>0.922667</td>
      <td>-0.282500</td>
    </tr>
  </tbody>
</table>
<p>16536 rows × 23 columns</p>
</div>
</div>

</div>

</div>
</div>

</div>
<div class="cell border-box-sizing code_cell rendered">
<div class="input">
<div class="prompt input_prompt">In&nbsp;[4]:</div>
<div class="inner_cell">
    <div class="input_area">
<div class=" highlight hl-ipython3"><pre><span></span><span class="n">org_df</span><span class="o">.</span><span class="n">columns</span>
</pre></div>

    </div>
</div>
</div>

<div class="output_wrapper">
<div class="output">


<div class="output_area">

    <div class="prompt output_prompt">Out[4]:</div>




<div class="output_text output_subarea output_execute_result">
<pre>Index([&#39;open_BTCUSDT&#39;, &#39;high_BTCUSDT&#39;, &#39;low_BTCUSDT&#39;, &#39;close_BTCUSDT&#39;,
       &#39;volume_BTCUSDT&#39;, &#39;close_LTCUSD&#39;, &#39;volume_LTCUSD&#39;, &#39;close_ETHUSD&#39;,
       &#39;volume_ETHUSD&#39;, &#39;gnews_flair&#39;, &#39;gnews_tb_polarity&#39;,
       &#39;gnews_tb_subjectivity&#39;, &#39;gnews_sid_pos&#39;, &#39;gnews_sid_neg&#39;,
       &#39;gnews_sid_neu&#39;, &#39;gnews_sid_com&#39;, &#39;reddit_flair&#39;, &#39;reddit_tb_polarity&#39;,
       &#39;reddit_tb_subjectivity&#39;, &#39;reddit_sid_pos&#39;, &#39;reddit_sid_neg&#39;,
       &#39;reddit_sid_neu&#39;, &#39;reddit_sid_com&#39;],
      dtype=&#39;object&#39;)</pre>
</div>

</div>

</div>
</div>

</div>
<div class="cell border-box-sizing text_cell rendered"><div class="prompt input_prompt">
</div><div class="inner_cell">
<div class="text_cell_render border-box-sizing rendered_html">
<h1 id="Features-engineering">Features engineering<a class="anchor-link" href="#Features-engineering">&#182;</a></h1>
</div>
</div>
</div>
<div class="cell border-box-sizing code_cell rendered">
<div class="input">
<div class="prompt input_prompt">In&nbsp;[5]:</div>
<div class="inner_cell">
    <div class="input_area">
<div class=" highlight hl-ipython3"><pre><span></span><span class="n">org_df</span><span class="p">[</span><span class="s1">&#39;flair&#39;</span><span class="p">]</span> <span class="o">=</span> <span class="n">org_df</span><span class="p">[</span><span class="s1">&#39;gnews_flair&#39;</span><span class="p">]</span> <span class="o">+</span> <span class="n">org_df</span><span class="p">[</span><span class="s1">&#39;reddit_flair&#39;</span><span class="p">]</span>
<span class="n">org_df</span><span class="p">[</span><span class="s1">&#39;tb_polarity&#39;</span><span class="p">]</span> <span class="o">=</span> <span class="n">org_df</span><span class="p">[</span><span class="s1">&#39;gnews_tb_polarity&#39;</span><span class="p">]</span> <span class="o">+</span> <span class="n">org_df</span><span class="p">[</span><span class="s1">&#39;reddit_tb_polarity&#39;</span><span class="p">]</span>
<span class="n">org_df</span><span class="p">[</span><span class="s1">&#39;tb_subjectivity&#39;</span><span class="p">]</span> <span class="o">=</span> <span class="n">org_df</span><span class="p">[</span><span class="s1">&#39;gnews_tb_subjectivity&#39;</span><span class="p">]</span> <span class="o">+</span> <span class="n">org_df</span><span class="p">[</span><span class="s1">&#39;reddit_tb_subjectivity&#39;</span><span class="p">]</span>
<span class="n">org_df</span><span class="p">[</span><span class="s1">&#39;sid_pos&#39;</span><span class="p">]</span> <span class="o">=</span> <span class="n">org_df</span><span class="p">[</span><span class="s1">&#39;gnews_sid_pos&#39;</span><span class="p">]</span> <span class="o">+</span> <span class="n">org_df</span><span class="p">[</span><span class="s1">&#39;reddit_sid_pos&#39;</span><span class="p">]</span>
<span class="n">org_df</span><span class="p">[</span><span class="s1">&#39;sid_neg&#39;</span><span class="p">]</span> <span class="o">=</span> <span class="n">org_df</span><span class="p">[</span><span class="s1">&#39;gnews_sid_neg&#39;</span><span class="p">]</span> <span class="o">+</span> <span class="n">org_df</span><span class="p">[</span><span class="s1">&#39;reddit_sid_neg&#39;</span><span class="p">]</span>
<span class="n">org_df</span> <span class="o">=</span> <span class="n">org_df</span><span class="p">[[</span><span class="s1">&#39;open_BTCUSDT&#39;</span><span class="p">,</span><span class="s1">&#39;high_BTCUSDT&#39;</span><span class="p">,</span><span class="s1">&#39;low_BTCUSDT&#39;</span><span class="p">,</span> <span class="s1">&#39;close_BTCUSDT&#39;</span><span class="p">,</span> <span class="s1">&#39;volume_BTCUSDT&#39;</span><span class="p">,</span> <span class="s1">&#39;close_LTCUSD&#39;</span><span class="p">,</span> <span class="s1">&#39;volume_LTCUSD&#39;</span><span class="p">,</span> <span class="s1">&#39;close_ETHUSD&#39;</span><span class="p">,</span> <span class="s1">&#39;volume_ETHUSD&#39;</span><span class="p">,</span> <span class="s1">&#39;flair&#39;</span><span class="p">,</span> <span class="s1">&#39;tb_polarity&#39;</span><span class="p">,</span> <span class="s1">&#39;tb_subjectivity&#39;</span><span class="p">,</span> <span class="s1">&#39;sid_pos&#39;</span><span class="p">,</span> <span class="s1">&#39;sid_neg&#39;</span><span class="p">]]</span>
</pre></div>

    </div>
</div>
</div>

</div>
<div class="cell border-box-sizing code_cell rendered">
<div class="input">
<div class="prompt input_prompt">In&nbsp;[6]:</div>
<div class="inner_cell">
    <div class="input_area">
<div class=" highlight hl-ipython3"><pre><span></span><span class="n">org_df</span>
</pre></div>

    </div>
</div>
</div>

<div class="output_wrapper">
<div class="output">


<div class="output_area">

    <div class="prompt output_prompt">Out[6]:</div>



<div class="output_html rendered_html output_subarea output_execute_result">
<div>
<style scoped>
    .dataframe tbody tr th:only-of-type {
        vertical-align: middle;
    }

    .dataframe tbody tr th {
        vertical-align: top;
    }

    .dataframe thead th {
        text-align: right;
    }
</style>
<table border="1" class="dataframe">
  <thead>
    <tr style="text-align: right;">
      <th></th>
      <th>open_BTCUSDT</th>
      <th>high_BTCUSDT</th>
      <th>low_BTCUSDT</th>
      <th>close_BTCUSDT</th>
      <th>volume_BTCUSDT</th>
      <th>close_LTCUSD</th>
      <th>volume_LTCUSD</th>
      <th>close_ETHUSD</th>
      <th>volume_ETHUSD</th>
      <th>flair</th>
      <th>tb_polarity</th>
      <th>tb_subjectivity</th>
      <th>sid_pos</th>
      <th>sid_neg</th>
    </tr>
    <tr>
      <th>timestamp</th>
      <th></th>
      <th></th>
      <th></th>
      <th></th>
      <th></th>
      <th></th>
      <th></th>
      <th></th>
      <th></th>
      <th></th>
      <th></th>
      <th></th>
      <th></th>
      <th></th>
    </tr>
  </thead>
  <tbody>
    <tr>
      <th>2018-01-01 00:00:00</th>
      <td>13820.26</td>
      <td>13820.26</td>
      <td>13498.05</td>
      <td>13557.88</td>
      <td>210.213142</td>
      <td>222.24</td>
      <td>590.23000</td>
      <td>728.77</td>
      <td>625.293831</td>
      <td>0.042570</td>
      <td>0.067753</td>
      <td>0.323211</td>
      <td>0.065111</td>
      <td>0.025222</td>
    </tr>
    <tr>
      <th>2018-01-01 01:00:00</th>
      <td>13557.88</td>
      <td>13585.66</td>
      <td>13250.50</td>
      <td>13262.85</td>
      <td>191.931776</td>
      <td>215.20</td>
      <td>698.36000</td>
      <td>724.27</td>
      <td>710.891607</td>
      <td>-0.224657</td>
      <td>0.113953</td>
      <td>0.581122</td>
      <td>0.170736</td>
      <td>0.117097</td>
    </tr>
    <tr>
      <th>2018-01-01 02:00:00</th>
      <td>13262.85</td>
      <td>13400.00</td>
      <td>13186.02</td>
      <td>13320.00</td>
      <td>169.456410</td>
      <td>215.36</td>
      <td>464.55000</td>
      <td>722.11</td>
      <td>849.257651</td>
      <td>-0.258211</td>
      <td>-0.009463</td>
      <td>0.596365</td>
      <td>0.097111</td>
      <td>0.044556</td>
    </tr>
    <tr>
      <th>2018-01-01 03:00:00</th>
      <td>13320.00</td>
      <td>13515.44</td>
      <td>13308.54</td>
      <td>13372.00</td>
      <td>80.455327</td>
      <td>219.30</td>
      <td>407.81000</td>
      <td>733.19</td>
      <td>556.397003</td>
      <td>0.125107</td>
      <td>0.310221</td>
      <td>0.727627</td>
      <td>0.221397</td>
      <td>0.050222</td>
    </tr>
    <tr>
      <th>2018-01-01 04:00:00</th>
      <td>13372.00</td>
      <td>13499.83</td>
      <td>13279.50</td>
      <td>13483.06</td>
      <td>127.212610</td>
      <td>223.72</td>
      <td>965.39000</td>
      <td>738.59</td>
      <td>1247.722800</td>
      <td>0.486225</td>
      <td>0.303071</td>
      <td>0.644640</td>
      <td>0.218254</td>
      <td>0.030365</td>
    </tr>
    <tr>
      <th>...</th>
      <td>...</td>
      <td>...</td>
      <td>...</td>
      <td>...</td>
      <td>...</td>
      <td>...</td>
      <td>...</td>
      <td>...</td>
      <td>...</td>
      <td>...</td>
      <td>...</td>
      <td>...</td>
      <td>...</td>
      <td>...</td>
    </tr>
    <tr>
      <th>2019-11-20 19:00:00</th>
      <td>8099.26</td>
      <td>8109.92</td>
      <td>8077.82</td>
      <td>8086.65</td>
      <td>1.910237</td>
      <td>54.68</td>
      <td>26.89869</td>
      <td>174.40</td>
      <td>22.319940</td>
      <td>0.252464</td>
      <td>0.230229</td>
      <td>0.928645</td>
      <td>0.200984</td>
      <td>0.094968</td>
    </tr>
    <tr>
      <th>2019-11-20 20:00:00</th>
      <td>8083.19</td>
      <td>8111.17</td>
      <td>8081.72</td>
      <td>8102.66</td>
      <td>9.783435</td>
      <td>55.06</td>
      <td>21.18500</td>
      <td>174.45</td>
      <td>25.050680</td>
      <td>-0.075611</td>
      <td>0.462598</td>
      <td>0.922367</td>
      <td>0.405056</td>
      <td>0.045111</td>
    </tr>
    <tr>
      <th>2019-11-20 21:00:00</th>
      <td>8096.06</td>
      <td>8111.25</td>
      <td>8078.80</td>
      <td>8098.29</td>
      <td>1.726209</td>
      <td>55.10</td>
      <td>16.47622</td>
      <td>175.48</td>
      <td>32.281160</td>
      <td>0.111770</td>
      <td>0.009821</td>
      <td>0.566811</td>
      <td>0.090556</td>
      <td>0.202611</td>
    </tr>
    <tr>
      <th>2019-11-20 22:00:00</th>
      <td>8097.40</td>
      <td>8113.96</td>
      <td>8084.94</td>
      <td>8091.13</td>
      <td>1.683230</td>
      <td>54.90</td>
      <td>35.17709</td>
      <td>174.72</td>
      <td>5.926510</td>
      <td>0.921115</td>
      <td>0.137598</td>
      <td>0.614033</td>
      <td>0.342556</td>
      <td>0.045111</td>
    </tr>
    <tr>
      <th>2019-11-20 23:00:00</th>
      <td>8091.13</td>
      <td>8102.08</td>
      <td>8077.09</td>
      <td>8094.38</td>
      <td>4.582621</td>
      <td>54.92</td>
      <td>12.87105</td>
      <td>174.33</td>
      <td>16.345070</td>
      <td>0.113121</td>
      <td>0.117494</td>
      <td>0.569380</td>
      <td>0.132556</td>
      <td>0.080444</td>
    </tr>
  </tbody>
</table>
<p>16536 rows × 14 columns</p>
</div>
</div>

</div>

</div>
</div>

</div>
<div class="cell border-box-sizing text_cell rendered"><div class="prompt input_prompt">
</div><div class="inner_cell">
<div class="text_cell_render border-box-sizing rendered_html">
<h1 id="Dataset-scalling">Dataset scalling<a class="anchor-link" href="#Dataset-scalling">&#182;</a></h1>
</div>
</div>
</div>
<div class="cell border-box-sizing code_cell rendered">
<div class="input">
<div class="prompt input_prompt">In&nbsp;[7]:</div>
<div class="inner_cell">
    <div class="input_area">
<div class=" highlight hl-ipython3"><pre><span></span><span class="n">dataset</span> <span class="o">=</span> <span class="n">org_df</span><span class="o">.</span><span class="n">values</span>
<span class="n">dataset</span> <span class="o">=</span> <span class="n">dataset</span><span class="o">.</span><span class="n">astype</span><span class="p">(</span><span class="s1">&#39;float32&#39;</span><span class="p">)</span>
<span class="n">scaler</span> <span class="o">=</span> <span class="n">MinMaxScaler</span><span class="p">(</span><span class="n">feature_range</span><span class="o">=</span><span class="p">(</span><span class="mi">0</span><span class="p">,</span> <span class="mi">1</span><span class="p">))</span>
<span class="n">dataset</span> <span class="o">=</span> <span class="n">scaler</span><span class="o">.</span><span class="n">fit_transform</span><span class="p">(</span><span class="n">dataset</span><span class="p">)</span>
<span class="c1">#print(&#39;dataset.shape&#39;, dataset.shape)</span>
<span class="n">num_of_features</span> <span class="o">=</span> <span class="nb">len</span><span class="p">(</span><span class="n">org_df</span><span class="o">.</span><span class="n">columns</span><span class="p">)</span>
<span class="nb">print</span><span class="p">(</span><span class="s1">&#39;Number of features&#39;</span><span class="p">,</span> <span class="n">num_of_features</span><span class="p">)</span>
</pre></div>

    </div>
</div>
</div>

<div class="output_wrapper">
<div class="output">


<div class="output_area">

    <div class="prompt"></div>


<div class="output_subarea output_stream output_stdout output_text">
<pre>Number of features 14
</pre>
</div>
</div>

</div>
</div>

</div>
<div class="cell border-box-sizing text_cell rendered"><div class="prompt input_prompt">
</div><div class="inner_cell">
<div class="text_cell_render border-box-sizing rendered_html">
<h1 id="Configuration">Configuration<a class="anchor-link" href="#Configuration">&#182;</a></h1>
</div>
</div>
</div>
<div class="cell border-box-sizing code_cell rendered">
<div class="input">
<div class="prompt input_prompt">In&nbsp;[8]:</div>
<div class="inner_cell">
    <div class="input_area">
<div class=" highlight hl-ipython3"><pre><span></span><span class="n">expr_name</span> <span class="o">=</span> <span class="s1">&#39;expr_14&#39;</span>
<span class="n">look_back</span> <span class="o">=</span> <span class="mi">24</span><span class="o">*</span><span class="mi">120</span> <span class="c1"># 60 days, as each entry is for 1 hour</span>
<span class="n">lstm_layers</span> <span class="o">=</span> <span class="mi">64</span>
<span class="n">epochs</span><span class="o">=</span><span class="mi">5</span>
<span class="n">batch_size</span><span class="o">=</span><span class="mi">64</span>
</pre></div>

    </div>
</div>
</div>

</div>
<div class="cell border-box-sizing text_cell rendered"><div class="prompt input_prompt">
</div><div class="inner_cell">
<div class="text_cell_render border-box-sizing rendered_html">
<h1 id="spliting-datasets-into-train-and-test">spliting datasets into train and test<a class="anchor-link" href="#spliting-datasets-into-train-and-test">&#182;</a></h1>
</div>
</div>
</div>
<div class="cell border-box-sizing code_cell rendered">
<div class="input">
<div class="prompt input_prompt">In&nbsp;[9]:</div>
<div class="inner_cell">
    <div class="input_area">
<div class=" highlight hl-ipython3"><pre><span></span><span class="n">train_size_percent</span> <span class="o">=</span> <span class="mf">0.80</span>
<span class="n">pred_col</span> <span class="o">=</span> <span class="n">org_df</span><span class="o">.</span><span class="n">columns</span><span class="o">.</span><span class="n">get_loc</span><span class="p">(</span><span class="s1">&#39;close_BTCUSDT&#39;</span><span class="p">)</span>

<span class="c1"># function to split the data</span>
<span class="k">def</span> <span class="nf">create_dataset</span><span class="p">(</span><span class="n">dataset</span><span class="p">,</span> <span class="n">pred_col</span><span class="p">,</span> <span class="n">look_back</span><span class="o">=</span><span class="mi">1</span><span class="p">):</span>
  <span class="n">dataX</span><span class="p">,</span> <span class="n">dataY</span> <span class="o">=</span> <span class="p">[],</span> <span class="p">[]</span>
  <span class="k">for</span> <span class="n">i</span> <span class="ow">in</span> <span class="nb">range</span><span class="p">(</span><span class="nb">len</span><span class="p">(</span><span class="n">dataset</span><span class="p">)</span><span class="o">-</span><span class="n">look_back</span><span class="o">-</span><span class="mi">1</span><span class="p">):</span>
    <span class="n">a</span> <span class="o">=</span> <span class="n">dataset</span><span class="p">[</span><span class="n">i</span><span class="p">:(</span><span class="n">i</span><span class="o">+</span><span class="n">look_back</span><span class="p">),</span> <span class="p">:]</span>
    <span class="n">dataX</span><span class="o">.</span><span class="n">append</span><span class="p">(</span><span class="n">a</span><span class="p">)</span>
    <span class="n">dataY</span><span class="o">.</span><span class="n">append</span><span class="p">(</span><span class="n">dataset</span><span class="p">[</span><span class="n">i</span> <span class="o">+</span> <span class="n">look_back</span><span class="p">,</span> <span class="n">pred_col</span><span class="p">])</span>
  <span class="k">return</span> <span class="n">np</span><span class="o">.</span><span class="n">array</span><span class="p">(</span><span class="n">dataX</span><span class="p">),</span> <span class="n">np</span><span class="o">.</span><span class="n">array</span><span class="p">(</span><span class="n">dataY</span><span class="p">)</span>


<span class="n">train_size</span> <span class="o">=</span> <span class="nb">int</span><span class="p">(</span><span class="nb">len</span><span class="p">(</span><span class="n">dataset</span><span class="p">)</span> <span class="o">*</span> <span class="n">train_size_percent</span><span class="p">)</span>
<span class="n">test_size</span> <span class="o">=</span> <span class="nb">len</span><span class="p">(</span><span class="n">dataset</span><span class="p">)</span> <span class="o">-</span> <span class="n">train_size</span>
<span class="n">train</span><span class="p">,</span> <span class="n">test</span> <span class="o">=</span> <span class="n">dataset</span><span class="p">[</span><span class="mi">0</span><span class="p">:</span><span class="n">train_size</span><span class="p">,</span> <span class="p">:],</span> <span class="n">dataset</span><span class="p">[</span><span class="n">train_size</span><span class="p">:</span><span class="nb">len</span><span class="p">(</span><span class="n">dataset</span><span class="p">),</span> <span class="p">:]</span>

<span class="n">trainX</span><span class="p">,</span> <span class="n">trainY</span> <span class="o">=</span> <span class="n">create_dataset</span><span class="p">(</span><span class="n">train</span><span class="p">,</span> <span class="n">pred_col</span><span class="p">,</span> <span class="n">look_back</span><span class="o">=</span><span class="n">look_back</span><span class="p">)</span>
<span class="n">testX</span><span class="p">,</span> <span class="n">testY</span> <span class="o">=</span> <span class="n">create_dataset</span><span class="p">(</span><span class="n">test</span><span class="p">,</span> <span class="n">pred_col</span><span class="p">,</span> <span class="n">look_back</span><span class="o">=</span><span class="n">look_back</span><span class="p">)</span>
<span class="c1"># reshape input to be  [samples, time steps, features]</span>
<span class="n">trainX</span> <span class="o">=</span> <span class="n">np</span><span class="o">.</span><span class="n">reshape</span><span class="p">(</span><span class="n">trainX</span><span class="p">,</span> <span class="p">(</span><span class="n">trainX</span><span class="o">.</span><span class="n">shape</span><span class="p">[</span><span class="mi">0</span><span class="p">],</span> <span class="n">look_back</span><span class="p">,</span> <span class="n">num_of_features</span><span class="p">))</span>
<span class="n">testX</span> <span class="o">=</span> <span class="n">np</span><span class="o">.</span><span class="n">reshape</span><span class="p">(</span><span class="n">testX</span><span class="p">,</span> <span class="p">(</span><span class="n">testX</span><span class="o">.</span><span class="n">shape</span><span class="p">[</span><span class="mi">0</span><span class="p">],</span><span class="n">look_back</span><span class="p">,</span> <span class="n">num_of_features</span><span class="p">))</span>

<span class="nb">print</span><span class="p">(</span><span class="s1">&#39;Training dataset length &#39;</span><span class="p">,</span> <span class="nb">len</span><span class="p">(</span><span class="n">train</span><span class="p">))</span>
<span class="nb">print</span><span class="p">(</span><span class="s1">&#39;Testing dataset length &#39;</span><span class="p">,</span> <span class="nb">len</span><span class="p">(</span><span class="n">test</span><span class="p">))</span>
<span class="nb">print</span><span class="p">(</span><span class="s1">&#39;look_back &#39;</span><span class="p">,</span> <span class="n">look_back</span><span class="p">)</span>
</pre></div>

    </div>
</div>
</div>

<div class="output_wrapper">
<div class="output">


<div class="output_area">

    <div class="prompt"></div>


<div class="output_subarea output_stream output_stdout output_text">
<pre>Training dataset length  13228
Testing dataset length  3308
look_back  2880
</pre>
</div>
</div>

</div>
</div>

</div>
<div class="cell border-box-sizing text_cell rendered"><div class="prompt input_prompt">
</div><div class="inner_cell">
<div class="text_cell_render border-box-sizing rendered_html">
<h1 id="Build-the-model-and-train">Build the model and train<a class="anchor-link" href="#Build-the-model-and-train">&#182;</a></h1>
</div>
</div>
</div>
<div class="cell border-box-sizing code_cell rendered">
<div class="input">
<div class="prompt input_prompt">In&nbsp;[10]:</div>
<div class="inner_cell">
    <div class="input_area">
<div class=" highlight hl-ipython3"><pre><span></span><span class="c1"># create and fit the LSTM network</span>

<span class="n">model</span> <span class="o">=</span> <span class="n">Sequential</span><span class="p">()</span>
<span class="n">model</span><span class="o">.</span><span class="n">add</span><span class="p">(</span><span class="n">GRU</span><span class="p">(</span><span class="n">lstm_layers</span><span class="p">,</span> <span class="n">input_shape</span><span class="o">=</span><span class="p">(</span><span class="n">look_back</span><span class="p">,</span><span class="n">num_of_features</span><span class="p">)))</span>
<span class="n">model</span><span class="o">.</span><span class="n">add</span><span class="p">(</span><span class="n">Dense</span><span class="p">(</span><span class="mi">1</span><span class="p">))</span>
<span class="n">model</span><span class="o">.</span><span class="n">compile</span><span class="p">(</span><span class="n">loss</span><span class="o">=</span><span class="s1">&#39;mean_squared_error&#39;</span><span class="p">,</span> <span class="n">optimizer</span><span class="o">=</span><span class="s1">&#39;adam&#39;</span><span class="p">)</span>
<span class="n">history</span><span class="o">=</span> <span class="n">model</span><span class="o">.</span><span class="n">fit</span><span class="p">(</span><span class="n">trainX</span><span class="p">,</span> <span class="n">trainY</span><span class="p">,</span><span class="n">validation_split</span><span class="o">=</span><span class="mf">0.30</span><span class="p">,</span> <span class="n">epochs</span><span class="o">=</span><span class="n">epochs</span><span class="p">,</span> <span class="n">batch_size</span><span class="o">=</span><span class="n">batch_size</span><span class="p">,</span><span class="n">shuffle</span><span class="o">=</span><span class="kc">False</span><span class="p">)</span>
</pre></div>

    </div>
</div>
</div>

<div class="output_wrapper">
<div class="output">


<div class="output_area">

    <div class="prompt"></div>


<div class="output_subarea output_stream output_stdout output_text">
<pre>Train on 7242 samples, validate on 3105 samples
Epoch 1/5
7242/7242 [==============================] - 311s 43ms/step - loss: 0.0152 - val_loss: 0.0157
Epoch 2/5
7242/7242 [==============================] - 310s 43ms/step - loss: 0.0014 - val_loss: 0.0054
Epoch 3/5
7242/7242 [==============================] - 311s 43ms/step - loss: 3.0283e-04 - val_loss: 0.0017
Epoch 4/5
7242/7242 [==============================] - 311s 43ms/step - loss: 3.6345e-04 - val_loss: 0.0014
Epoch 5/5
7242/7242 [==============================] - 310s 43ms/step - loss: 3.4871e-04 - val_loss: 0.0012
</pre>
</div>
</div>

</div>
</div>

</div>
<div class="cell border-box-sizing code_cell rendered">
<div class="input">
<div class="prompt input_prompt">In&nbsp;[11]:</div>
<div class="inner_cell">
    <div class="input_area">
<div class=" highlight hl-ipython3"><pre><span></span><span class="c1"># Plot training</span>
<span class="n">plt</span><span class="o">.</span><span class="n">plot</span><span class="p">(</span><span class="n">history</span><span class="o">.</span><span class="n">history</span><span class="p">[</span><span class="s1">&#39;loss&#39;</span><span class="p">])</span>
<span class="n">plt</span><span class="o">.</span><span class="n">plot</span><span class="p">(</span><span class="n">history</span><span class="o">.</span><span class="n">history</span><span class="p">[</span><span class="s1">&#39;val_loss&#39;</span><span class="p">])</span>
<span class="n">plt</span><span class="o">.</span><span class="n">title</span><span class="p">(</span><span class="s1">&#39;Model loss&#39;</span><span class="p">)</span>
<span class="n">plt</span><span class="o">.</span><span class="n">ylabel</span><span class="p">(</span><span class="s1">&#39;Loss&#39;</span><span class="p">)</span>
<span class="n">plt</span><span class="o">.</span><span class="n">xlabel</span><span class="p">(</span><span class="s1">&#39;Epoch&#39;</span><span class="p">)</span>
<span class="n">plt</span><span class="o">.</span><span class="n">legend</span><span class="p">([</span><span class="s1">&#39;training&#39;</span><span class="p">,</span> <span class="s1">&#39;validation&#39;</span><span class="p">],</span> <span class="n">loc</span><span class="o">=</span><span class="s1">&#39;upper right&#39;</span><span class="p">)</span>
<span class="n">plt</span><span class="o">.</span><span class="n">show</span><span class="p">()</span>
</pre></div>

    </div>
</div>
</div>

<div class="output_wrapper">
<div class="output">


<div class="output_area">

    <div class="prompt"></div>




<div class="output_png output_subarea ">
<img src="data:image/png;base64,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
"
>
</div>

</div>

</div>
</div>

</div>
<div class="cell border-box-sizing code_cell rendered">
<div class="input">
<div class="prompt input_prompt">In&nbsp;[12]:</div>
<div class="inner_cell">
    <div class="input_area">
<div class=" highlight hl-ipython3"><pre><span></span><span class="n">trainPredict</span> <span class="o">=</span> <span class="n">model</span><span class="o">.</span><span class="n">predict</span><span class="p">(</span><span class="n">trainX</span><span class="p">)</span>
<span class="n">testPredict</span> <span class="o">=</span> <span class="n">model</span><span class="o">.</span><span class="n">predict</span><span class="p">(</span><span class="n">testX</span><span class="p">)</span>

<span class="c1"># Get something which has as many features as dataset</span>
<span class="n">trainPredict_extended</span> <span class="o">=</span> <span class="n">np</span><span class="o">.</span><span class="n">zeros</span><span class="p">((</span><span class="nb">len</span><span class="p">(</span><span class="n">trainPredict</span><span class="p">),</span><span class="n">num_of_features</span><span class="p">))</span>
<span class="c1"># Put the predictions there</span>
<span class="n">trainPredict_extended</span><span class="p">[:,</span><span class="n">pred_col</span><span class="p">]</span> <span class="o">=</span> <span class="n">trainPredict</span><span class="p">[:,</span><span class="mi">0</span><span class="p">]</span>
<span class="c1"># Inverse transform it and select the 3rd column.</span>
<span class="n">trainPredict</span> <span class="o">=</span> <span class="n">scaler</span><span class="o">.</span><span class="n">inverse_transform</span><span class="p">(</span><span class="n">trainPredict_extended</span><span class="p">)</span> <span class="p">[:,</span><span class="n">pred_col</span><span class="p">]</span>

<span class="c1"># Get something which has as many features as dataset</span>
<span class="n">testPredict_extended</span> <span class="o">=</span> <span class="n">np</span><span class="o">.</span><span class="n">zeros</span><span class="p">((</span><span class="nb">len</span><span class="p">(</span><span class="n">testPredict</span><span class="p">),</span><span class="n">num_of_features</span><span class="p">))</span>
<span class="c1"># Put the predictions there</span>
<span class="n">testPredict_extended</span><span class="p">[:,</span><span class="n">pred_col</span><span class="p">]</span> <span class="o">=</span> <span class="n">testPredict</span><span class="p">[:,</span><span class="mi">0</span><span class="p">]</span>
<span class="c1"># Inverse transform it and select the pred_col column.</span>
<span class="n">testPredict</span> <span class="o">=</span> <span class="n">scaler</span><span class="o">.</span><span class="n">inverse_transform</span><span class="p">(</span><span class="n">testPredict_extended</span><span class="p">)[:,</span><span class="n">pred_col</span><span class="p">]</span> 

<span class="n">trainY_extended</span> <span class="o">=</span> <span class="n">np</span><span class="o">.</span><span class="n">zeros</span><span class="p">((</span><span class="nb">len</span><span class="p">(</span><span class="n">trainY</span><span class="p">),</span><span class="n">num_of_features</span><span class="p">))</span>
<span class="n">trainY_extended</span><span class="p">[:,</span><span class="n">pred_col</span><span class="p">]</span><span class="o">=</span><span class="n">trainY</span>
<span class="n">trainY</span> <span class="o">=</span> <span class="n">scaler</span><span class="o">.</span><span class="n">inverse_transform</span><span class="p">(</span><span class="n">trainY_extended</span><span class="p">)[:,</span><span class="n">pred_col</span><span class="p">]</span>

<span class="n">testY_extended</span> <span class="o">=</span> <span class="n">np</span><span class="o">.</span><span class="n">zeros</span><span class="p">((</span><span class="nb">len</span><span class="p">(</span><span class="n">testY</span><span class="p">),</span><span class="n">num_of_features</span><span class="p">))</span>
<span class="n">testY_extended</span><span class="p">[:,</span><span class="n">pred_col</span><span class="p">]</span><span class="o">=</span><span class="n">testY</span>
<span class="n">testY</span> <span class="o">=</span> <span class="n">scaler</span><span class="o">.</span><span class="n">inverse_transform</span><span class="p">(</span><span class="n">testY_extended</span><span class="p">)[:,</span><span class="n">pred_col</span><span class="p">]</span>

<span class="c1"># calculate root mean squared error</span>
<span class="n">trainScore_RMSE</span> <span class="o">=</span> <span class="n">math</span><span class="o">.</span><span class="n">sqrt</span><span class="p">(</span><span class="n">mean_squared_error</span><span class="p">(</span><span class="n">trainY</span><span class="p">,</span> <span class="n">trainPredict</span><span class="p">))</span>
<span class="n">testScore_RMSE</span> <span class="o">=</span> <span class="n">math</span><span class="o">.</span><span class="n">sqrt</span><span class="p">(</span><span class="n">mean_squared_error</span><span class="p">(</span><span class="n">testY</span><span class="p">,</span> <span class="n">testPredict</span><span class="p">))</span>

<span class="c1"># calculate absolute mean error</span>
<span class="n">trainScore_MAE</span> <span class="o">=</span> <span class="n">np</span><span class="o">.</span><span class="n">sum</span><span class="p">(</span><span class="n">np</span><span class="o">.</span><span class="n">absolute</span><span class="p">(</span><span class="n">trainY</span> <span class="o">-</span> <span class="n">trainPredict</span><span class="p">))</span><span class="o">/</span><span class="nb">len</span><span class="p">(</span><span class="n">trainY</span><span class="p">)</span>
<span class="n">testScore_MAE</span> <span class="o">=</span> <span class="n">np</span><span class="o">.</span><span class="n">sum</span><span class="p">(</span><span class="n">np</span><span class="o">.</span><span class="n">absolute</span><span class="p">(</span><span class="n">testY</span> <span class="o">-</span> <span class="n">testPredict</span><span class="p">))</span><span class="o">/</span><span class="nb">len</span><span class="p">(</span><span class="n">testY</span><span class="p">)</span>
</pre></div>

    </div>
</div>
</div>

</div>
<div class="cell border-box-sizing code_cell rendered">
<div class="input">
<div class="prompt input_prompt">In&nbsp;[13]:</div>
<div class="inner_cell">
    <div class="input_area">
<div class=" highlight hl-ipython3"><pre><span></span><span class="c1"># shift train predictions for plotting</span>
<span class="n">trainPredictPlot</span> <span class="o">=</span> <span class="n">np</span><span class="o">.</span><span class="n">empty_like</span><span class="p">(</span><span class="n">dataset</span><span class="p">)</span>
<span class="n">trainPredictPlot</span><span class="p">[:,</span> <span class="p">:]</span> <span class="o">=</span> <span class="n">np</span><span class="o">.</span><span class="n">nan</span>
<span class="n">trainPredictPlot</span><span class="p">[</span><span class="n">look_back</span><span class="p">:</span><span class="nb">len</span><span class="p">(</span><span class="n">trainPredict</span><span class="p">)</span><span class="o">+</span><span class="n">look_back</span><span class="p">,</span> <span class="n">pred_col</span><span class="p">]</span> <span class="o">=</span> <span class="n">trainPredict</span>

<span class="c1"># shift test predictions for plotting</span>
<span class="n">testPredictPlot</span> <span class="o">=</span> <span class="n">np</span><span class="o">.</span><span class="n">empty_like</span><span class="p">(</span><span class="n">dataset</span><span class="p">)</span>
<span class="n">testPredictPlot</span><span class="p">[:,</span> <span class="p">:]</span> <span class="o">=</span> <span class="n">np</span><span class="o">.</span><span class="n">nan</span>
<span class="n">testPredictPlot</span><span class="p">[</span><span class="nb">len</span><span class="p">(</span><span class="n">trainPredict</span><span class="p">)</span><span class="o">+</span><span class="p">(</span><span class="n">look_back</span><span class="o">*</span><span class="mi">2</span><span class="p">)</span><span class="o">+</span><span class="mi">1</span><span class="p">:</span><span class="nb">len</span><span class="p">(</span><span class="n">dataset</span><span class="p">)</span><span class="o">-</span><span class="mi">1</span><span class="p">,</span> <span class="n">pred_col</span><span class="p">]</span> <span class="o">=</span> <span class="n">testPredict</span>

<span class="c1"># contruct pandas dataframe for plotting</span>
<span class="n">time_df</span> <span class="o">=</span> <span class="n">pd</span><span class="o">.</span><span class="n">DataFrame</span><span class="p">(</span><span class="n">org_df</span><span class="o">.</span><span class="n">index</span><span class="p">)</span>
<span class="n">time_df</span><span class="p">[</span><span class="s1">&#39;Actual&#39;</span><span class="p">]</span> <span class="o">=</span> <span class="n">scaler</span><span class="o">.</span><span class="n">inverse_transform</span><span class="p">(</span><span class="n">dataset</span><span class="p">)[:,</span><span class="n">pred_col</span><span class="p">]</span>
<span class="n">df1</span> <span class="o">=</span> <span class="n">pd</span><span class="o">.</span><span class="n">DataFrame</span><span class="p">(</span><span class="n">trainPredictPlot</span><span class="p">[:,</span><span class="n">pred_col</span><span class="p">],</span><span class="n">columns</span><span class="o">=</span><span class="p">[</span><span class="s1">&#39;Train&#39;</span><span class="p">])</span>
<span class="n">df2</span> <span class="o">=</span> <span class="n">pd</span><span class="o">.</span><span class="n">DataFrame</span><span class="p">(</span><span class="n">testPredictPlot</span><span class="p">[:,</span><span class="n">pred_col</span><span class="p">],</span><span class="n">columns</span><span class="o">=</span><span class="p">[</span><span class="s1">&#39;Test&#39;</span><span class="p">])</span>
<span class="n">time_df2</span> <span class="o">=</span> <span class="n">pd</span><span class="o">.</span><span class="n">concat</span><span class="p">([</span><span class="n">time_df</span><span class="p">,</span> <span class="n">df1</span><span class="p">,</span> <span class="n">df2</span><span class="p">],</span> <span class="n">axis</span><span class="o">=</span><span class="mi">1</span><span class="p">,</span> <span class="n">sort</span><span class="o">=</span><span class="kc">False</span><span class="p">)</span>
<span class="n">time_df2</span><span class="o">.</span><span class="n">set_index</span><span class="p">(</span><span class="s1">&#39;timestamp&#39;</span><span class="p">,</span><span class="n">inplace</span><span class="o">=</span><span class="kc">True</span><span class="p">)</span>

<span class="c1"># plot the output</span>
<span class="n">fig</span><span class="p">,</span> <span class="n">ax</span> <span class="o">=</span> <span class="n">plt</span><span class="o">.</span><span class="n">subplots</span><span class="p">(</span><span class="n">figsize</span><span class="o">=</span><span class="p">(</span><span class="mi">15</span><span class="p">,</span><span class="mi">7</span><span class="p">))</span>
<span class="n">time_df2</span><span class="o">.</span><span class="n">plot</span><span class="p">(</span><span class="n">ax</span><span class="o">=</span><span class="n">ax</span><span class="p">,</span><span class="n">rot</span><span class="o">=</span><span class="mi">90</span><span class="p">,</span><span class="n">alpha</span><span class="o">=</span><span class="mf">0.7</span><span class="p">)</span>
<span class="n">plt</span><span class="o">.</span><span class="n">xlabel</span><span class="p">(</span><span class="s1">&#39;Timestamp&#39;</span><span class="p">)</span>
<span class="n">plt</span><span class="o">.</span><span class="n">ylabel</span><span class="p">(</span><span class="s1">&#39;Bitcoin Value&#39;</span><span class="p">)</span>
<span class="n">plt</span><span class="o">.</span><span class="n">title</span><span class="p">(</span><span class="s1">&#39;Bitcoin Price Prediction&#39;</span><span class="p">)</span>
<span class="n">plt</span><span class="o">.</span><span class="n">savefig</span><span class="p">(</span><span class="n">expr_name</span> <span class="o">+</span> <span class="s1">&#39;.png&#39;</span><span class="p">,</span><span class="n">bbox_inches</span> <span class="o">=</span> <span class="s2">&quot;tight&quot;</span><span class="p">)</span>
</pre></div>

    </div>
</div>
</div>

<div class="output_wrapper">
<div class="output">


<div class="output_area">

    <div class="prompt"></div>




<div class="output_png output_subarea ">
<img src="data:image/png;base64,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
"
>
</div>

</div>

</div>
</div>

</div>
<div class="cell border-box-sizing code_cell rendered">
<div class="input">
<div class="prompt input_prompt">In&nbsp;[14]:</div>
<div class="inner_cell">
    <div class="input_area">
<div class=" highlight hl-ipython3"><pre><span></span><span class="nb">print</span><span class="p">(</span><span class="s1">&#39;-&#39;</span> <span class="o">*</span> <span class="mi">50</span><span class="p">)</span>
<span class="nb">print</span><span class="p">(</span><span class="s1">&#39;Experiment name:&#39;</span><span class="p">,</span> <span class="n">expr_name</span><span class="p">)</span>

<span class="nb">print</span><span class="p">(</span><span class="s1">&#39;-&#39;</span> <span class="o">*</span> <span class="mi">50</span><span class="p">)</span>
<span class="nb">print</span><span class="p">(</span><span class="s1">&#39;look_back days:&#39;</span><span class="p">,</span> <span class="n">look_back</span><span class="o">/</span><span class="mi">24</span><span class="p">)</span>
<span class="nb">print</span><span class="p">(</span><span class="s1">&#39;lstm_layers:&#39;</span><span class="p">,</span> <span class="n">lstm_layers</span><span class="p">)</span>
<span class="nb">print</span><span class="p">(</span><span class="s1">&#39;epochs:&#39;</span><span class="p">,</span> <span class="n">epochs</span><span class="p">)</span>
<span class="nb">print</span><span class="p">(</span><span class="s1">&#39;batch_size:&#39;</span><span class="p">,</span> <span class="n">batch_size</span><span class="p">)</span>
<span class="nb">print</span><span class="p">(</span><span class="s1">&#39;dataset features&#39;</span><span class="p">,</span> <span class="nb">list</span><span class="p">(</span><span class="n">org_df</span><span class="o">.</span><span class="n">columns</span><span class="p">))</span>


<span class="nb">print</span><span class="p">(</span><span class="s1">&#39;-&#39;</span> <span class="o">*</span> <span class="mi">50</span><span class="p">)</span>
<span class="nb">print</span><span class="p">(</span><span class="s1">&#39;Train Score: </span><span class="si">%.2f</span><span class="s1"> RMSE&#39;</span> <span class="o">%</span> <span class="p">(</span><span class="n">trainScore_RMSE</span><span class="p">))</span>
<span class="nb">print</span><span class="p">(</span><span class="s1">&#39;Test Score: </span><span class="si">%.2f</span><span class="s1"> RMSE&#39;</span> <span class="o">%</span> <span class="p">(</span><span class="n">testScore_RMSE</span><span class="p">))</span>

<span class="nb">print</span><span class="p">(</span><span class="s1">&#39;-&#39;</span> <span class="o">*</span> <span class="mi">50</span><span class="p">)</span>
<span class="nb">print</span><span class="p">(</span><span class="s1">&#39;Train Score: </span><span class="si">%.2f</span><span class="s1"> MAE&#39;</span> <span class="o">%</span> <span class="p">(</span><span class="n">trainScore_MAE</span><span class="p">))</span>
<span class="nb">print</span><span class="p">(</span><span class="s1">&#39;Test Score: </span><span class="si">%.2f</span><span class="s1"> MAE&#39;</span> <span class="o">%</span> <span class="p">(</span><span class="n">testScore_MAE</span><span class="p">))</span>

<span class="nb">print</span><span class="p">(</span><span class="s1">&#39;-&#39;</span> <span class="o">*</span> <span class="mi">50</span><span class="p">)</span>
<span class="nb">print</span><span class="p">(</span><span class="s1">&#39;Model summary:&#39;</span><span class="p">)</span>
<span class="n">model</span><span class="o">.</span><span class="n">summary</span><span class="p">()</span>
</pre></div>

    </div>
</div>
</div>

<div class="output_wrapper">
<div class="output">


<div class="output_area">

    <div class="prompt"></div>


<div class="output_subarea output_stream output_stdout output_text">
<pre>--------------------------------------------------
Experiment name: expr_14
--------------------------------------------------
look_back days: 120.0
lstm_layers: 64
epochs: 5
batch_size: 64
dataset features [&#39;open_BTCUSDT&#39;, &#39;high_BTCUSDT&#39;, &#39;low_BTCUSDT&#39;, &#39;close_BTCUSDT&#39;, &#39;volume_BTCUSDT&#39;, &#39;close_LTCUSD&#39;, &#39;volume_LTCUSD&#39;, &#39;close_ETHUSD&#39;, &#39;volume_ETHUSD&#39;, &#39;flair&#39;, &#39;tb_polarity&#39;, &#39;tb_subjectivity&#39;, &#39;sid_pos&#39;, &#39;sid_neg&#39;]
--------------------------------------------------
Train Score: 440.89 RMSE
Test Score: 1314.92 RMSE
--------------------------------------------------
Train Score: 350.08 MAE
Test Score: 1308.45 MAE
--------------------------------------------------
Model summary:
Model: &#34;sequential_1&#34;
_________________________________________________________________
Layer (type)                 Output Shape              Param #   
=================================================================
gru_1 (GRU)                  (None, 64)                15168     
_________________________________________________________________
dense_1 (Dense)              (None, 1)                 65        
=================================================================
Total params: 15,233
Trainable params: 15,233
Non-trainable params: 0
_________________________________________________________________
</pre>
</div>
</div>

</div>
</div>

</div>
<div class="cell border-box-sizing code_cell rendered">
<div class="input">
<div class="prompt input_prompt">In&nbsp;[&nbsp;]:</div>
<div class="inner_cell">
    <div class="input_area">
<div class=" highlight hl-ipython3"><pre><span></span> 
</pre></div>

    </div>
</div>
</div>

</div>
    </div>
  </div>
</body>

 


</html>
